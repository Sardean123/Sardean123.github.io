{
 "cells": [
  {
   "cell_type": "code",
   "execution_count": 4,
   "id": "7bcd176b",
   "metadata": {},
   "outputs": [
    {
     "name": "stderr",
     "output_type": "stream",
     "text": [
      "/Users/deancasey/opt/anaconda3/lib/python3.9/site-packages/scipy/__init__.py:146: UserWarning: A NumPy version >=1.16.5 and <1.23.0 is required for this version of SciPy (detected version 1.26.4\n",
      "  warnings.warn(f\"A NumPy version >={np_minversion} and <{np_maxversion}\"\n"
     ]
    }
   ],
   "source": [
    "import pandas as pd\n",
    "import numpy as np\n",
    "from textblob import TextBlob\n",
    "import matplotlib.pyplot as plt"
   ]
  },
  {
   "cell_type": "code",
   "execution_count": 3,
   "id": "5f83afda",
   "metadata": {},
   "outputs": [],
   "source": [
    "# pip install textblob"
   ]
  },
  {
   "cell_type": "code",
   "execution_count": 5,
   "id": "ea4e421d",
   "metadata": {},
   "outputs": [],
   "source": [
    "fox_model_on_fox_text = pd.read_csv('FOX_model_on_FOX_test_100.csv')\n",
    "fox_model_on_cnn_text = pd.read_csv('FOX_model_on_CNN_test_100.csv')\n",
    "cnn_model_on_cnn_text = pd.read_csv('CNN_model_on_CNN_test_100.csv')\n",
    "cnn_model_on_fox_text = pd.read_csv('CNN_model_on_FOX_test_100.csv')"
   ]
  },
  {
   "cell_type": "code",
   "execution_count": 6,
   "id": "f6cfba8e",
   "metadata": {},
   "outputs": [],
   "source": [
    "def sentiment(data, title_type):\n",
    "    polarity = []\n",
    "    subjectivity = []\n",
    "    \n",
    "    for title in data[title_type]:\n",
    "        text = TextBlob(title)\n",
    "        polarity.append(text.sentiment[0])\n",
    "        subjectivity.append(text.sentiment[1])\n",
    "    \n",
    "    return polarity, subjectivity"
   ]
  },
  {
   "cell_type": "code",
   "execution_count": 7,
   "id": "6440de28",
   "metadata": {},
   "outputs": [],
   "source": [
    "# test data, predicted titles\n",
    "fof_polarity, fof_subjectivity = sentiment(fox_model_on_fox_text, 'pred_titles')\n",
    "foc_polarity, foc_subjectivity = sentiment(fox_model_on_cnn_text, 'pred_titles')\n",
    "coc_polarity, coc_subjectivity = sentiment(cnn_model_on_cnn_text, 'pred_titles')\n",
    "cof_polarity, cof_subjectivity = sentiment(cnn_model_on_fox_text, 'pred_titles')"
   ]
  },
  {
   "cell_type": "code",
   "execution_count": 8,
   "id": "da7a4989",
   "metadata": {},
   "outputs": [
    {
     "data": {
      "text/plain": [
       "(0.06839177489177489, 0.22380790043290041)"
      ]
     },
     "execution_count": 8,
     "metadata": {},
     "output_type": "execute_result"
    }
   ],
   "source": [
    "np.mean(fof_polarity), np.mean(fof_subjectivity)"
   ]
  },
  {
   "cell_type": "code",
   "execution_count": 9,
   "id": "551a2a2a",
   "metadata": {},
   "outputs": [
    {
     "data": {
      "text/plain": [
       "(0.2393672605992061, 0.3027631446847925)"
      ]
     },
     "execution_count": 9,
     "metadata": {},
     "output_type": "execute_result"
    }
   ],
   "source": [
    "np.std(fof_polarity), np.std(fof_subjectivity)"
   ]
  },
  {
   "cell_type": "code",
   "execution_count": 10,
   "id": "9bc50c42",
   "metadata": {},
   "outputs": [
    {
     "data": {
      "text/plain": [
       "(0.03911630591630591, 0.21895898268398267)"
      ]
     },
     "execution_count": 10,
     "metadata": {},
     "output_type": "execute_result"
    }
   ],
   "source": [
    "np.mean(foc_polarity), np.mean(foc_subjectivity)"
   ]
  },
  {
   "cell_type": "code",
   "execution_count": 11,
   "id": "be841cdb",
   "metadata": {},
   "outputs": [
    {
     "data": {
      "text/plain": [
       "(0.1905796114161044, 0.2873260110130503)"
      ]
     },
     "execution_count": 11,
     "metadata": {},
     "output_type": "execute_result"
    }
   ],
   "source": [
    "np.std(foc_polarity), np.std(foc_subjectivity)"
   ]
  },
  {
   "cell_type": "code",
   "execution_count": 12,
   "id": "5404509e",
   "metadata": {},
   "outputs": [
    {
     "data": {
      "text/plain": [
       "(0.060442460317460325, 0.23229455266955268)"
      ]
     },
     "execution_count": 12,
     "metadata": {},
     "output_type": "execute_result"
    }
   ],
   "source": [
    "np.mean(coc_polarity), np.mean(coc_subjectivity)"
   ]
  },
  {
   "cell_type": "code",
   "execution_count": 13,
   "id": "840c2b9f",
   "metadata": {},
   "outputs": [
    {
     "data": {
      "text/plain": [
       "(0.22157729512950333, 0.29888456641387146)"
      ]
     },
     "execution_count": 13,
     "metadata": {},
     "output_type": "execute_result"
    }
   ],
   "source": [
    "np.std(coc_polarity), np.std(coc_subjectivity)"
   ]
  },
  {
   "cell_type": "code",
   "execution_count": 14,
   "id": "d31dba22",
   "metadata": {},
   "outputs": [
    {
     "data": {
      "text/plain": [
       "(0.07933621933621934, 0.228363455988456)"
      ]
     },
     "execution_count": 14,
     "metadata": {},
     "output_type": "execute_result"
    }
   ],
   "source": [
    "np.mean(cof_polarity), np.mean(cof_subjectivity)"
   ]
  },
  {
   "cell_type": "code",
   "execution_count": 15,
   "id": "17be870a",
   "metadata": {},
   "outputs": [
    {
     "data": {
      "text/plain": [
       "(0.2350922961465784, 0.3119861164134386)"
      ]
     },
     "execution_count": 15,
     "metadata": {},
     "output_type": "execute_result"
    }
   ],
   "source": [
    "np.std(cof_polarity), np.std(cof_subjectivity)"
   ]
  },
  {
   "cell_type": "code",
   "execution_count": 24,
   "id": "c0c04769",
   "metadata": {},
   "outputs": [
    {
     "data": {
      "text/plain": [
       "(-0.8, 1.0)"
      ]
     },
     "execution_count": 24,
     "metadata": {},
     "output_type": "execute_result"
    }
   ],
   "source": [
    "np.min(fof_polarity), np.max(fof_polarity)"
   ]
  },
  {
   "cell_type": "code",
   "execution_count": null,
   "id": "b1f8a409",
   "metadata": {},
   "outputs": [],
   "source": []
  },
  {
   "cell_type": "code",
   "execution_count": 25,
   "id": "5cd7bb35",
   "metadata": {},
   "outputs": [
    {
     "data": {
      "text/plain": [
       "(-0.8, 1.0)"
      ]
     },
     "execution_count": 25,
     "metadata": {},
     "output_type": "execute_result"
    }
   ],
   "source": [
    "np.min(cof_polarity), np.max(cof_polarity)"
   ]
  },
  {
   "cell_type": "code",
   "execution_count": null,
   "id": "f9893045",
   "metadata": {},
   "outputs": [],
   "source": []
  },
  {
   "cell_type": "code",
   "execution_count": 16,
   "id": "c9945b8b",
   "metadata": {},
   "outputs": [],
   "source": [
    "# look at difference between true and predicted -- hypothesis test\n",
    "# look at difference between CNN and Fox\n",
    "\n",
    "# summarise news sources on topic - this is a relevant thing in a wider context \n",
    "# what does this say about training LLMs on certain bodies of data?\n",
    "# think about definitions of polarity vs subjectivity and what this means in a news context\n",
    "# two levels - 1. human written data dissemenination and how it primes their audience to receive news\n",
    "# 2. LLM/AI - how would this prime their audience differently as well? given bodies of data\n",
    "# important consideration to think about how it is important to have DATA NEUTRALITY - we are exploring this"
   ]
  },
  {
   "cell_type": "code",
   "execution_count": 17,
   "id": "7be09fe2",
   "metadata": {},
   "outputs": [],
   "source": [
    "# for test data, true titles\n",
    "fof_polarity_true, fof_subjectivity_true = sentiment(fox_model_on_fox_text, 'true_titles')\n",
    "foc_polarity_true, foc_subjectivity_true = sentiment(fox_model_on_cnn_text, 'true_titles')\n",
    "coc_polarity_true, coc_subjectivity_true = sentiment(cnn_model_on_cnn_text, 'true_titles')\n",
    "cof_polarity_true, cof_subjectivity_true = sentiment(cnn_model_on_fox_text, 'true_titles')"
   ]
  },
  {
   "cell_type": "code",
   "execution_count": 18,
   "id": "0d9dadd8",
   "metadata": {},
   "outputs": [
    {
     "data": {
      "text/plain": [
       "(0.027575757575757573, 0.21234595959595956)"
      ]
     },
     "execution_count": 18,
     "metadata": {},
     "output_type": "execute_result"
    }
   ],
   "source": [
    "np.mean(fof_polarity_true), np.mean(fof_subjectivity_true)"
   ]
  },
  {
   "cell_type": "code",
   "execution_count": 19,
   "id": "12cf783a",
   "metadata": {},
   "outputs": [
    {
     "data": {
      "text/plain": [
       "(0.04751260822510822, 0.24236821789321789)"
      ]
     },
     "execution_count": 19,
     "metadata": {},
     "output_type": "execute_result"
    }
   ],
   "source": [
    "np.mean(foc_polarity_true), np.mean(foc_subjectivity_true)"
   ]
  },
  {
   "cell_type": "code",
   "execution_count": 20,
   "id": "3bac6b3a",
   "metadata": {},
   "outputs": [
    {
     "data": {
      "text/plain": [
       "(0.04751260822510822, 0.24236821789321789)"
      ]
     },
     "execution_count": 20,
     "metadata": {},
     "output_type": "execute_result"
    }
   ],
   "source": [
    "np.mean(coc_polarity_true), np.mean(coc_subjectivity_true)"
   ]
  },
  {
   "cell_type": "code",
   "execution_count": 21,
   "id": "8fd30f34",
   "metadata": {},
   "outputs": [
    {
     "data": {
      "text/plain": [
       "(0.027575757575757573, 0.21234595959595956)"
      ]
     },
     "execution_count": 21,
     "metadata": {},
     "output_type": "execute_result"
    }
   ],
   "source": [
    "np.mean(cof_polarity_true), np.mean(cof_subjectivity_true)"
   ]
  },
  {
   "cell_type": "code",
   "execution_count": null,
   "id": "3db3524b",
   "metadata": {},
   "outputs": [],
   "source": []
  }
 ],
 "metadata": {
  "kernelspec": {
   "display_name": "Python 3 (ipykernel)",
   "language": "python",
   "name": "python3"
  },
  "language_info": {
   "codemirror_mode": {
    "name": "ipython",
    "version": 3
   },
   "file_extension": ".py",
   "mimetype": "text/x-python",
   "name": "python",
   "nbconvert_exporter": "python",
   "pygments_lexer": "ipython3",
   "version": "3.9.18"
  }
 },
 "nbformat": 4,
 "nbformat_minor": 5
}
