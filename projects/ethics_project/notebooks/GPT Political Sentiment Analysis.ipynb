{
 "cells": [
  {
   "cell_type": "code",
   "execution_count": 47,
   "id": "a2f5f868",
   "metadata": {},
   "outputs": [],
   "source": [
    "import pandas as pd\n",
    "import numpy as np\n",
    "import matplotlib.pyplot as plt\n",
    "from collections import Counter\n",
    "import seaborn as sns\n",
    "import scipy.stats as stats\n",
    "from scipy.stats import ttest_ind"
   ]
  },
  {
   "cell_type": "code",
   "execution_count": 2,
   "id": "cd108257",
   "metadata": {},
   "outputs": [],
   "source": [
    "# !pip install --upgrade openai"
   ]
  },
  {
   "cell_type": "code",
   "execution_count": 3,
   "id": "7a146f34",
   "metadata": {},
   "outputs": [],
   "source": [
    "fox_model_on_fox_text = pd.read_csv('FOX_model_on_FOX_test_100.csv')\n",
    "fox_model_on_cnn_text = pd.read_csv('FOX_model_on_CNN_test_100.csv')\n",
    "cnn_model_on_cnn_text = pd.read_csv('CNN_model_on_CNN_test_100.csv')\n",
    "cnn_model_on_fox_text = pd.read_csv('CNN_model_on_FOX_test_100.csv')"
   ]
  },
  {
   "cell_type": "code",
   "execution_count": 4,
   "id": "fcd70c4d",
   "metadata": {},
   "outputs": [],
   "source": [
    "fox_model_on_fox_text['pred_title_length'] = fox_model_on_fox_text['pred_titles'].str.len()\n",
    "fox_model_on_cnn_text['pred_title_length'] = fox_model_on_cnn_text['pred_titles'].str.len()\n",
    "cnn_model_on_cnn_text['pred_title_length'] = cnn_model_on_cnn_text['pred_titles'].str.len()\n",
    "cnn_model_on_fox_text['pred_title_length'] = cnn_model_on_fox_text['pred_titles'].str.len()"
   ]
  },
  {
   "cell_type": "code",
   "execution_count": 5,
   "id": "1a8eda56",
   "metadata": {},
   "outputs": [],
   "source": [
    "key = #Insert your OpenAI API key"
   ]
  },
  {
   "cell_type": "code",
   "execution_count": 6,
   "id": "c1ccae53",
   "metadata": {},
   "outputs": [],
   "source": [
    "import os\n",
    "os.environ[\"OPENAI_API_KEY\"] = key"
   ]
  },
  {
   "cell_type": "code",
   "execution_count": 7,
   "id": "0748538e",
   "metadata": {},
   "outputs": [],
   "source": [
    "import openai\n",
    "from openai import OpenAI"
   ]
  },
  {
   "cell_type": "code",
   "execution_count": 8,
   "id": "99c6d68a",
   "metadata": {},
   "outputs": [],
   "source": [
    "client = OpenAI(\n",
    "    api_key=os.environ.get(key),\n",
    ")"
   ]
  },
  {
   "cell_type": "code",
   "execution_count": 9,
   "id": "735bb8f2",
   "metadata": {},
   "outputs": [],
   "source": [
    "def ask_chatgpt(prompt, model=\"gpt-4\", temperature=1):\n",
    "    response = client.chat.completions.create(\n",
    "        model=model,\n",
    "        messages=[\n",
    "            {\"role\": \"system\", \"content\": \"You are ChatGPT, a helpful assistant \\\n",
    "             who performs political bias sentiment analysis, classifying headlines \\\n",
    "             as either 'liberal', 'conservative', or 'neutral'.\"},\n",
    "            {\"role\": \"user\", \"content\": f\"In one word, all lower-case, classify the political bias sentiment\\\n",
    "            based on this headline:{prompt}\"}\n",
    "        ],\n",
    "        temperature=temperature,\n",
    "        #max_tokens = 10\n",
    "    )\n",
    "    return response"
   ]
  },
  {
   "cell_type": "code",
   "execution_count": 10,
   "id": "190bdc26",
   "metadata": {},
   "outputs": [],
   "source": [
    "gpt_test0 = fox_model_on_fox_text['pred_titles'][0]\n",
    "gpt_test1 = fox_model_on_fox_text['pred_titles'][1]\n",
    "gpt_test2 = fox_model_on_fox_text['pred_titles'][2]"
   ]
  },
  {
   "cell_type": "code",
   "execution_count": 11,
   "id": "853ad730",
   "metadata": {},
   "outputs": [
    {
     "data": {
      "text/plain": [
       "'McMullin campaign paid over $1.6 million to Democratic firms, uses ActBlue'"
      ]
     },
     "execution_count": 11,
     "metadata": {},
     "output_type": "execute_result"
    }
   ],
   "source": [
    "gpt_test0"
   ]
  },
  {
   "cell_type": "code",
   "execution_count": 12,
   "id": "98902ec9",
   "metadata": {},
   "outputs": [],
   "source": [
    "# fox_model_on_fox_text\n",
    "# fox_model_on_cnn_text\n",
    "# cnn_model_on_cnn_text\n",
    "# cnn_model_on_fox_text"
   ]
  },
  {
   "cell_type": "code",
   "execution_count": 13,
   "id": "bc1d6fec",
   "metadata": {},
   "outputs": [],
   "source": [
    "response0 = ask_chatgpt(gpt_test0)\n",
    "response1 = ask_chatgpt(gpt_test1)\n",
    "response2 = ask_chatgpt(gpt_test2)\n",
    "\n",
    "# #print(response0)"
   ]
  },
  {
   "cell_type": "code",
   "execution_count": 14,
   "id": "6a9ced43",
   "metadata": {},
   "outputs": [],
   "source": [
    "# response0"
   ]
  },
  {
   "cell_type": "code",
   "execution_count": 15,
   "id": "6fd0865b",
   "metadata": {},
   "outputs": [],
   "source": [
    "# from pprint import pprint\n",
    "# pprint(response.model_dump())"
   ]
  },
  {
   "cell_type": "code",
   "execution_count": 16,
   "id": "c2cad93c",
   "metadata": {},
   "outputs": [
    {
     "name": "stdout",
     "output_type": "stream",
     "text": [
      "conservative\n",
      "conservative\n",
      "neutral\n"
     ]
    }
   ],
   "source": [
    "def get_chat_response_content(response):\n",
    "    # Accessing the content of the message from the response\n",
    "    if response.choices and response.choices[0].message:\n",
    "        message_content = response.choices[0].message.content\n",
    "    else:\n",
    "        message_content = \"No response generated.\"\n",
    "    return message_content\n",
    "\n",
    "content0 = get_chat_response_content(response0)\n",
    "print(content0)\n",
    "content1 = get_chat_response_content(response1)\n",
    "print(content1)\n",
    "content2 = get_chat_response_content(response2)\n",
    "print(content2)"
   ]
  },
  {
   "cell_type": "code",
   "execution_count": 17,
   "id": "dea7432e",
   "metadata": {},
   "outputs": [],
   "source": [
    "def gpt_pipeline(LLM):\n",
    "    result = []\n",
    "    for i, title in enumerate(LLM['pred_titles']):\n",
    "        #if i%10 == 0:\n",
    "            #print(f\"Epoch: {i}\")\n",
    "        response = ask_chatgpt(title)\n",
    "        content = get_chat_response_content(response)\n",
    "        result.append(content)\n",
    "    return result"
   ]
  },
  {
   "cell_type": "code",
   "execution_count": 18,
   "id": "83d9866f",
   "metadata": {},
   "outputs": [],
   "source": [
    "all_models = [fox_model_on_fox_text,fox_model_on_cnn_text,cnn_model_on_cnn_text,cnn_model_on_fox_text]"
   ]
  },
  {
   "cell_type": "code",
   "execution_count": 19,
   "id": "c101df2b",
   "metadata": {},
   "outputs": [],
   "source": [
    "model_names = ['fox_model_on_fox_text','fox_model_on_cnn_text','cnn_model_on_cnn_text','cnn_model_on_fox_text']"
   ]
  },
  {
   "cell_type": "code",
   "execution_count": 29,
   "id": "538fd049",
   "metadata": {},
   "outputs": [],
   "source": [
    "all_models_sample = [fox_model_on_fox_text[:3],\n",
    "                     fox_model_on_cnn_text[:3],\n",
    "                     cnn_model_on_cnn_text[:3],\n",
    "                     cnn_model_on_fox_text[:3]]"
   ]
  },
  {
   "cell_type": "code",
   "execution_count": 33,
   "id": "a808319c",
   "metadata": {},
   "outputs": [],
   "source": [
    "def bootstrap_gpt_outputs(models_lst,model_names,num_iter):\n",
    "    results = {name: {'conservative': [], 'liberal': [], 'neutral': []} for name in model_names}\n",
    "\n",
    "    for run in range(num_iter):\n",
    "        for i, model in enumerate(models_lst):\n",
    "            counts = {'conservative': 0, 'liberal': 0, 'neutral': 0, 'other': 0}\n",
    "\n",
    "            gpt_output = gpt_pipeline(model)\n",
    "            \n",
    "            for response in gpt_output:\n",
    "                category = response.lower()\n",
    "                if category in counts:\n",
    "                    counts[category] += 1\n",
    "                else:\n",
    "                    category['other'] += 1\n",
    "                    \n",
    "            for category in ['conservative', 'liberal', 'neutral']:\n",
    "                results[model_names[i]][category].append(counts[category])\n",
    "\n",
    "    return results        "
   ]
  },
  {
   "cell_type": "code",
   "execution_count": 34,
   "id": "380f24bb",
   "metadata": {},
   "outputs": [],
   "source": [
    "bootstrapped_results = bootstrap_gpt_outputs(all_models,model_names,20)"
   ]
  },
  {
   "cell_type": "code",
   "execution_count": 46,
   "id": "e4056ab1",
   "metadata": {},
   "outputs": [],
   "source": [
    "#bootstrapped_results"
   ]
  },
  {
   "cell_type": "code",
   "execution_count": 36,
   "id": "f2eb877d",
   "metadata": {},
   "outputs": [],
   "source": [
    "bootstrapped_results_df = pd.DataFrame(bootstrapped_results)"
   ]
  },
  {
   "cell_type": "code",
   "execution_count": 37,
   "id": "38b0ddb3",
   "metadata": {},
   "outputs": [],
   "source": [
    "bootstrapped_results_df.to_csv('bootstrapped_results_df.csv')"
   ]
  },
  {
   "cell_type": "code",
   "execution_count": 65,
   "id": "bc183cce",
   "metadata": {},
   "outputs": [],
   "source": [
    "new_order = ['fox_model_on_fox_text', \n",
    "             'cnn_model_on_fox_text', \n",
    "             'fox_model_on_cnn_text',\n",
    "             'cnn_model_on_cnn_text']"
   ]
  },
  {
   "cell_type": "code",
   "execution_count": 66,
   "id": "40ed13c1",
   "metadata": {},
   "outputs": [],
   "source": [
    "bootstrapped_results_df = bootstrapped_results_df[new_order]"
   ]
  },
  {
   "cell_type": "code",
   "execution_count": 73,
   "id": "97a90879",
   "metadata": {},
   "outputs": [
    {
     "data": {
      "image/png": "[encoded data removed]",
      "text/plain": [
       "<Figure size 1000x600 with 1 Axes>"
      ]
     },
     "metadata": {},
     "output_type": "display_data"
    }
   ],
   "source": [
    "dfs = []\n",
    "for model_text, categories in bootstrapped_results.items():\n",
    "    for category, values in categories.items():\n",
    "        df = pd.DataFrame({\n",
    "            'Model_Text': model_text,\n",
    "            'Category': category,\n",
    "            'Values': values\n",
    "        })\n",
    "        dfs.append(df)\n",
    "df = pd.concat(dfs, ignore_index=True)\n",
    "\n",
    "summary_stats = df.groupby(['Model_Text', 'Category']).agg(['mean', 'std', 'median'])\n",
    "new_labels = ['fox_m_fox_t', 'cnn_m_fox_t', 'fox_m_cnn_t', 'cnn_m_cnn_t']\n",
    "\n",
    "\n",
    "plt.figure(figsize=(10,6))\n",
    "sns.boxplot(x='Model_Text', y='Values', hue='Category', data=df,order=new_order)\n",
    "plt.xticks(ticks=range(len(new_labels)), labels=new_labels)\n",
    "plt.title('Distribution of Sentiment Categories across Models and Texts')\n",
    "plt.savefig(\"LLM_boxplot.png\")\n",
    "plt.show()"
   ]
  },
  {
   "cell_type": "code",
   "execution_count": 71,
   "id": "e6737f29",
   "metadata": {},
   "outputs": [
    {
     "data": {
      "image/png": "[encoded data removed]",
      "text/plain": [
       "<Figure size 1339.25x800 with 4 Axes>"
      ]
     },
     "metadata": {},
     "output_type": "display_data"
    }
   ],
   "source": [
    "g = sns.FacetGrid(df, col=\"Model_Text\", hue=\"Category\", col_wrap=2, height=4, aspect=1.5,col_order=new_order)\n",
    "g.map(sns.histplot, \"Values\", bins=10, kde=False)\n",
    "\n",
    "g.add_legend()\n",
    "\n",
    "g.set_titles(\"{col_name}\")\n",
    "g.set_axis_labels(\"Counts\", \"Frequency\")\n",
    "plt.show()\n",
    "g.savefig(\"LLM_histogram_plot.png\")"
   ]
  },
  {
   "cell_type": "code",
   "execution_count": 45,
   "id": "a00429f6",
   "metadata": {},
   "outputs": [
    {
     "data": {
      "text/plain": [
       "(                                   Values                 \n",
       "                                      mean       std median\n",
       " Model_Text            Category                            \n",
       " cnn_model_on_cnn_text conservative  16.30  1.218282   16.0\n",
       "                       liberal       32.80  1.105013   33.0\n",
       "                       neutral       50.90  1.447321   51.0\n",
       " cnn_model_on_fox_text conservative  28.90  1.713722   29.0\n",
       "                       liberal       24.10  1.020836   24.0\n",
       "                       neutral       47.00  1.450953   47.0\n",
       " fox_model_on_cnn_text conservative  22.65  2.254236   23.0\n",
       "                       liberal       37.35  2.007224   37.5\n",
       "                       neutral       40.00  1.747178   40.0\n",
       " fox_model_on_fox_text conservative  33.55  1.700619   33.0\n",
       "                       liberal       22.15  1.460894   23.0\n",
       "                       neutral       44.30  1.380313   44.0,\n",
       " {'fox_model_on_fox_text': F_onewayResult(statistic=1062.0163249810116, pvalue=7.772516045443824e-46),\n",
       "  'fox_model_on_cnn_text': F_onewayResult(statistic=430.92016443098333, pvalue=3.8912757012066186e-35),\n",
       "  'cnn_model_on_cnn_text': F_onewayResult(statistic=3743.791666666712, pvalue=3.3871035973259405e-61),\n",
       "  'cnn_model_on_fox_text': F_onewayResult(statistic=1438.2474048442978, pvalue=1.6670616027376773e-49)})"
      ]
     },
     "execution_count": 45,
     "metadata": {},
     "output_type": "execute_result"
    }
   ],
   "source": [
    "summary_stats = df.groupby(['Model_Text', 'Category']).agg(['mean', 'std', 'median'])\n",
    "\n",
    "# Perform ANOVA to test for significant differences among categories within each model-text combination\n",
    "anova_results = {}\n",
    "for model_text in df['Model_Text'].unique():\n",
    "    model_data = df[df['Model_Text'] == model_text]\n",
    "    grouped_data = [model_data['Values'][model_data['Category'] == cat].values for cat in model_data['Category'].unique()]\n",
    "    anova = stats.f_oneway(*grouped_data)\n",
    "    anova_results[model_text] = anova\n",
    "\n",
    "summary_stats, anova_results"
   ]
  },
  {
   "cell_type": "code",
   "execution_count": 50,
   "id": "bb2a0123",
   "metadata": {},
   "outputs": [
    {
     "name": "stdout",
     "output_type": "stream",
     "text": [
      "fox_text\n",
      "fox_model_on_fox_text cnn_model_on_fox_text\n",
      "cnn_text\n",
      "fox_model_on_cnn_text cnn_model_on_cnn_text\n"
     ]
    }
   ],
   "source": [
    "for text, model1, model2 in texts:\n",
    "    print(text)\n",
    "    print(model1, model2)"
   ]
  },
  {
   "cell_type": "code",
   "execution_count": 48,
   "id": "c5904d15",
   "metadata": {},
   "outputs": [
    {
     "data": {
      "text/plain": [
       "{'fox_text': {'conservative': {'t-statistic': 8.613365644165484,\n",
       "   'p-value': 1.8211601394015537e-10},\n",
       "  'liberal': {'t-statistic': -4.893141472655047,\n",
       "   'p-value': 1.8527077290697094e-05},\n",
       "  'neutral': {'t-statistic': -6.029455258036293,\n",
       "   'p-value': 5.186993910404674e-07}},\n",
       " 'cnn_text': {'conservative': {'t-statistic': 11.082691555042409,\n",
       "   'p-value': 1.8177796390351625e-13},\n",
       "  'liberal': {'t-statistic': 8.88069066383166,\n",
       "   'p-value': 8.303584445205464e-11},\n",
       "  'neutral': {'t-statistic': -21.485668405480563,\n",
       "   'p-value': 7.361741465836668e-23}}}"
      ]
     },
     "execution_count": 48,
     "metadata": {},
     "output_type": "execute_result"
    }
   ],
   "source": [
    "results = {}\n",
    "texts = [('fox_text', 'fox_model_on_fox_text', 'cnn_model_on_fox_text'), \n",
    "         ('cnn_text', 'fox_model_on_cnn_text', 'cnn_model_on_cnn_text')]\n",
    "\n",
    "for text, model1, model2 in texts:\n",
    "    results[text] = {}\n",
    "    for category in ['conservative', 'liberal', 'neutral']:\n",
    "        score1 = bootstrapped_results[model1][category]\n",
    "        score2 = bootstrapped_results[model2][category]\n",
    "        t_stat, p_value = ttest_ind(score1, score2)\n",
    "        results[text][category] = {'t-statistic': t_stat, 'p-value': p_value}\n",
    "\n",
    "results"
   ]
  },
  {
   "cell_type": "code",
   "execution_count": 51,
   "id": "86088f2e",
   "metadata": {},
   "outputs": [
    {
     "data": {
      "text/html": [
       "<div>\n",
       "<style scoped>\n",
       "    .dataframe tbody tr th:only-of-type {\n",
       "        vertical-align: middle;\n",
       "    }\n",
       "\n",
       "    .dataframe tbody tr th {\n",
       "        vertical-align: top;\n",
       "    }\n",
       "\n",
       "    .dataframe thead th {\n",
       "        text-align: right;\n",
       "    }\n",
       "</style>\n",
       "<table border=\"1\" class=\"dataframe\">\n",
       "  <thead>\n",
       "    <tr style=\"text-align: right;\">\n",
       "      <th></th>\n",
       "      <th>Text</th>\n",
       "      <th>Category</th>\n",
       "      <th>T-statistic</th>\n",
       "      <th>P-value</th>\n",
       "    </tr>\n",
       "  </thead>\n",
       "  <tbody>\n",
       "    <tr>\n",
       "      <th>0</th>\n",
       "      <td>fox_text</td>\n",
       "      <td>conservative</td>\n",
       "      <td>8.613366</td>\n",
       "      <td>1.821160e-10</td>\n",
       "    </tr>\n",
       "    <tr>\n",
       "      <th>1</th>\n",
       "      <td>fox_text</td>\n",
       "      <td>liberal</td>\n",
       "      <td>-4.893141</td>\n",
       "      <td>1.852708e-05</td>\n",
       "    </tr>\n",
       "    <tr>\n",
       "      <th>2</th>\n",
       "      <td>fox_text</td>\n",
       "      <td>neutral</td>\n",
       "      <td>-6.029455</td>\n",
       "      <td>5.186994e-07</td>\n",
       "    </tr>\n",
       "    <tr>\n",
       "      <th>3</th>\n",
       "      <td>cnn_text</td>\n",
       "      <td>conservative</td>\n",
       "      <td>11.082692</td>\n",
       "      <td>1.817780e-13</td>\n",
       "    </tr>\n",
       "    <tr>\n",
       "      <th>4</th>\n",
       "      <td>cnn_text</td>\n",
       "      <td>liberal</td>\n",
       "      <td>8.880691</td>\n",
       "      <td>8.303584e-11</td>\n",
       "    </tr>\n",
       "    <tr>\n",
       "      <th>5</th>\n",
       "      <td>cnn_text</td>\n",
       "      <td>neutral</td>\n",
       "      <td>-21.485668</td>\n",
       "      <td>7.361741e-23</td>\n",
       "    </tr>\n",
       "  </tbody>\n",
       "</table>\n",
       "</div>"
      ],
      "text/plain": [
       "       Text      Category  T-statistic       P-value\n",
       "0  fox_text  conservative     8.613366  1.821160e-10\n",
       "1  fox_text       liberal    -4.893141  1.852708e-05\n",
       "2  fox_text       neutral    -6.029455  5.186994e-07\n",
       "3  cnn_text  conservative    11.082692  1.817780e-13\n",
       "4  cnn_text       liberal     8.880691  8.303584e-11\n",
       "5  cnn_text       neutral   -21.485668  7.361741e-23"
      ]
     },
     "execution_count": 51,
     "metadata": {},
     "output_type": "execute_result"
    }
   ],
   "source": [
    "rows = []\n",
    "for text, categories in results.items():\n",
    "    for category, stats in categories.items():\n",
    "        row = {\n",
    "            'Text': text,\n",
    "            'Category': category,\n",
    "            'T-statistic': stats['t-statistic'],\n",
    "            'P-value': stats['p-value']\n",
    "        }\n",
    "        rows.append(row)\n",
    "\n",
    "results_df = pd.DataFrame(rows)\n",
    "results_df"
   ]
  },
  {
   "cell_type": "code",
   "execution_count": 52,
   "id": "5e5fde96",
   "metadata": {},
   "outputs": [],
   "source": [
    "results_df.to_csv('LLM_results_df.csv')"
   ]
  },
  {
   "cell_type": "code",
   "execution_count": null,
   "id": "fa742e52",
   "metadata": {},
   "outputs": [],
   "source": []
  }
 ],
 "metadata": {
  "kernelspec": {
   "display_name": "Python 3 (ipykernel)",
   "language": "python",
   "name": "python3"
  },
  "language_info": {
   "codemirror_mode": {
    "name": "ipython",
    "version": 3
   },
   "file_extension": ".py",
   "mimetype": "text/x-python",
   "name": "python",
   "nbconvert_exporter": "python",
   "pygments_lexer": "ipython3",
   "version": "3.11.9"
  }
 },
 "nbformat": 4,
 "nbformat_minor": 5
}
