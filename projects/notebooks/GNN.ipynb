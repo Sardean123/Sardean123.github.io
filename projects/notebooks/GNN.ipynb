{
  "cells": [
    {
      "cell_type": "code",
      "execution_count": 1,
      "metadata": {
        "colab": {
          "base_uri": "https://localhost:8080/"
        },
        "id": "bEQmU7ly0qog",
        "outputId": "77331313-bb91-4e9f-e9bd-7b742a8f6602"
      },
      "outputs": [
        {
          "name": "stdout",
          "output_type": "stream",
          "text": [
            "Requirement already satisfied: torch_geometric in /Library/Frameworks/Python.framework/Versions/3.11/lib/python3.11/site-packages (2.6.1)\n",
            "Requirement already satisfied: aiohttp in /Library/Frameworks/Python.framework/Versions/3.11/lib/python3.11/site-packages (from torch_geometric) (3.11.8)\n",
            "Requirement already satisfied: fsspec in /Library/Frameworks/Python.framework/Versions/3.11/lib/python3.11/site-packages (from torch_geometric) (2024.9.0)\n",
            "Requirement already satisfied: jinja2 in /Library/Frameworks/Python.framework/Versions/3.11/lib/python3.11/site-packages (from torch_geometric) (3.1.4)\n",
            "Requirement already satisfied: numpy in /Library/Frameworks/Python.framework/Versions/3.11/lib/python3.11/site-packages (from torch_geometric) (2.1.3)\n",
            "Requirement already satisfied: psutil>=5.8.0 in /Library/Frameworks/Python.framework/Versions/3.11/lib/python3.11/site-packages (from torch_geometric) (6.0.0)\n",
            "Requirement already satisfied: pyparsing in /Library/Frameworks/Python.framework/Versions/3.11/lib/python3.11/site-packages (from torch_geometric) (3.1.4)\n",
            "Requirement already satisfied: requests in /Library/Frameworks/Python.framework/Versions/3.11/lib/python3.11/site-packages (from torch_geometric) (2.32.3)\n",
            "Requirement already satisfied: tqdm in /Library/Frameworks/Python.framework/Versions/3.11/lib/python3.11/site-packages (from torch_geometric) (4.67.1)\n",
            "Requirement already satisfied: aiohappyeyeballs>=2.3.0 in /Library/Frameworks/Python.framework/Versions/3.11/lib/python3.11/site-packages (from aiohttp->torch_geometric) (2.4.4)\n",
            "Requirement already satisfied: aiosignal>=1.1.2 in /Library/Frameworks/Python.framework/Versions/3.11/lib/python3.11/site-packages (from aiohttp->torch_geometric) (1.3.1)\n",
            "Requirement already satisfied: attrs>=17.3.0 in /Library/Frameworks/Python.framework/Versions/3.11/lib/python3.11/site-packages (from aiohttp->torch_geometric) (24.2.0)\n",
            "Requirement already satisfied: frozenlist>=1.1.1 in /Library/Frameworks/Python.framework/Versions/3.11/lib/python3.11/site-packages (from aiohttp->torch_geometric) (1.5.0)\n",
            "Requirement already satisfied: multidict<7.0,>=4.5 in /Library/Frameworks/Python.framework/Versions/3.11/lib/python3.11/site-packages (from aiohttp->torch_geometric) (6.1.0)\n",
            "Requirement already satisfied: propcache>=0.2.0 in /Library/Frameworks/Python.framework/Versions/3.11/lib/python3.11/site-packages (from aiohttp->torch_geometric) (0.2.0)\n",
            "Requirement already satisfied: yarl<2.0,>=1.17.0 in /Library/Frameworks/Python.framework/Versions/3.11/lib/python3.11/site-packages (from aiohttp->torch_geometric) (1.18.0)\n",
            "Requirement already satisfied: MarkupSafe>=2.0 in /Library/Frameworks/Python.framework/Versions/3.11/lib/python3.11/site-packages (from jinja2->torch_geometric) (2.1.5)\n",
            "Requirement already satisfied: charset-normalizer<4,>=2 in /Library/Frameworks/Python.framework/Versions/3.11/lib/python3.11/site-packages (from requests->torch_geometric) (3.3.2)\n",
            "Requirement already satisfied: idna<4,>=2.5 in /Library/Frameworks/Python.framework/Versions/3.11/lib/python3.11/site-packages (from requests->torch_geometric) (3.10)\n",
            "Requirement already satisfied: urllib3<3,>=1.21.1 in /Library/Frameworks/Python.framework/Versions/3.11/lib/python3.11/site-packages (from requests->torch_geometric) (2.2.3)\n",
            "Requirement already satisfied: certifi>=2017.4.17 in /Library/Frameworks/Python.framework/Versions/3.11/lib/python3.11/site-packages (from requests->torch_geometric) (2024.8.30)\n",
            "Requirement already satisfied: ogb in /Library/Frameworks/Python.framework/Versions/3.11/lib/python3.11/site-packages (1.3.6)\n",
            "Requirement already satisfied: torch>=1.6.0 in /Library/Frameworks/Python.framework/Versions/3.11/lib/python3.11/site-packages (from ogb) (2.5.1)\n",
            "Requirement already satisfied: numpy>=1.16.0 in /Library/Frameworks/Python.framework/Versions/3.11/lib/python3.11/site-packages (from ogb) (2.1.3)\n",
            "Requirement already satisfied: tqdm>=4.29.0 in /Library/Frameworks/Python.framework/Versions/3.11/lib/python3.11/site-packages (from ogb) (4.67.1)\n",
            "Requirement already satisfied: scikit-learn>=0.20.0 in /Library/Frameworks/Python.framework/Versions/3.11/lib/python3.11/site-packages (from ogb) (1.5.2)\n",
            "Requirement already satisfied: pandas>=0.24.0 in /Library/Frameworks/Python.framework/Versions/3.11/lib/python3.11/site-packages (from ogb) (2.2.3)\n",
            "Requirement already satisfied: six>=1.12.0 in /Library/Frameworks/Python.framework/Versions/3.11/lib/python3.11/site-packages (from ogb) (1.16.0)\n",
            "Requirement already satisfied: urllib3>=1.24.0 in /Library/Frameworks/Python.framework/Versions/3.11/lib/python3.11/site-packages (from ogb) (2.2.3)\n",
            "Requirement already satisfied: outdated>=0.2.0 in /Library/Frameworks/Python.framework/Versions/3.11/lib/python3.11/site-packages (from ogb) (0.2.2)\n",
            "Requirement already satisfied: setuptools>=44 in /Library/Frameworks/Python.framework/Versions/3.11/lib/python3.11/site-packages (from outdated>=0.2.0->ogb) (65.5.0)\n",
            "Requirement already satisfied: littleutils in /Library/Frameworks/Python.framework/Versions/3.11/lib/python3.11/site-packages (from outdated>=0.2.0->ogb) (0.2.4)\n",
            "Requirement already satisfied: requests in /Library/Frameworks/Python.framework/Versions/3.11/lib/python3.11/site-packages (from outdated>=0.2.0->ogb) (2.32.3)\n",
            "Requirement already satisfied: python-dateutil>=2.8.2 in /Library/Frameworks/Python.framework/Versions/3.11/lib/python3.11/site-packages (from pandas>=0.24.0->ogb) (2.9.0.post0)\n",
            "Requirement already satisfied: pytz>=2020.1 in /Library/Frameworks/Python.framework/Versions/3.11/lib/python3.11/site-packages (from pandas>=0.24.0->ogb) (2024.2)\n",
            "Requirement already satisfied: tzdata>=2022.7 in /Library/Frameworks/Python.framework/Versions/3.11/lib/python3.11/site-packages (from pandas>=0.24.0->ogb) (2024.2)\n",
            "Requirement already satisfied: scipy>=1.6.0 in /Library/Frameworks/Python.framework/Versions/3.11/lib/python3.11/site-packages (from scikit-learn>=0.20.0->ogb) (1.14.1)\n",
            "Requirement already satisfied: joblib>=1.2.0 in /Library/Frameworks/Python.framework/Versions/3.11/lib/python3.11/site-packages (from scikit-learn>=0.20.0->ogb) (1.4.2)\n",
            "Requirement already satisfied: threadpoolctl>=3.1.0 in /Library/Frameworks/Python.framework/Versions/3.11/lib/python3.11/site-packages (from scikit-learn>=0.20.0->ogb) (3.5.0)\n",
            "Requirement already satisfied: filelock in /Library/Frameworks/Python.framework/Versions/3.11/lib/python3.11/site-packages (from torch>=1.6.0->ogb) (3.16.1)\n",
            "Requirement already satisfied: typing-extensions>=4.8.0 in /Library/Frameworks/Python.framework/Versions/3.11/lib/python3.11/site-packages (from torch>=1.6.0->ogb) (4.12.2)\n",
            "Requirement already satisfied: networkx in /Library/Frameworks/Python.framework/Versions/3.11/lib/python3.11/site-packages (from torch>=1.6.0->ogb) (3.3)\n",
            "Requirement already satisfied: jinja2 in /Library/Frameworks/Python.framework/Versions/3.11/lib/python3.11/site-packages (from torch>=1.6.0->ogb) (3.1.4)\n",
            "Requirement already satisfied: fsspec in /Library/Frameworks/Python.framework/Versions/3.11/lib/python3.11/site-packages (from torch>=1.6.0->ogb) (2024.9.0)\n",
            "Requirement already satisfied: sympy==1.13.1 in /Library/Frameworks/Python.framework/Versions/3.11/lib/python3.11/site-packages (from torch>=1.6.0->ogb) (1.13.1)\n",
            "Requirement already satisfied: mpmath<1.4,>=1.1.0 in /Library/Frameworks/Python.framework/Versions/3.11/lib/python3.11/site-packages (from sympy==1.13.1->torch>=1.6.0->ogb) (1.3.0)\n",
            "Requirement already satisfied: MarkupSafe>=2.0 in /Library/Frameworks/Python.framework/Versions/3.11/lib/python3.11/site-packages (from jinja2->torch>=1.6.0->ogb) (2.1.5)\n",
            "Requirement already satisfied: charset-normalizer<4,>=2 in /Library/Frameworks/Python.framework/Versions/3.11/lib/python3.11/site-packages (from requests->outdated>=0.2.0->ogb) (3.3.2)\n",
            "Requirement already satisfied: idna<4,>=2.5 in /Library/Frameworks/Python.framework/Versions/3.11/lib/python3.11/site-packages (from requests->outdated>=0.2.0->ogb) (3.10)\n",
            "Requirement already satisfied: certifi>=2017.4.17 in /Library/Frameworks/Python.framework/Versions/3.11/lib/python3.11/site-packages (from requests->outdated>=0.2.0->ogb) (2024.8.30)\n"
          ]
        }
      ],
      "source": [
        "!pip install torch_geometric\n",
        "!pip install ogb"
      ]
    },
    {
      "cell_type": "code",
      "execution_count": 2,
      "metadata": {
        "id": "uYzLy5QEEX1P"
      },
      "outputs": [
        {
          "name": "stderr",
          "output_type": "stream",
          "text": [
            "/Library/Frameworks/Python.framework/Versions/3.11/lib/python3.11/site-packages/torch_geometric/typing.py:86: UserWarning: An issue occurred while importing 'torch-scatter'. Disabling its usage. Stacktrace: dlopen(/Library/Frameworks/Python.framework/Versions/3.11/lib/python3.11/site-packages/torch_scatter/_version_cpu.so, 0x0006): symbol not found in flat namespace '__ZN3c1017RegisterOperatorsD1Ev'\n",
            "  warnings.warn(f\"An issue occurred while importing 'torch-scatter'. \"\n",
            "/Library/Frameworks/Python.framework/Versions/3.11/lib/python3.11/site-packages/torch_geometric/typing.py:97: UserWarning: An issue occurred while importing 'torch-cluster'. Disabling its usage. Stacktrace: dlopen(/Library/Frameworks/Python.framework/Versions/3.11/lib/python3.11/site-packages/torch_cluster/_version_cpu.so, 0x0006): symbol not found in flat namespace '__ZN3c1017RegisterOperatorsD1Ev'\n",
            "  warnings.warn(f\"An issue occurred while importing 'torch-cluster'. \"\n",
            "/Library/Frameworks/Python.framework/Versions/3.11/lib/python3.11/site-packages/torch_geometric/typing.py:113: UserWarning: An issue occurred while importing 'torch-spline-conv'. Disabling its usage. Stacktrace: dlopen(/Library/Frameworks/Python.framework/Versions/3.11/lib/python3.11/site-packages/torch_spline_conv/_version_cpu.so, 0x0006): symbol not found in flat namespace '__ZN3c1017RegisterOperatorsD1Ev'\n",
            "  warnings.warn(\n",
            "/Library/Frameworks/Python.framework/Versions/3.11/lib/python3.11/site-packages/torch_geometric/typing.py:124: UserWarning: An issue occurred while importing 'torch-sparse'. Disabling its usage. Stacktrace: dlopen(/Library/Frameworks/Python.framework/Versions/3.11/lib/python3.11/site-packages/torch_sparse/_version_cpu.so, 0x0006): symbol not found in flat namespace '__ZN3c1017RegisterOperatorsD1Ev'\n",
            "  warnings.warn(f\"An issue occurred while importing 'torch-sparse'. \"\n"
          ]
        }
      ],
      "source": [
        "import numpy as np\n",
        "import matplotlib.pyplot as plt\n",
        "import pandas as pd\n",
        "\n",
        "import torch\n",
        "import torch.optim as optim\n",
        "import torch.nn as nn\n",
        "import torch.nn.functional as F\n",
        "from torch.nn import Linear\n",
        "\n",
        "\n",
        "import torchvision\n",
        "import torchvision.transforms as transforms\n",
        "\n",
        "import sklearn.metrics as metrics\n",
        "\n",
        "import torch_geometric.nn as pyg_nn\n",
        "from torch_geometric.nn import GCNConv, global_mean_pool\n",
        "from torch_geometric.data import Data\n",
        "from torch_geometric.loader import DataLoader\n",
        "from torch_geometric.datasets import TUDataset\n",
        "\n",
        "import ogb\n",
        "from ogb.nodeproppred import PygNodePropPredDataset\n",
        "from ogb.nodeproppred import Evaluator\n",
        "\n",
        "import gc\n",
        "import psutil"
      ]
    },
    {
      "cell_type": "code",
      "execution_count": 3,
      "metadata": {
        "colab": {
          "base_uri": "https://localhost:8080/"
        },
        "id": "VHkq5JTX0tXk",
        "outputId": "efe57b5a-d3cb-4a97-e2df-7ddaf891332f"
      },
      "outputs": [
        {
          "name": "stdout",
          "output_type": "stream",
          "text": [
            "1.3.6\n"
          ]
        }
      ],
      "source": [
        "print(ogb.__version__)"
      ]
    },
    {
      "cell_type": "code",
      "execution_count": 4,
      "metadata": {
        "colab": {
          "base_uri": "https://localhost:8080/"
        },
        "id": "LpgfBwJ20u4n",
        "outputId": "68713d0f-810d-4ae1-aa15-90f6cc964023"
      },
      "outputs": [
        {
          "name": "stderr",
          "output_type": "stream",
          "text": [
            "/Library/Frameworks/Python.framework/Versions/3.11/lib/python3.11/site-packages/ogb/nodeproppred/dataset_pyg.py:69: FutureWarning: You are using `torch.load` with `weights_only=False` (the current default value), which uses the default pickle module implicitly. It is possible to construct malicious pickle data which will execute arbitrary code during unpickling (See https://github.com/pytorch/pytorch/blob/main/SECURITY.md#untrusted-models for more details). In a future release, the default value for `weights_only` will be flipped to `True`. This limits the functions that could be executed during unpickling. Arbitrary objects will no longer be allowed to be loaded via this mode unless they are explicitly allowlisted by the user via `torch.serialization.add_safe_globals`. We recommend you start setting `weights_only=True` for any use case where you don't have full control of the loaded file. Please open an issue on GitHub for any issues related to this experimental feature.\n",
            "  self.data, self.slices = torch.load(self.processed_paths[0])\n"
          ]
        }
      ],
      "source": [
        "# Research paper dataset\n",
        "dataset = PygNodePropPredDataset(name = \"ogbn-arxiv\")\n",
        "\n",
        "split_idx = dataset.get_idx_split()\n",
        "train_idx, valid_idx, test_idx = split_idx[\"train\"], split_idx[\"valid\"], split_idx[\"test\"]\n",
        "graph = dataset[0] # pyg graph object"
      ]
    },
    {
      "cell_type": "code",
      "execution_count": 5,
      "metadata": {
        "colab": {
          "base_uri": "https://localhost:8080/"
        },
        "id": "xYACGSTpQQO5",
        "outputId": "80a85170-de24-4f09-cf25-8c540e89a75f"
      },
      "outputs": [
        {
          "data": {
            "text/plain": [
              "torch.Size([90941])"
            ]
          },
          "execution_count": 5,
          "metadata": {},
          "output_type": "execute_result"
        }
      ],
      "source": [
        "# Number of training points\n",
        "train_idx.shape"
      ]
    },
    {
      "cell_type": "code",
      "execution_count": 6,
      "metadata": {
        "colab": {
          "base_uri": "https://localhost:8080/",
          "height": 420
        },
        "id": "9a2aKvw7nCsm",
        "outputId": "6730e0ad-da00-4888-9aea-4e67fe427045"
      },
      "outputs": [
        {
          "name": "stdout",
          "output_type": "stream",
          "text": [
            "tensor([ 0,  1,  2,  3,  4,  5,  6,  7,  8,  9, 10, 11, 12, 13, 14, 15, 16, 17,\n",
            "        18, 19, 20, 21, 22, 23, 24, 25, 26, 27, 28, 29, 30, 31, 32, 33, 34, 35,\n",
            "        36, 37, 38, 39])\n"
          ]
        },
        {
          "data": {
            "image/png": "[encoded data removed]",
            "text/plain": [
              "<Figure size 600x400 with 1 Axes>"
            ]
          },
          "metadata": {},
          "output_type": "display_data"
        }
      ],
      "source": [
        "# Number of y labels\n",
        "classes, counts = torch.unique(graph.y, return_counts=True)\n",
        "print(classes)\n",
        "plt.figure(figsize=(6,4))\n",
        "plt.hist(counts)\n",
        "plt.show()"
      ]
    },
    {
      "cell_type": "code",
      "execution_count": 7,
      "metadata": {
        "colab": {
          "base_uri": "https://localhost:8080/"
        },
        "id": "2Ql0-yej0xYx",
        "outputId": "d45fcd4b-6ce0-4bed-a530-ef1da3161ffe"
      },
      "outputs": [
        {
          "name": "stdout",
          "output_type": "stream",
          "text": [
            "==== Expected input format of Evaluator for ogbn-arxiv\n",
            "{'y_true': y_true, 'y_pred': y_pred}\n",
            "- y_true: numpy ndarray or torch tensor of shape (num_nodes num_tasks)\n",
            "- y_pred: numpy ndarray or torch tensor of shape (num_nodes num_tasks)\n",
            "where y_pred stores predicted class label (integer),\n",
            "num_task is 1, and each row corresponds to one node.\n",
            "\n",
            "==== Expected output format of Evaluator for ogbn-arxiv\n",
            "{'acc': acc}\n",
            "- acc (float): Accuracy score averaged across 1 task(s)\n",
            "\n"
          ]
        }
      ],
      "source": [
        "evaluator = Evaluator(name = \"ogbn-arxiv\")\n",
        "print(evaluator.expected_input_format)\n",
        "print(evaluator.expected_output_format)"
      ]
    },
    {
      "cell_type": "code",
      "execution_count": 8,
      "metadata": {
        "id": "Lq1PN8a-0zLJ"
      },
      "outputs": [],
      "source": [
        "# from torch_geometric.loader import DataLoader\n",
        "\n",
        "# # Create a single Data object with train/val/test masks\n",
        "# full_data = Data(\n",
        "#     x=graph.x,\n",
        "#     y=graph.y,\n",
        "#     edge_index=graph.edge_index,\n",
        "#     train_mask=torch.zeros(graph.x.size(0), dtype=torch.bool),\n",
        "#     val_mask=torch.zeros(graph.x.size(0), dtype=torch.bool),\n",
        "#     test_mask=torch.zeros(graph.x.size(0), dtype=torch.bool)\n",
        "# )\n",
        "\n",
        "# # Set the masks\n",
        "# full_data.train_mask[train_idx] = True\n",
        "# full_data.val_mask[valid_idx] = True\n",
        "# full_data.test_mask[test_idx] = True"
      ]
    },
    {
      "cell_type": "code",
      "execution_count": 9,
      "metadata": {
        "id": "ChJjp9IVLsr2"
      },
      "outputs": [],
      "source": [
        "def print_memory_usage():\n",
        "    # Get the process using psutil\n",
        "    process = psutil.Process()\n",
        "\n",
        "    # Get memory info in bytes, convert to GB\n",
        "    memory_use = process.memory_info().rss / 1024 / 1024 / 1024  # Convert bytes to GB\n",
        "\n",
        "    # Get system memory info\n",
        "    system_memory = psutil.virtual_memory()\n",
        "\n",
        "    print(f\"Process Memory Usage: {memory_use:.2f}GB\")\n",
        "    print(f\"System Memory: {system_memory.used/1024/1024/1024:.2f}GB used out of {system_memory.total/1024/1024/1024:.2f}GB\")\n",
        "    print(f\"Memory Percentage Used: {system_memory.percent}%\")"
      ]
    },
    {
      "cell_type": "code",
      "execution_count": 10,
      "metadata": {
        "id": "MuMv6GnqsxVn"
      },
      "outputs": [],
      "source": [
        "def monitor_resources():\n",
        "    process = psutil.Process()\n",
        "    memory_use = process.memory_info().rss / 1024 / 1024 / 1024\n",
        "    # print(f\"Memory Use: {memory_use:.2f}GB\")\n",
        "    if memory_use > 6:  # Alert if using more than 6GB\n",
        "        print(\"Warning: High memory usage\")"
      ]
    },
    {
      "cell_type": "code",
      "execution_count": 11,
      "metadata": {
        "id": "foP4lBhclJqX"
      },
      "outputs": [],
      "source": [
        "class GCNModel(torch.nn.Module):\n",
        "    def __init__(self, input_dim, hidden_dim, output_dim, num_layers=4, dropout=0.5, task='node'):\n",
        "        super(GCNModel, self).__init__()\n",
        "\n",
        "        # initialize Module Lists\n",
        "        self.task = task\n",
        "        self.convs = nn.ModuleList()\n",
        "        self.batch_norms = nn.ModuleList()\n",
        "\n",
        "        # Append input layer\n",
        "        self.convs.append(self.build_conv_model(input_dim, hidden_dim))\n",
        "        self.batch_norms.append(nn.BatchNorm1d(hidden_dim))\n",
        "\n",
        "        for _ in range(num_layers-1):\n",
        "            self.convs.append(self.build_conv_model(hidden_dim, hidden_dim))\n",
        "            self.batch_norms.append(nn.BatchNorm1d(hidden_dim))\n",
        "\n",
        "        # post-message passing Output Layer\n",
        "        self.post_mp = nn.Sequential(\n",
        "            nn.Linear(hidden_dim, hidden_dim),\n",
        "            nn.BatchNorm1d(hidden_dim),\n",
        "            nn.ReLU(),\n",
        "            nn.Dropout(dropout),\n",
        "            nn.Linear(hidden_dim, output_dim))\n",
        "\n",
        "        if not (self.task == 'node' or self.task == 'graph'):\n",
        "            raise RuntimeError('Unknown task')\n",
        "\n",
        "        self.dropout = dropout\n",
        "        self.num_layers = num_layers\n",
        "\n",
        "    def build_conv_model(self, input_dim, hidden_dim):\n",
        "        # refer to pytorch geometric nn module for different implementation of GNNs.\n",
        "        if self.task == 'node':\n",
        "            return pyg_nn.GCNConv(input_dim, hidden_dim)\n",
        "        else:\n",
        "            return pyg_nn.GINConv(nn.Sequential(nn.Linear(input_dim, hidden_dim),\n",
        "                                                nn.ReLU(), nn.Linear(hidden_dim, hidden_dim)))\n",
        "\n",
        "    def forward(self, data):\n",
        "        x, edge_index = data.x, data.edge_index\n",
        "\n",
        "        if data.num_node_features == 0:\n",
        "            x = torch.ones(data.num_nodes, 1)\n",
        "\n",
        "        for i in range(self.num_layers):\n",
        "            identity = x\n",
        "            x = self.convs[i](x, edge_index)\n",
        "            x = self.batch_norms[i](x)\n",
        "            x = F.relu(x)\n",
        "            x = F.dropout(x, p=self.dropout, training=self.training)\n",
        "            if i > 0 and x.size(-1) == identity.size(-1):\n",
        "                x = x + identity\n",
        "\n",
        "        x = self.post_mp(x)\n",
        "\n",
        "        return x, F.log_softmax(x, dim=1)\n",
        "\n",
        "    def loss(self, pred, label):\n",
        "        # Calculate class weights based on distribution\n",
        "        class_counts = torch.bincount(label)\n",
        "        class_weights = 1.0 / class_counts.float()\n",
        "        class_weights = class_weights / class_weights.sum() * len(class_weights)\n",
        "        return F.nll_loss(pred, label, weight=class_weights)"
      ]
    },
    {
      "cell_type": "code",
      "execution_count": 12,
      "metadata": {
        "id": "HB4OMcFsOYDe"
      },
      "outputs": [],
      "source": [
        "def train(model, data, optimizer, split_idx, num_layers=4, task='node', device='cpu'):\n",
        "  # Clear memory cache\n",
        "  if torch.cuda.is_available():\n",
        "      torch.cuda.empty_cache()\n",
        "  gc.collect()  # Garbage collection\n",
        "\n",
        "  # Train the model\n",
        "  model.train()\n",
        "  optimizer.zero_grad()\n",
        "\n",
        "  # Forward pass\n",
        "  _, out = model(data)\n",
        "\n",
        "  train_idx = split_idx['train']\n",
        "  loss = F.nll_loss(out[train_idx], data.y.squeeze(1)[train_idx])\n",
        "\n",
        "  # Backward pass\n",
        "  loss.backward()\n",
        "  optimizer.step()\n",
        "\n",
        "  return loss.item()"
      ]
    },
    {
      "cell_type": "code",
      "execution_count": 13,
      "metadata": {
        "id": "w64NWSFBQhvb"
      },
      "outputs": [],
      "source": [
        "@torch.no_grad()\n",
        "def test(model, data, evaluator, split_idx):\n",
        "  model.eval()\n",
        "\n",
        "  _, out = model(data)\n",
        "  y_pred = out.argmax(dim=1, keepdim=True) # Convert to required shape [num_nodes, 1]\n",
        "\n",
        "  train_acc = evaluator.eval({\n",
        "        'y_true': data.y[split_idx['train']],\n",
        "        'y_pred': y_pred[split_idx['train']],\n",
        "    })['acc']\n",
        "  valid_acc = evaluator.eval({\n",
        "        'y_true': data.y[split_idx['valid']],\n",
        "        'y_pred': y_pred[split_idx['valid']],\n",
        "    })['acc']\n",
        "  test_acc = evaluator.eval({\n",
        "        'y_true': data.y[split_idx['test']],\n",
        "        'y_pred': y_pred[split_idx['test']],\n",
        "    })['acc']\n",
        "\n",
        "  return train_acc, valid_acc, test_acc"
      ]
    },
    {
      "cell_type": "code",
      "execution_count": 14,
      "metadata": {},
      "outputs": [],
      "source": [
        "# Hyperparameters\n",
        "dataset_name = 'ogbn-arxiv'\n",
        "hidden_dim = 256\n",
        "task = 'node'\n",
        "num_layers = 5\n",
        "learning_rate = 0.001\n",
        "weight_decay = 1e-5\n",
        "num_epochs = 300"
      ]
    },
    {
      "cell_type": "code",
      "execution_count": 15,
      "metadata": {
        "id": "osH9nMJpV8R8"
      },
      "outputs": [],
      "source": [
        "def main():\n",
        "    evaluator = Evaluator(name = dataset_name)\n",
        "\n",
        "     # Get dataset info first\n",
        "    device = torch.device('cuda' if torch.cuda.is_available() else 'cpu')\n",
        "    dataset = PygNodePropPredDataset(name='ogbn-arxiv')\n",
        "    data = dataset.to(device)\n",
        "    num_classes = dataset.num_classes\n",
        "\n",
        "    # Get split indices from the dataset\n",
        "    split_idx = dataset.get_idx_split()\n",
        "\n",
        "     # Convert split indices to masks if needed\n",
        "    num_nodes = data.x.size(0)\n",
        "    train_mask = torch.zeros(num_nodes, dtype=torch.bool)\n",
        "    valid_mask = torch.zeros(num_nodes, dtype=torch.bool)\n",
        "    test_mask = torch.zeros(num_nodes, dtype=torch.bool)\n",
        "\n",
        "    train_mask[split_idx['train']] = True\n",
        "    valid_mask[split_idx['valid']] = True\n",
        "    test_mask[split_idx['test']] = True\n",
        "\n",
        "    split_idx = {\n",
        "        'train': train_mask,\n",
        "        'valid': valid_mask,\n",
        "        'test': test_mask\n",
        "        }\n",
        "\n",
        "    # initialize model\n",
        "    model = GCNModel(\n",
        "        max(data.num_node_features, 1),\n",
        "        hidden_dim = hidden_dim,\n",
        "        output_dim = num_classes,\n",
        "        task=task,\n",
        "        num_layers = num_layers)\n",
        "\n",
        "    opt = optim.Adam(model.parameters(), lr=learning_rate, weight_decay=weight_decay)\n",
        "    scheduler = optim.lr_scheduler.ReduceLROnPlateau(opt, 'max', patience=10)\n",
        "\n",
        "    best_val_acc = 0\n",
        "    final_test_acc = 0\n",
        "\n",
        "    for epoch in range(num_epochs):\n",
        "        # Training\n",
        "        loss = train(model, data, opt, split_idx)\n",
        "\n",
        "        # Evaluation\n",
        "        train_acc, val_acc, test_acc = test(model, data, evaluator, split_idx)\n",
        "\n",
        "        # Save best model\n",
        "        if val_acc > best_val_acc:\n",
        "            best_val_acc = val_acc\n",
        "            final_test_acc = test_acc\n",
        "            torch.save(model.state_dict(), 'best_model.pt')\n",
        "\n",
        "        if epoch % 20 == 0:\n",
        "            print(f'Epoch: {epoch:02d}, '\n",
        "                f'Loss: {loss:.4f}, '\n",
        "                f'Train: {100*train_acc:.2f}%, '\n",
        "                f'Val: {100*val_acc:.2f}%, '\n",
        "                f'Test: {100*test_acc:.2f}%')\n",
        "        if epoch % 50 == 0:\n",
        "            print_memory_usage()\n",
        "            monitor_resources()\n",
        "\n",
        "    print(f'Final Test: {100*final_test_acc:.2f}%')"
      ]
    },
    {
      "cell_type": "code",
      "execution_count": 16,
      "metadata": {
        "colab": {
          "base_uri": "https://localhost:8080/",
          "height": 480
        },
        "id": "PUeA43tkYM38",
        "outputId": "67ec69eb-20d7-41b6-8c22-c966400e666c"
      },
      "outputs": [
        {
          "name": "stderr",
          "output_type": "stream",
          "text": [
            "/Library/Frameworks/Python.framework/Versions/3.11/lib/python3.11/site-packages/ogb/nodeproppred/dataset_pyg.py:69: FutureWarning: You are using `torch.load` with `weights_only=False` (the current default value), which uses the default pickle module implicitly. It is possible to construct malicious pickle data which will execute arbitrary code during unpickling (See https://github.com/pytorch/pytorch/blob/main/SECURITY.md#untrusted-models for more details). In a future release, the default value for `weights_only` will be flipped to `True`. This limits the functions that could be executed during unpickling. Arbitrary objects will no longer be allowed to be loaded via this mode unless they are explicitly allowlisted by the user via `torch.serialization.add_safe_globals`. We recommend you start setting `weights_only=True` for any use case where you don't have full control of the loaded file. Please open an issue on GitHub for any issues related to this experimental feature.\n",
            "  self.data, self.slices = torch.load(self.processed_paths[0])\n"
          ]
        },
        {
          "name": "stdout",
          "output_type": "stream",
          "text": [
            "Epoch: 00, Loss: 3.9681, Train: 1.57%, Val: 3.19%, Test: 5.12%\n",
            "Process Memory Usage: 0.58GB\n",
            "System Memory: 2.73GB used out of 8.00GB\n",
            "Memory Percentage Used: 48.0%\n",
            "Epoch: 20, Loss: 2.1592, Train: 37.01%, Val: 34.31%, Test: 26.21%\n",
            "Epoch: 40, Loss: 1.7960, Train: 53.35%, Val: 52.26%, Test: 45.66%\n",
            "Process Memory Usage: 0.56GB\n",
            "System Memory: 2.48GB used out of 8.00GB\n",
            "Memory Percentage Used: 43.0%\n",
            "Epoch: 60, Loss: 1.6425, Train: 57.52%, Val: 56.13%, Test: 50.36%\n",
            "Epoch: 80, Loss: 1.5548, Train: 59.42%, Val: 57.77%, Test: 51.90%\n",
            "Epoch: 100, Loss: 1.4966, Train: 60.67%, Val: 58.58%, Test: 52.65%\n",
            "Process Memory Usage: 0.14GB\n",
            "System Memory: 1.91GB used out of 8.00GB\n",
            "Memory Percentage Used: 47.0%\n",
            "Epoch: 120, Loss: 1.4527, Train: 61.79%, Val: 59.35%, Test: 53.20%\n",
            "Epoch: 140, Loss: 1.4200, Train: 62.53%, Val: 59.94%, Test: 53.95%\n",
            "Process Memory Usage: 0.55GB\n",
            "System Memory: 2.32GB used out of 8.00GB\n",
            "Memory Percentage Used: 42.5%\n",
            "Epoch: 160, Loss: 1.3896, Train: 63.19%, Val: 60.33%, Test: 54.30%\n",
            "Epoch: 180, Loss: 1.3674, Train: 63.75%, Val: 60.57%, Test: 54.57%\n",
            "Epoch: 200, Loss: 1.3491, Train: 64.27%, Val: 60.75%, Test: 54.79%\n",
            "Process Memory Usage: 0.54GB\n",
            "System Memory: 2.69GB used out of 8.00GB\n",
            "Memory Percentage Used: 47.9%\n",
            "Epoch: 220, Loss: 1.3313, Train: 64.77%, Val: 61.27%, Test: 55.15%\n",
            "Epoch: 240, Loss: 1.3146, Train: 65.20%, Val: 61.43%, Test: 55.31%\n",
            "Process Memory Usage: 0.56GB\n",
            "System Memory: 2.41GB used out of 8.00GB\n",
            "Memory Percentage Used: 43.3%\n",
            "Epoch: 260, Loss: 1.3002, Train: 65.57%, Val: 61.38%, Test: 55.31%\n",
            "Epoch: 280, Loss: 1.2877, Train: 66.02%, Val: 61.93%, Test: 55.81%\n",
            "Final Test: 55.65%\n"
          ]
        }
      ],
      "source": [
        "main()"
      ]
    },
    {
      "cell_type": "code",
      "execution_count": null,
      "metadata": {},
      "outputs": [],
      "source": []
    }
  ],
  "metadata": {
    "colab": {
      "provenance": []
    },
    "kernelspec": {
      "display_name": "Python 3",
      "name": "python3"
    },
    "language_info": {
      "codemirror_mode": {
        "name": "ipython",
        "version": 3
      },
      "file_extension": ".py",
      "mimetype": "text/x-python",
      "name": "python",
      "nbconvert_exporter": "python",
      "pygments_lexer": "ipython3",
      "version": "3.11.9"
    }
  },
  "nbformat": 4,
  "nbformat_minor": 0
}
