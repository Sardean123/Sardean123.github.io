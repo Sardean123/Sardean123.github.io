{
  "cells": [
    {
      "cell_type": "code",
      "execution_count": null,
      "metadata": {
        "colab": {
          "background_save": true
        },
        "id": "6z-pQP8i3i53"
      },
      "outputs": [],
      "source": [
        "!pip -qqq install pip --progress-bar off\n",
        "!pip -qqq install langchain-groq==0.1.3 --progress-bar off\n",
        "!pip -qqq install langchain==0.1.17 --progress-bar off\n",
        "!pip -qqq install llama-parse==0.1.3 --progress-bar off\n",
        "!pip -qqq install qdrant-client==1.9.1  --progress-bar off\n",
        "!pip -qqq install \"unstructured[md]\"==0.13.6 --progress-bar off\n",
        "!pip -qqq install fastembed==0.2.7 --progress-bar off\n",
        "!pip -qqq install flashrank==0.2.4 --progress-bar off"
      ]
    },
    {
      "cell_type": "code",
      "execution_count": null,
      "metadata": {
        "colab": {
          "background_save": true
        },
        "id": "GNwDfqwrYSkO",
        "outputId": "9855c207-4e3f-400c-fafa-417dee966c45"
      },
      "outputs": [
        {
          "name": "stdout",
          "output_type": "stream",
          "text": [
            "Collecting python-dotenv\n",
            "  Downloading python_dotenv-1.0.1-py3-none-any.whl.metadata (23 kB)\n",
            "Downloading python_dotenv-1.0.1-py3-none-any.whl (19 kB)\n",
            "Installing collected packages: python-dotenv\n",
            "Successfully installed python-dotenv-1.0.1\n"
          ]
        }
      ],
      "source": [
        "!pip install python-dotenv"
      ]
    },
    {
      "cell_type": "code",
      "execution_count": null,
      "metadata": {
        "id": "D7xqYwgocZxo"
      },
      "outputs": [],
      "source": [
        "from google.colab import files\n",
        "uploaded = files.upload()"
      ]
    },
    {
      "cell_type": "code",
      "execution_count": null,
      "metadata": {
        "id": "NjAI3c_Oe39j"
      },
      "outputs": [],
      "source": [
        "import os\n",
        "\n",
        "# Print the current working directory\n",
        "print(\"Current Working Directory:\", os.getcwd())\n",
        "\n",
        "# List all files in the current directory\n",
        "print(\"Files in the Directory:\", os.listdir())"
      ]
    },
    {
      "cell_type": "code",
      "execution_count": null,
      "metadata": {
        "colab": {
          "base_uri": "https://localhost:8080/"
        },
        "id": "7UYLTm3wYqDz",
        "outputId": "adb26c16-18a9-49cb-b308-b99f2273634c"
      },
      "outputs": [
        {
          "data": {
            "text/plain": [
              "(str, str)"
            ]
          },
          "execution_count": 5,
          "metadata": {},
          "output_type": "execute_result"
        }
      ],
      "source": [
        "from dotenv import load_dotenv\n",
        "\n",
        "load_dotenv(\".env\")\n",
        "groq_api_key = os.getenv(\"GROQ_API_KEY\")\n",
        "\n",
        "load_dotenv(\"llama_parse.env\")\n",
        "llama_parse_api_key = os.getenv(\"LLAMA_PARSE_API_KEY\")\n",
        "\n",
        "type(groq_api_key), type(llama_parse_api_key)\n",
        "# print(groq_api_key)\n",
        "# print(llama_parse_api_key)"
      ]
    },
    {
      "cell_type": "code",
      "execution_count": null,
      "metadata": {
        "id": "T-iNfsAy3qg9"
      },
      "outputs": [],
      "source": [
        "import os\n",
        "import textwrap\n",
        "from pathlib import Path\n",
        "\n",
        "from google.colab import userdata\n",
        "from IPython.display import Markdown\n",
        "from langchain.chains import RetrievalQA\n",
        "from langchain.prompts import PromptTemplate\n",
        "from langchain.retrievers import ContextualCompressionRetriever\n",
        "from langchain.retrievers.document_compressors import FlashrankRerank\n",
        "from langchain.text_splitter import RecursiveCharacterTextSplitter\n",
        "from langchain.vectorstores import Qdrant\n",
        "from langchain_community.document_loaders import UnstructuredMarkdownLoader\n",
        "from langchain_community.embeddings.fastembed import FastEmbedEmbeddings\n",
        "from langchain_core.prompts import ChatPromptTemplate\n",
        "from langchain_groq import ChatGroq\n",
        "from llama_parse import LlamaParse\n",
        "\n",
        "os.environ[\"GROQ_API_KEY\"] = groq_api_key\n",
        "\n",
        "\n",
        "def print_response(response):\n",
        "    response_txt = response[\"result\"]\n",
        "    for chunk in response_txt.split(\"\\n\"):\n",
        "        if not chunk:\n",
        "            print()\n",
        "            continue\n",
        "        print(\"\\n\".join(textwrap.wrap(chunk, 100, break_long_words=False)))"
      ]
    },
    {
      "cell_type": "code",
      "execution_count": null,
      "metadata": {
        "colab": {
          "base_uri": "https://localhost:8080/"
        },
        "id": "TMlAaM9vj_7a",
        "outputId": "aeebdd4c-0900-4134-c677-04e10d1eb50c"
      },
      "outputs": [
        {
          "name": "stdout",
          "output_type": "stream",
          "text": [
            "Mounted at /content/gdrive\n"
          ]
        }
      ],
      "source": [
        "from google.colab import drive\n",
        "drive.mount('/content/gdrive')"
      ]
    },
    {
      "cell_type": "code",
      "execution_count": null,
      "metadata": {
        "colab": {
          "base_uri": "https://localhost:8080/"
        },
        "id": "c42sc0C0k1Gb",
        "outputId": "75dc8d59-c191-4446-f912-aad8e8a6e6f3"
      },
      "outputs": [
        {
          "name": "stdout",
          "output_type": "stream",
          "text": [
            "File downloaded to: /content/gdrive/MyDrive/citi_earnings.pdf\n"
          ]
        }
      ],
      "source": [
        "import requests\n",
        "\n",
        "file_url = \"https://drive.google.com/file/d/content/citi2024prqtr2rslt.pdf/view?usp=share_link\"\n",
        "output_path = \"/content/gdrive/MyDrive/citi_earnings.pdf\"\n",
        "\n",
        "response = requests.get(file_url)\n",
        "\n",
        "with open(output_path, \"wb\") as file:\n",
        "    file.write(response.content)\n",
        "\n",
        "print(f\"File downloaded to: {output_path}\")"
      ]
    },
    {
      "cell_type": "code",
      "execution_count": null,
      "metadata": {
        "colab": {
          "base_uri": "https://localhost:8080/"
        },
        "id": "RTmT_D8xjw1O",
        "outputId": "93f89d79-8429-4c2a-a74f-b9177db7bfd7"
      },
      "outputs": [
        {
          "name": "stdout",
          "output_type": "stream",
          "text": [
            "Started parsing the file under job_id 82b1b030-5e0c-4965-92d2-befabf6ad430\n"
          ]
        }
      ],
      "source": [
        "instruction = \"\"\"The provided document is Citi's Second Quarter 2024 Results.\n",
        "This form provides detailed financial information about the company's performance for a specific quarter.\n",
        "It includes unaudited financial statements, management discussion and analysis, and other relevant disclosures required by the SEC.\n",
        "It contains many tables.\n",
        "Try to be precise while answering the questions\"\"\"\n",
        "\n",
        "parser = LlamaParse(\n",
        "    api_key=llama_parse_api_key,\n",
        "    result_type=\"markdown\",\n",
        "    parsing_instruction=instruction,\n",
        "    max_timeout=5000,\n",
        ")\n",
        "\n",
        "llama_parse_documents = await parser.aload_data(\"/content/gdrive/MyDrive/citi2024prqtr2rslt.pdf\")"
      ]
    },
    {
      "cell_type": "code",
      "execution_count": null,
      "metadata": {
        "id": "usYYivlim5PB"
      },
      "outputs": [],
      "source": [
        "parsed_doc = llama_parse_documents[0]"
      ]
    },
    {
      "cell_type": "code",
      "execution_count": null,
      "metadata": {
        "colab": {
          "base_uri": "https://localhost:8080/"
        },
        "id": "MPDwdvw_p7jU",
        "outputId": "89849dfb-d893-42dd-89d3-18dbbba9e7da"
      },
      "outputs": [
        {
          "data": {
            "text/plain": [
              "1"
            ]
          },
          "execution_count": 11,
          "metadata": {},
          "output_type": "execute_result"
        }
      ],
      "source": [
        "len(llama_parse_documents)"
      ]
    },
    {
      "cell_type": "code",
      "execution_count": null,
      "metadata": {
        "colab": {
          "base_uri": "https://localhost:8080/",
          "height": 1000
        },
        "id": "uUQd61YFqLjf",
        "outputId": "6f4f5102-c2c0-40fc-ada3-6a34506e8f1d"
      },
      "outputs": [
        {
          "data": {
            "text/markdown": "# For Immediate Release\n\n# Citigroup Inc. (NYSE: C)\n\n# July 12, 2024\n\n# SECOND QUARTER 2024 RESULTS AND KEY METRICS\n\n| |2Q Revenues|2Q Net Income|2Q EPS|2Q ROE|CET1 Capital Ratio|2Q RoTCE|\n|---|---|---|---|---|---|---|\n| |$20.1B|$3.2B|$1.52|6.3%|13.6%|7.2%(1)|\n\nRETURNED ~$1.0 BILLION IN THE FORM OF COMMON DIVIDENDS\n\nPAYOUT RATIO OF 34%(3)\n\nBOOK VALUE PER SHARE OF $99.70\n\nTANGIBLE BOOK VALUE PER SHARE OF $87.53(4)\n\nNew York, July 12, 2024 Citigroup Inc. today reported net income for the second quarter 2024 of $3.2 billion, or $1.52 per diluted share, on revenues of $20.1 billion. This compares to net income of $2.9 billion, or $1.33 per diluted share, on revenues of $19.4 billion for the second quarter 2023.\n\nRevenues increased 4% from the prior-year period, on a reported basis. Excluding divestiture-related impacts(5), revenues were up 3%. This increase in revenues was driven by growth across all businesses, particularly in Banking, U.S. Personal Banking (USPB) and Markets. The revenue increase included an approximate $400 million gain related to the Visa B exchange completed in the second quarter 2024. A significant portion of this gain was reflected in Markets, with the remainder in All Other. The revenue growth across the businesses was partially offset by a decline in All Other.\n\nNet income of $3.2 billion increased from $2.9 billion in the prior-year period, primarily driven by the higher revenues and lower expenses, partially offset by higher cost of credit.\n\nEarnings per share of $1.52 increased from $1.33 per diluted share in the prior-year period, reflecting the higher net income and an approximate 1% decrease in average diluted shares outstanding.\n\nPercentage comparisons throughout this press release are calculated for the second quarter 2024 versus the second quarter 2023, unless otherwise specified.\n\n# CEO COMMENTARY\n\nResults show the progress we are making in executing our strategy and the benefit of our diversified business model. We achieved positive operating leverage with revenue up 4% and a 2% decline in expenses. Services continued to grow, driven by solid fee growth, increased activity in cross border payments and new client onboardings. Markets had a strong finish to the quarter leading to better performance than we had anticipated. Fixed Income was slightly down year-over-year and Equities was up 37%, driven by strong performance in derivatives. Banking was up 38% as the wallet rebound gained some momentum and we again grew share. Wealth is starting to improve. Growth in client investment assets drove stronger investment revenue, and our focus on rationalizing the expense base is starting to pay off. U.S. Personal Banking saw revenue growth of 6%, with all three businesses again contributing to the topline.\n\nShowcased the strength of our balance sheet. Our CET1 ratio now stands at 13.6% and we are increasing our dividend by 6%. We have made an incredible amount of progress in simplification - both strategically and organizationally. We are modernizing our infrastructure to improve our client service and automating processes to strengthen controls. We will continue to execute our transformation and our strategy so we can meet our medium-term targets and continue to further improve our returns over.\n---\n# Second Quarter Financial Results\n\n|Citigroup|2Q'24|1Q'24|2Q'23|QoQ%|YoY%|\n|---|---|---|---|---|---|\n|Total revenues, net of interest expense|20,139|21,104|19,436|(5)%|4%|\n|Total operating expenses|13,353|14,195|13,570|(6)%|(2)%|\n|Net credit losses|2,283|2,303|1,504|(1)%|52%|\n|Net ACL build / (release)(a)|68|21|161|NM|(58)%|\n|Other provisions(b)|125|41|159|NM|(21)%|\n|Total cost of credit|2,476|2,365|1,824|5%|36%|\n|Income (loss) from continuing operations before taxes|4,310|4,544|4,042|(5)%|7%|\n|Provision for income taxes|1,047|1,136|1,090|(8)%|(4)%|\n|Income (loss) from continuing operations|3,263|3,408|2,952|(4)%|11%|\n|Income (loss) from discontinued operations, net of taxes|-|(1)|(1)|100%|100%|\n|Net income attributable to non-controlling interest|46|36|36|28%|28%|\n|Citigroup's net income (loss)|$3,21",
            "text/plain": [
              "<IPython.core.display.Markdown object>"
            ]
          },
          "execution_count": 12,
          "metadata": {},
          "output_type": "execute_result"
        }
      ],
      "source": [
        "Markdown(parsed_doc.text[:4096])"
      ]
    },
    {
      "cell_type": "code",
      "execution_count": null,
      "metadata": {
        "id": "LUTr8hLslOqC"
      },
      "outputs": [],
      "source": [
        "data_dir = 'data'\n",
        "if not os.path.exists(data_dir):\n",
        "    os.makedirs(data_dir)"
      ]
    },
    {
      "cell_type": "code",
      "execution_count": null,
      "metadata": {
        "id": "LAR8bz1YlRId"
      },
      "outputs": [],
      "source": [
        "document_path = Path(\"data/parsed_document.md\")\n",
        "if not document_path.exists():\n",
        "  document_path.touch()\n",
        "with document_path.open(\"a\") as f:\n",
        "  f.write(parsed_doc.text)"
      ]
    },
    {
      "cell_type": "code",
      "execution_count": null,
      "metadata": {
        "colab": {
          "base_uri": "https://localhost:8080/"
        },
        "id": "EcCdqv9lBhqn",
        "outputId": "d67370c7-5c8f-4d0c-80f9-e86dcd70e0c5"
      },
      "outputs": [
        {
          "name": "stderr",
          "output_type": "stream",
          "text": [
            "[nltk_data] Downloading package averaged_perceptron_tagger to\n",
            "[nltk_data]     /root/nltk_data...\n",
            "[nltk_data]   Unzipping taggers/averaged_perceptron_tagger.zip.\n"
          ]
        }
      ],
      "source": [
        "loader = UnstructuredMarkdownLoader(document_path)\n",
        "loaded_documents = loader.load()"
      ]
    },
    {
      "cell_type": "code",
      "execution_count": null,
      "metadata": {
        "colab": {
          "base_uri": "https://localhost:8080/"
        },
        "id": "Er7gNkCfmIUS",
        "outputId": "d77116a0-bc73-43b6-c0f4-b307fd797fde"
      },
      "outputs": [
        {
          "data": {
            "text/plain": [
              "(pathlib.PosixPath, list)"
            ]
          },
          "execution_count": 16,
          "metadata": {},
          "output_type": "execute_result"
        }
      ],
      "source": [
        "type(document_path), type(loaded_documents)"
      ]
    },
    {
      "cell_type": "code",
      "execution_count": null,
      "metadata": {
        "colab": {
          "base_uri": "https://localhost:8080/"
        },
        "id": "ejqDbPjfmLD5",
        "outputId": "92862d43-ac2d-456b-dd4e-dafe4a036f13"
      },
      "outputs": [
        {
          "data": {
            "text/plain": [
              "1"
            ]
          },
          "execution_count": 17,
          "metadata": {},
          "output_type": "execute_result"
        }
      ],
      "source": [
        "len(loaded_documents)"
      ]
    },
    {
      "cell_type": "code",
      "execution_count": null,
      "metadata": {
        "colab": {
          "base_uri": "https://localhost:8080/"
        },
        "id": "pG8HRxkqmOAa",
        "outputId": "63028a58-331e-4bfe-b4de-cd29ea0de96a"
      },
      "outputs": [
        {
          "data": {
            "text/plain": [
              "22"
            ]
          },
          "execution_count": 18,
          "metadata": {},
          "output_type": "execute_result"
        }
      ],
      "source": [
        "text_splitter = RecursiveCharacterTextSplitter(chunk_size=2048, chunk_overlap=128)\n",
        "docs = text_splitter.split_documents(loaded_documents)\n",
        "len(docs)"
      ]
    },
    {
      "cell_type": "code",
      "execution_count": null,
      "metadata": {
        "colab": {
          "base_uri": "https://localhost:8080/"
        },
        "id": "qEcqX96ZmZq6",
        "outputId": "4e804cdd-90ed-46ff-9576-80f3564c91fa"
      },
      "outputs": [
        {
          "data": {
            "text/plain": [
              "Document(page_content='For Immediate Release\\n\\nCitigroup Inc. (NYSE: C)\\n\\nJuly 12, 2024\\n\\nSECOND QUARTER 2024 RESULTS AND KEY METRICS\\n\\n2Q Revenues 2Q Net Income 2Q EPS 2Q ROE CET1 Capital Ratio 2Q RoTCE $20.1B $3.2B $1.52 6.3% 13.6% 7.2%(1)\\n\\nRETURNED ~$1.0 BILLION IN THE FORM OF COMMON DIVIDENDS\\n\\nPAYOUT RATIO OF 34%(3)\\n\\nBOOK VALUE PER SHARE OF $99.70\\n\\nTANGIBLE BOOK VALUE PER SHARE OF $87.53(4)\\n\\nNew York, July 12, 2024 Citigroup Inc. today reported net income for the second quarter 2024 of $3.2 billion, or $1.52 per diluted share, on revenues of $20.1 billion. This compares to net income of $2.9 billion, or $1.33 per diluted share, on revenues of $19.4 billion for the second quarter 2023.\\n\\nRevenues increased 4% from the prior-year period, on a reported basis. Excluding divestiture-related impacts(5), revenues were up 3%. This increase in revenues was driven by growth across all businesses, particularly in Banking, U.S. Personal Banking (USPB) and Markets. The revenue increase included an approximate $400 million gain related to the Visa B exchange completed in the second quarter 2024. A significant portion of this gain was reflected in Markets, with the remainder in All Other. The revenue growth across the businesses was partially offset by a decline in All Other.\\n\\nNet income of $3.2 billion increased from $2.9 billion in the prior-year period, primarily driven by the higher revenues and lower expenses, partially offset by higher cost of credit.\\n\\nEarnings per share of $1.52 increased from $1.33 per diluted share in the prior-year period, reflecting the higher net income and an approximate 1% decrease in average diluted shares outstanding.\\n\\nPercentage comparisons throughout this press release are calculated for the second quarter 2024 versus the second quarter 2023, unless otherwise specified.\\n\\nCEO COMMENTARY', metadata={'source': PosixPath('data/parsed_document.md')})"
            ]
          },
          "execution_count": 19,
          "metadata": {},
          "output_type": "execute_result"
        }
      ],
      "source": [
        "docs[0]"
      ]
    },
    {
      "cell_type": "code",
      "execution_count": null,
      "metadata": {
        "colab": {
          "base_uri": "https://localhost:8080/"
        },
        "id": "CHMxEWtCmVSs",
        "outputId": "5f8b06c6-0226-4b37-93bc-f8bbba4823f3"
      },
      "outputs": [
        {
          "name": "stdout",
          "output_type": "stream",
          "text": [
            "For Immediate Release\n",
            "\n",
            "Citigroup Inc. (NYSE: C)\n",
            "\n",
            "July 12, 2024\n",
            "\n",
            "SECOND QUARTER 2024 RESULTS AND KEY METRICS\n",
            "\n",
            "2Q Revenues 2Q Net Income 2Q EPS 2Q ROE CET1 Capital Ratio 2Q RoTCE $20.1B $3.2B $1.52 6.3% 13.6% 7.2%(1)\n",
            "\n",
            "RETURNED ~$1.0 BILLION IN THE FORM OF COMMON DIVIDENDS\n",
            "\n",
            "PAYOUT RATIO OF 34%(3)\n",
            "\n",
            "BOOK VALUE PER SHARE OF $99.70\n",
            "\n",
            "TANGIBLE BOOK VALUE PER SHARE OF $87.53(4)\n",
            "\n",
            "New York, July 12, 2024 Citigroup Inc. today reported net income for the second quarter 2024 of $3.2 billion, or $1.52 per diluted share, on revenues of $20.1 billion. This compares to net income of $2.9 billion, or $1.33 per diluted share, on revenues of $19.4 billion for the second quarter 2023.\n",
            "\n",
            "Revenues increased 4% from the prior-year period, on a reported basis. Excluding divestiture-related impacts(5), revenues were up 3%. This increase in revenues was driven by growth across all businesses, particularly in Banking, U.S. Personal Banking (USPB) and Markets. The revenue increase included an approximate $400 million gain related to the Visa B exchange completed in the second quarter 2024. A significant portion of this gain was reflected in Markets, with the remainder in All Other. The revenue growth across the businesses was partially offset by a decline in All Other.\n",
            "\n",
            "Net income of $3.2 billion increased from $2.9 billion in the prior-year period, primarily driven by the higher revenues and lower expenses, partially offset by higher cost of credit.\n",
            "\n",
            "Earnings per share of $1.52 increased from $1.33 per diluted share in the prior-year period, reflecting the higher net income and an approximate 1% decrease in average diluted shares outstanding.\n",
            "\n",
            "Percentage comparisons throughout this press release are calculated for the second quarter 2024 versus the second quarter 2023, unless otherwise specified.\n",
            "\n",
            "CEO COMMENTARY\n"
          ]
        }
      ],
      "source": [
        "print(docs[0].page_content)"
      ]
    },
    {
      "cell_type": "code",
      "execution_count": null,
      "metadata": {
        "colab": {
          "base_uri": "https://localhost:8080/",
          "height": 333,
          "referenced_widgets": [
            "054f40f64d854d029fd5df9059ac8f56",
            "3b7b08a3c4a3483fae243371f348120a",
            "6cdec99bdb3d405486773d92173b46b9",
            "814229a7cf444614b6d8cbc84dbf586f",
            "05f76f8588414b8597837674fa3efaf7",
            "f6885436f7124ade974f72cce4419798",
            "06c1cc4557564b9cb301ff159fea247f",
            "6ac25042a2d5432cb373586b2e674478",
            "e542a97c22104359b17a5594c02f6b6b",
            "da9ebb2dec394802b818982e02ef0928",
            "e45ecc3e42a54522976ebe5217165d28",
            "85ecbc1c00b84c0fa48ffbf5f76b272c",
            "b8be265d61384590906bc5ba1ffd2ce2",
            "d59284756b864a0faf6d0737e7a714e7",
            "08126d6046784ed980c1600ba633b44d",
            "e5879e8f633c4c019b45744d1f2d102c",
            "4d4076580de54fb5be5993368d47540b",
            "5f12b26e4d8d4909b565982d79357d1a",
            "30fff62bf53e40afbdba435c486d5597",
            "4db801d6139c41a19779206bc4f60c0c",
            "1ebb10a85ac44110b94d6281f82a7020",
            "9b1538ea0b1647baa1b1e3708d70a3fc",
            "870133eda4d544ed8f8aeb05d21d67c7",
            "e737e6e14a50400cb29bf83cc5631385",
            "34711c6c5f064ec7851f789deb0a377b",
            "2afd7a9a068041529a2b8f352b0fadd2",
            "46a9701ac2b04932a87d334a5a010534",
            "b8c7aa24bb25409fa78ec52a4a1f2261",
            "e51542dabc884679ac7421e91256611a",
            "1e2b02d881244983ad555e1765b568f2",
            "3cc7446e27804a6a8bdf61f9c269e0fc",
            "79485063d9af4796b048a9b63abf61f7",
            "41e528dc4b4941ff92270a9bc66c1e32",
            "691db8b1a3a7401b9b4f3c6e6baf2e22",
            "15c479a2f7a3419a9fa2730543f3db2b",
            "4d5597d3514b48db8b36606d258f0fd9",
            "772aad31c5594c9b968a53330bf5a8b1",
            "62d6d2178b9847e5ac2688d4c9d30a68",
            "ffa0f5d985074c17b146f6cb17c30088",
            "78ab6c2e88414a7e9865373443fc70a0",
            "1324fc506309433e9c93a31d656a5f33",
            "a4a96f22492e49f2a7df1b214bb2a7b2",
            "8ae018711b5a4790a091784a1b46ff62",
            "7201f175f05d401abeb64cfeeda21cfa",
            "690d33a6a8bc403f9c11f706f887bccd",
            "0b49a6d53e56423590fc478beb58f726",
            "cf78a38394244dfba4feda6c25f1591a",
            "5f392277cbf74488822ef7650b08e130",
            "d792b59b59114554abbdf41b7c07f585",
            "69fb950fb4bf4d77b4cc95bf87b4726f",
            "835318bd7ce74cb881ae4172ab26d6a5",
            "e43357c4f8234e728ca6e4dc949e7e3c",
            "cc661e4120bf4841836e332e8563612d",
            "25cdde16e09b401a9d35d5d518bd0bbf",
            "a09778d4a7384764a7db0649509b51de",
            "84548fb4000f4aea99670c8541b1207a",
            "7e778afe5dd0417f894de5d3b7f97773",
            "de169219bd904782992d2beeb8a4aa04",
            "3f237649370944eb8db27cd86a492054",
            "f06ce6845edd4364905ca73bcc2e190c",
            "eb429d0f58f74ecda47a82d999587ba3",
            "cd10cfd8c8a840bfa7dfe0f055c32d99",
            "53b043e3673f461ebc4c6def58ea1a5f",
            "850276e3ebd04e6e9da658e2d295a601",
            "a5f7177fb4fd4d80b3b6b3806f96ff48",
            "e64d6a3b7a4945afa8344d7ace4764a3"
          ]
        },
        "id": "VX7gx30tmzhh",
        "outputId": "2e64d4cd-be87-4481-9475-3c9f3a7d1afb"
      },
      "outputs": [
        {
          "name": "stderr",
          "output_type": "stream",
          "text": [
            "/usr/local/lib/python3.10/dist-packages/huggingface_hub/utils/_token.py:88: UserWarning: \n",
            "The secret `HF_TOKEN` does not exist in your Colab secrets.\n",
            "To authenticate with the Hugging Face Hub, create a token in your settings tab (https://huggingface.co/settings/tokens), set it as secret in your Google Colab and restart your session.\n",
            "You will be able to reuse this secret in all of your notebooks.\n",
            "Please note that authentication is recommended but still optional to access public models or datasets.\n",
            "  warnings.warn(\n"
          ]
        },
        {
          "data": {
            "application/vnd.jupyter.widget-view+json": {
              "model_id": "054f40f64d854d029fd5df9059ac8f56",
              "version_major": 2,
              "version_minor": 0
            },
            "text/plain": [
              "Fetching 5 files:   0%|          | 0/5 [00:00<?, ?it/s]"
            ]
          },
          "metadata": {},
          "output_type": "display_data"
        },
        {
          "data": {
            "application/vnd.jupyter.widget-view+json": {
              "model_id": "85ecbc1c00b84c0fa48ffbf5f76b272c",
              "version_major": 2,
              "version_minor": 0
            },
            "text/plain": [
              "tokenizer_config.json:   0%|          | 0.00/1.24k [00:00<?, ?B/s]"
            ]
          },
          "metadata": {},
          "output_type": "display_data"
        },
        {
          "data": {
            "application/vnd.jupyter.widget-view+json": {
              "model_id": "870133eda4d544ed8f8aeb05d21d67c7",
              "version_major": 2,
              "version_minor": 0
            },
            "text/plain": [
              "config.json:   0%|          | 0.00/740 [00:00<?, ?B/s]"
            ]
          },
          "metadata": {},
          "output_type": "display_data"
        },
        {
          "data": {
            "application/vnd.jupyter.widget-view+json": {
              "model_id": "691db8b1a3a7401b9b4f3c6e6baf2e22",
              "version_major": 2,
              "version_minor": 0
            },
            "text/plain": [
              "special_tokens_map.json:   0%|          | 0.00/695 [00:00<?, ?B/s]"
            ]
          },
          "metadata": {},
          "output_type": "display_data"
        },
        {
          "data": {
            "application/vnd.jupyter.widget-view+json": {
              "model_id": "690d33a6a8bc403f9c11f706f887bccd",
              "version_major": 2,
              "version_minor": 0
            },
            "text/plain": [
              "tokenizer.json:   0%|          | 0.00/711k [00:00<?, ?B/s]"
            ]
          },
          "metadata": {},
          "output_type": "display_data"
        },
        {
          "data": {
            "application/vnd.jupyter.widget-view+json": {
              "model_id": "84548fb4000f4aea99670c8541b1207a",
              "version_major": 2,
              "version_minor": 0
            },
            "text/plain": [
              "model_optimized.onnx:   0%|          | 0.00/218M [00:00<?, ?B/s]"
            ]
          },
          "metadata": {},
          "output_type": "display_data"
        }
      ],
      "source": [
        "embeddings = FastEmbedEmbeddings(model_name=\"BAAI/bge-base-en-v1.5\")"
      ]
    },
    {
      "cell_type": "code",
      "execution_count": null,
      "metadata": {
        "id": "vTo0PdHPm3WH"
      },
      "outputs": [],
      "source": [
        "qdrant = Qdrant.from_documents(\n",
        "    docs,\n",
        "    embeddings,\n",
        "    # location=\":memory:\",\n",
        "    path=\"./db\",\n",
        "    collection_name=\"document_embeddings\",\n",
        ")"
      ]
    },
    {
      "cell_type": "code",
      "execution_count": null,
      "metadata": {
        "colab": {
          "base_uri": "https://localhost:8080/"
        },
        "id": "a1yO1QPkm8Zq",
        "outputId": "17192914-6114-4513-bd2e-0773ce8b0979"
      },
      "outputs": [
        {
          "name": "stdout",
          "output_type": "stream",
          "text": [
            "CPU times: user 294 ms, sys: 0 ns, total: 294 ms\n",
            "Wall time: 293 ms\n"
          ]
        }
      ],
      "source": [
        "%%time\n",
        "query = \"What is the most important update from Citi's earnings?\"\n",
        "similar_docs = qdrant.similarity_search_with_score(query)"
      ]
    },
    {
      "cell_type": "code",
      "execution_count": null,
      "metadata": {
        "colab": {
          "base_uri": "https://localhost:8080/"
        },
        "id": "WGLrA_0npk2f",
        "outputId": "a6a5e38b-bbef-4231-babc-9955a9d09f0b"
      },
      "outputs": [
        {
          "name": "stdout",
          "output_type": "stream",
          "text": [
            "4\n"
          ]
        },
        {
          "data": {
            "text/plain": [
              "(Document(page_content='For Immediate Release\\n\\nCitigroup Inc. (NYSE: C)\\n\\nJuly 12, 2024\\n\\nSECOND QUARTER 2024 RESULTS AND KEY METRICS\\n\\n2Q Revenues 2Q Net Income 2Q EPS 2Q ROE CET1 Capital Ratio 2Q RoTCE $20.1B $3.2B $1.52 6.3% 13.6% 7.2%(1)\\n\\nRETURNED ~$1.0 BILLION IN THE FORM OF COMMON DIVIDENDS\\n\\nPAYOUT RATIO OF 34%(3)\\n\\nBOOK VALUE PER SHARE OF $99.70\\n\\nTANGIBLE BOOK VALUE PER SHARE OF $87.53(4)\\n\\nNew York, July 12, 2024 Citigroup Inc. today reported net income for the second quarter 2024 of $3.2 billion, or $1.52 per diluted share, on revenues of $20.1 billion. This compares to net income of $2.9 billion, or $1.33 per diluted share, on revenues of $19.4 billion for the second quarter 2023.\\n\\nRevenues increased 4% from the prior-year period, on a reported basis. Excluding divestiture-related impacts(5), revenues were up 3%. This increase in revenues was driven by growth across all businesses, particularly in Banking, U.S. Personal Banking (USPB) and Markets. The revenue increase included an approximate $400 million gain related to the Visa B exchange completed in the second quarter 2024. A significant portion of this gain was reflected in Markets, with the remainder in All Other. The revenue growth across the businesses was partially offset by a decline in All Other.\\n\\nNet income of $3.2 billion increased from $2.9 billion in the prior-year period, primarily driven by the higher revenues and lower expenses, partially offset by higher cost of credit.\\n\\nEarnings per share of $1.52 increased from $1.33 per diluted share in the prior-year period, reflecting the higher net income and an approximate 1% decrease in average diluted shares outstanding.\\n\\nPercentage comparisons throughout this press release are calculated for the second quarter 2024 versus the second quarter 2023, unless otherwise specified.\\n\\nCEO COMMENTARY', metadata={'source': 'data/parsed_document.md', '_id': 'e5036fcc18e94586ae053a62f7dcadc7', '_collection_name': 'document_embeddings'}),\n",
              " 0.7038000839142019)"
            ]
          },
          "execution_count": 24,
          "metadata": {},
          "output_type": "execute_result"
        }
      ],
      "source": [
        "# type(similar_docs)\n",
        "print(len(similar_docs))\n",
        "similar_docs[0]"
      ]
    },
    {
      "cell_type": "code",
      "execution_count": null,
      "metadata": {
        "colab": {
          "base_uri": "https://localhost:8080/",
          "height": 139
        },
        "id": "8G8Z9AZhqHXw",
        "outputId": "d28d61d7-5dc1-4d34-d590-04470e6407c8"
      },
      "outputs": [
        {
          "data": {
            "application/vnd.google.colaboratory.intrinsic+json": {
              "type": "string"
            },
            "text/plain": [
              "'For Immediate Release\\n\\nCitigroup Inc. (NYSE: C)\\n\\nJuly 12, 2024\\n\\nSECOND QUARTER 2024 RESULTS AND KEY METRICS\\n\\n2Q Revenues 2Q Net Income 2Q EPS 2Q ROE CET1 Capital Ratio 2Q RoTCE $20.1B $3.2B $1.52 6.3% 13.6% 7.2%(1)\\n\\nRETURNED ~$1.0 BILLION IN THE FORM OF COMMON DIVIDENDS\\n\\nPAYOUT RATIO OF 34%(3)\\n\\nBOOK VALUE PER SHARE OF $99.70\\n\\nTANGIBLE BOOK VALUE PER SHARE OF $87.53(4)\\n\\nNew York, July 12, 2024 Citigroup Inc. today reported net income for the second quarter 2024 of $3.2 billion, or $1.52 per diluted share, on revenues of $20.1 billion. This compares to net income of $2.9 billion, or $1.33 per diluted share, on revenues of $19.4 billion for the second quarter 2023.\\n\\nRevenues increased 4% from the prior-year period, on a reported basis. Excluding divestiture-related impacts(5), revenues were up 3%. This increase in revenues was driven by growth across all businesses, particularly in Banking, U.S. Personal Banking (USPB) and Markets. The revenue increase included an approximate $400 million gain related to the Visa B exchange completed in the second quarter 2024. A significant portion of this gain was reflected in Markets, with the remainder in All Other. The revenue growth across the businesses was partially offset by a decline in All Other.\\n\\nNet income of $3.2 billion increased from $2.9 billion in the prior-year period, primarily driven by the higher revenues and lower expenses, partially offset by higher cost of credit.\\n\\nEarnings per share of $1.52 increased from $1.33 per diluted share in the prior-year period, reflecting the higher net income and an approximate 1% decrease in average diluted shares outstanding.\\n\\nPercentage comparisons throughout this press release are calculated for the second quarter 2024 versus the second quarter 2023, unless otherwise specified.\\n\\nCEO COMMENTARY'"
            ]
          },
          "execution_count": 25,
          "metadata": {},
          "output_type": "execute_result"
        }
      ],
      "source": [
        "(similar_docs[0][0].page_content)"
      ]
    },
    {
      "cell_type": "code",
      "execution_count": null,
      "metadata": {
        "colab": {
          "base_uri": "https://localhost:8080/"
        },
        "id": "vDF6Ba_jne0S",
        "outputId": "0c9e23d4-3973-4d8a-a262-8f255fe2a946"
      },
      "outputs": [
        {
          "name": "stdout",
          "output_type": "stream",
          "text": [
            "text: For Immediate Release\n",
            "\n",
            "Citigroup Inc. (NYSE: C)\n",
            "\n",
            "July 12, 2024\n",
            "\n",
            "SECOND QUARTER 2024 RESULTS AND KEY METRICS\n",
            "\n",
            "2Q Revenues 2Q Net Income 2Q EPS 2Q ROE CET1 Capital Ratio 2Q RoTCE $20.1B $3.2B $1.52 6.3% 13.6% 7.2%(1)\n",
            "\n",
            "RETURNED ~$1.0 BILLION IN THE FORM OF CO\n",
            "\n",
            "score: 0.7038000839142019\n",
            "--------------------------------------------------------------------------------\n",
            "\n",
            "text: (b) Includes provisions on Other Assets, policyholder benefits and claims and HTM debt securities.\n",
            "\n",
            "Citigroup\n",
            "\n",
            "Citigroup revenues of $20.1 billion in the second quarter 2024 increased 4%, on a reported basis. Excluding divestiture-related impacts(5), reven\n",
            "\n",
            "score: 0.6678057306390563\n",
            "--------------------------------------------------------------------------------\n",
            "\n",
            "text: Wealth at Work revenues of $195 million decreased 13%, driven by deposit spread compression and higher mortgage funding costs, partially offset by higher investment fee revenues.\n",
            "\n",
            "Citigold revenues of $1.0 billion increased 6%, driven by higher investment \n",
            "\n",
            "score: 0.6560552534772204\n",
            "--------------------------------------------------------------------------------\n",
            "\n",
            "text: Contacts\n",
            "\n",
            "Investors: Jennifer Landis (212) 559-2718\n",
            "\n",
            "Press: Danielle Romero-Apsilos (212) 816-2264\n",
            "\n",
            "Appendix A\n",
            "\n",
            "Citigroup 2Q'24 1Q'24 2Q'23 Net Income (Loss) $3,217 $3,371 $2,915 Less: Preferred Dividends 242 279 288 Net Income (Loss) to Common Shareholder\n",
            "\n",
            "score: 0.6507859334448542\n",
            "--------------------------------------------------------------------------------\n",
            "\n"
          ]
        }
      ],
      "source": [
        "for doc, score in similar_docs:\n",
        "    print(f\"text: {doc.page_content[:256]}\\n\")\n",
        "    print(f\"score: {score}\")\n",
        "    print(\"-\" * 80)\n",
        "    print()"
      ]
    },
    {
      "cell_type": "code",
      "execution_count": null,
      "metadata": {
        "colab": {
          "base_uri": "https://localhost:8080/"
        },
        "id": "MKqUZkpPqE9i",
        "outputId": "9a637298-9ff1-4622-a5fc-14a32c604fc5"
      },
      "outputs": [
        {
          "name": "stdout",
          "output_type": "stream",
          "text": [
            "CPU times: user 290 ms, sys: 0 ns, total: 290 ms\n",
            "Wall time: 291 ms\n"
          ]
        }
      ],
      "source": [
        "%%time\n",
        "retriever = qdrant.as_retriever(search_kwargs={\"k\": 5})\n",
        "retrieved_docs = retriever.invoke(query)"
      ]
    },
    {
      "cell_type": "code",
      "execution_count": null,
      "metadata": {
        "colab": {
          "base_uri": "https://localhost:8080/",
          "height": 139
        },
        "id": "FjYYPMe3saJl",
        "outputId": "d8773a86-0786-4c3f-9d7e-d48ebc65b33e"
      },
      "outputs": [
        {
          "data": {
            "application/vnd.google.colaboratory.intrinsic+json": {
              "type": "string"
            },
            "text/plain": [
              "'For Immediate Release\\n\\nCitigroup Inc. (NYSE: C)\\n\\nJuly 12, 2024\\n\\nSECOND QUARTER 2024 RESULTS AND KEY METRICS\\n\\n2Q Revenues 2Q Net Income 2Q EPS 2Q ROE CET1 Capital Ratio 2Q RoTCE $20.1B $3.2B $1.52 6.3% 13.6% 7.2%(1)\\n\\nRETURNED ~$1.0 BILLION IN THE FORM OF COMMON DIVIDENDS\\n\\nPAYOUT RATIO OF 34%(3)\\n\\nBOOK VALUE PER SHARE OF $99.70\\n\\nTANGIBLE BOOK VALUE PER SHARE OF $87.53(4)\\n\\nNew York, July 12, 2024 Citigroup Inc. today reported net income for the second quarter 2024 of $3.2 billion, or $1.52 per diluted share, on revenues of $20.1 billion. This compares to net income of $2.9 billion, or $1.33 per diluted share, on revenues of $19.4 billion for the second quarter 2023.\\n\\nRevenues increased 4% from the prior-year period, on a reported basis. Excluding divestiture-related impacts(5), revenues were up 3%. This increase in revenues was driven by growth across all businesses, particularly in Banking, U.S. Personal Banking (USPB) and Markets. The revenue increase included an approximate $400 million gain related to the Visa B exchange completed in the second quarter 2024. A significant portion of this gain was reflected in Markets, with the remainder in All Other. The revenue growth across the businesses was partially offset by a decline in All Other.\\n\\nNet income of $3.2 billion increased from $2.9 billion in the prior-year period, primarily driven by the higher revenues and lower expenses, partially offset by higher cost of credit.\\n\\nEarnings per share of $1.52 increased from $1.33 per diluted share in the prior-year period, reflecting the higher net income and an approximate 1% decrease in average diluted shares outstanding.\\n\\nPercentage comparisons throughout this press release are calculated for the second quarter 2024 versus the second quarter 2023, unless otherwise specified.\\n\\nCEO COMMENTARY'"
            ]
          },
          "execution_count": 28,
          "metadata": {},
          "output_type": "execute_result"
        }
      ],
      "source": [
        "# len(retrieved_docs)\n",
        "retrieved_docs[0].page_content\n",
        "# retrieved_docs[0].metadata"
      ]
    },
    {
      "cell_type": "code",
      "execution_count": null,
      "metadata": {
        "colab": {
          "base_uri": "https://localhost:8080/"
        },
        "id": "rD5nNNevq86G",
        "outputId": "7e22fda7-2716-40d8-cd96-0d190301046f"
      },
      "outputs": [
        {
          "name": "stdout",
          "output_type": "stream",
          "text": [
            "id: e5036fcc18e94586ae053a62f7dcadc7\n",
            "\n",
            "text: For Immediate Release\n",
            "\n",
            "Citigroup Inc. (NYSE: C)\n",
            "\n",
            "July 12, 2024\n",
            "\n",
            "SECOND QUARTER 2024 RESULTS AND KEY METRICS\n",
            "\n",
            "2Q Revenues 2Q Net Income 2Q EPS 2Q ROE CET1 Capital Ratio 2Q RoTCE $20.1B $3.2B $1.52 6.3% 13.6% 7.2%(1)\n",
            "\n",
            "RETURNED ~$1.0 BILLION IN THE FORM OF CO\n",
            "\n",
            "--------------------------------------------------------------------------------\n",
            "\n",
            "id: 288fcdfd5b7143eea1188d8e11370e3d\n",
            "\n",
            "text: (b) Includes provisions on Other Assets, policyholder benefits and claims and HTM debt securities.\n",
            "\n",
            "Citigroup\n",
            "\n",
            "Citigroup revenues of $20.1 billion in the second quarter 2024 increased 4%, on a reported basis. Excluding divestiture-related impacts(5), reven\n",
            "\n",
            "--------------------------------------------------------------------------------\n",
            "\n",
            "id: 65cdb42c71824a8abb0e296e4b26fcfb\n",
            "\n",
            "text: Wealth at Work revenues of $195 million decreased 13%, driven by deposit spread compression and higher mortgage funding costs, partially offset by higher investment fee revenues.\n",
            "\n",
            "Citigold revenues of $1.0 billion increased 6%, driven by higher investment \n",
            "\n",
            "--------------------------------------------------------------------------------\n",
            "\n",
            "id: cb133875f320483cb56848966a5bf29f\n",
            "\n",
            "text: Contacts\n",
            "\n",
            "Investors: Jennifer Landis (212) 559-2718\n",
            "\n",
            "Press: Danielle Romero-Apsilos (212) 816-2264\n",
            "\n",
            "Appendix A\n",
            "\n",
            "Citigroup 2Q'24 1Q'24 2Q'23 Net Income (Loss) $3,217 $3,371 $2,915 Less: Preferred Dividends 242 279 288 Net Income (Loss) to Common Shareholder\n",
            "\n",
            "--------------------------------------------------------------------------------\n",
            "\n",
            "id: 5050eb15c998483aad1c993a4af22ec2\n",
            "\n",
            "text: Facebook: www.facebook.com/citi\n",
            "\n",
            "LinkedIn: www.linkedin.com/company/citi\n",
            "\n",
            "Forward-Looking Statements\n",
            "\n",
            "Certain statements in this release are forward-looking statements within the meaning of the Private Securities Litigation Reform Act of 1995. These statem\n",
            "\n",
            "--------------------------------------------------------------------------------\n",
            "\n"
          ]
        }
      ],
      "source": [
        "for doc in retrieved_docs:\n",
        "    print(f\"id: {doc.metadata['_id']}\\n\")\n",
        "    print(f\"text: {doc.page_content[:256]}\\n\")\n",
        "    print(\"-\" * 80)\n",
        "    print()"
      ]
    },
    {
      "cell_type": "code",
      "execution_count": null,
      "metadata": {
        "colab": {
          "base_uri": "https://localhost:8080/"
        },
        "id": "X49h9PBHswgw",
        "outputId": "e30f9792-8b11-4747-dd0d-556db20c5419"
      },
      "outputs": [
        {
          "name": "stdout",
          "output_type": "stream",
          "text": [
            "Downloading ms-marco-MiniLM-L-12-v2...\n"
          ]
        },
        {
          "name": "stderr",
          "output_type": "stream",
          "text": [
            "ms-marco-MiniLM-L-12-v2.zip: 100%|██████████| 21.6M/21.6M [00:00<00:00, 68.0MiB/s]\n"
          ]
        }
      ],
      "source": [
        "compressor = FlashrankRerank(model=\"ms-marco-MiniLM-L-12-v2\")\n",
        "compression_retriever = ContextualCompressionRetriever(\n",
        "    base_compressor=compressor, base_retriever=retriever\n",
        ")"
      ]
    },
    {
      "cell_type": "code",
      "execution_count": null,
      "metadata": {
        "colab": {
          "base_uri": "https://localhost:8080/"
        },
        "id": "DAzxYuxmttsn",
        "outputId": "89e3b0f0-190c-4f66-c320-6dc915521230"
      },
      "outputs": [
        {
          "name": "stdout",
          "output_type": "stream",
          "text": [
            "Running pairwise ranking..\n",
            "CPU times: user 2.19 s, sys: 205 ms, total: 2.4 s\n",
            "Wall time: 2.28 s\n"
          ]
        },
        {
          "data": {
            "text/plain": [
              "3"
            ]
          },
          "execution_count": 31,
          "metadata": {},
          "output_type": "execute_result"
        }
      ],
      "source": [
        "%%time\n",
        "reranked_docs = compression_retriever.invoke(query)\n",
        "len(reranked_docs)"
      ]
    },
    {
      "cell_type": "code",
      "execution_count": null,
      "metadata": {
        "colab": {
          "base_uri": "https://localhost:8080/"
        },
        "id": "bjVzwdQetzkT",
        "outputId": "332a5aa7-00bc-4db0-dbd8-79b4fd126d7c"
      },
      "outputs": [
        {
          "name": "stdout",
          "output_type": "stream",
          "text": [
            "id: e5036fcc18e94586ae053a62f7dcadc7\n",
            "\n",
            "text: For Immediate Release\n",
            "\n",
            "Citigroup Inc. (NYSE: C)\n",
            "\n",
            "July 12, 2024\n",
            "\n",
            "SECOND QUARTER 2024 RESULTS AND KEY METRICS\n",
            "\n",
            "2Q Revenues 2Q Net Income 2Q EPS 2Q ROE CET1 Capital Ratio 2Q RoTCE $20.1B $3.2B $1.52 6.3% 13.6% 7.2%(1)\n",
            "\n",
            "RETURNED ~$1.0 BILLION IN THE FORM OF CO\n",
            "\n",
            "score: 0.40258365869522095\n",
            "--------------------------------------------------------------------------------\n",
            "\n",
            "id: 288fcdfd5b7143eea1188d8e11370e3d\n",
            "\n",
            "text: (b) Includes provisions on Other Assets, policyholder benefits and claims and HTM debt securities.\n",
            "\n",
            "Citigroup\n",
            "\n",
            "Citigroup revenues of $20.1 billion in the second quarter 2024 increased 4%, on a reported basis. Excluding divestiture-related impacts(5), reven\n",
            "\n",
            "score: 0.19538599252700806\n",
            "--------------------------------------------------------------------------------\n",
            "\n",
            "id: 5050eb15c998483aad1c993a4af22ec2\n",
            "\n",
            "text: Facebook: www.facebook.com/citi\n",
            "\n",
            "LinkedIn: www.linkedin.com/company/citi\n",
            "\n",
            "Forward-Looking Statements\n",
            "\n",
            "Certain statements in this release are forward-looking statements within the meaning of the Private Securities Litigation Reform Act of 1995. These statem\n",
            "\n",
            "score: 0.04010715335607529\n",
            "--------------------------------------------------------------------------------\n",
            "\n"
          ]
        }
      ],
      "source": [
        "for doc in reranked_docs:\n",
        "    print(f\"id: {doc.metadata['_id']}\\n\")\n",
        "    print(f\"text: {doc.page_content[:256]}\\n\")\n",
        "    print(f\"score: {doc.metadata['relevance_score']}\")\n",
        "    print(\"-\" * 80)\n",
        "    print()"
      ]
    },
    {
      "cell_type": "code",
      "execution_count": null,
      "metadata": {
        "id": "BVRmukgmt4ef"
      },
      "outputs": [],
      "source": [
        "llm = ChatGroq(temperature=0, model_name=\"llama3-70b-8192\")"
      ]
    },
    {
      "cell_type": "code",
      "execution_count": null,
      "metadata": {
        "id": "lRbU9BTZuD9P"
      },
      "outputs": [],
      "source": [
        "prompt_template = \"\"\"\n",
        "Use the following pieces of information to answer the user's question.\n",
        "If you don't know the answer, just say that you don't know, don't try to make up an answer.\n",
        "\n",
        "Context: {context}\n",
        "Question: {question}\n",
        "\n",
        "Answer the question and provide additional helpful information,\n",
        "based on the pieces of information, if applicable. Be succinct.\n",
        "\n",
        "Responses should be properly formatted to be easily read.\n",
        "\"\"\"\n",
        "\n",
        "prompt = PromptTemplate(\n",
        "    template=prompt_template, input_variables=[\"context\", \"question\"]\n",
        ")"
      ]
    },
    {
      "cell_type": "code",
      "execution_count": null,
      "metadata": {
        "id": "B4fk01q-uGn-"
      },
      "outputs": [],
      "source": [
        "qa = RetrievalQA.from_chain_type(\n",
        "    llm=llm,\n",
        "    chain_type=\"stuff\",\n",
        "    retriever=compression_retriever,\n",
        "    return_source_documents=True,\n",
        "    chain_type_kwargs={\"prompt\": prompt, \"verbose\": True},\n",
        ")"
      ]
    },
    {
      "cell_type": "code",
      "execution_count": null,
      "metadata": {
        "colab": {
          "base_uri": "https://localhost:8080/"
        },
        "id": "j7Rrg0VbuI6Y",
        "outputId": "6efccf56-03eb-4ad2-c046-c57814b45c62"
      },
      "outputs": [
        {
          "name": "stdout",
          "output_type": "stream",
          "text": [
            "Running pairwise ranking..\n",
            "\n",
            "\n",
            "\u001b[1m> Entering new StuffDocumentsChain chain...\u001b[0m\n",
            "\n",
            "\n",
            "\u001b[1m> Entering new LLMChain chain...\u001b[0m\n",
            "Prompt after formatting:\n",
            "\u001b[32;1m\u001b[1;3m\n",
            "Use the following pieces of information to answer the user's question.\n",
            "If you don't know the answer, just say that you don't know, don't try to make up an answer.\n",
            "\n",
            "Context: For Immediate Release\n",
            "\n",
            "Citigroup Inc. (NYSE: C)\n",
            "\n",
            "July 12, 2024\n",
            "\n",
            "SECOND QUARTER 2024 RESULTS AND KEY METRICS\n",
            "\n",
            "2Q Revenues 2Q Net Income 2Q EPS 2Q ROE CET1 Capital Ratio 2Q RoTCE $20.1B $3.2B $1.52 6.3% 13.6% 7.2%(1)\n",
            "\n",
            "RETURNED ~$1.0 BILLION IN THE FORM OF COMMON DIVIDENDS\n",
            "\n",
            "PAYOUT RATIO OF 34%(3)\n",
            "\n",
            "BOOK VALUE PER SHARE OF $99.70\n",
            "\n",
            "TANGIBLE BOOK VALUE PER SHARE OF $87.53(4)\n",
            "\n",
            "New York, July 12, 2024 Citigroup Inc. today reported net income for the second quarter 2024 of $3.2 billion, or $1.52 per diluted share, on revenues of $20.1 billion. This compares to net income of $2.9 billion, or $1.33 per diluted share, on revenues of $19.4 billion for the second quarter 2023.\n",
            "\n",
            "Revenues increased 4% from the prior-year period, on a reported basis. Excluding divestiture-related impacts(5), revenues were up 3%. This increase in revenues was driven by growth across all businesses, particularly in Banking, U.S. Personal Banking (USPB) and Markets. The revenue increase included an approximate $400 million gain related to the Visa B exchange completed in the second quarter 2024. A significant portion of this gain was reflected in Markets, with the remainder in All Other. The revenue growth across the businesses was partially offset by a decline in All Other.\n",
            "\n",
            "Net income of $3.2 billion increased from $2.9 billion in the prior-year period, primarily driven by the higher revenues and lower expenses, partially offset by higher cost of credit.\n",
            "\n",
            "Earnings per share of $1.52 increased from $1.33 per diluted share in the prior-year period, reflecting the higher net income and an approximate 1% decrease in average diluted shares outstanding.\n",
            "\n",
            "Percentage comparisons throughout this press release are calculated for the second quarter 2024 versus the second quarter 2023, unless otherwise specified.\n",
            "\n",
            "CEO COMMENTARY\n",
            "\n",
            "(b) Includes provisions on Other Assets, policyholder benefits and claims and HTM debt securities.\n",
            "\n",
            "Citigroup\n",
            "\n",
            "Citigroup revenues of $20.1 billion in the second quarter 2024 increased 4%, on a reported basis. Excluding divestiture-related impacts(5), revenues were up 3%. This increase in revenues was driven by growth across all businesses, particularly in Banking, USPB and Markets. The revenue increase included an approximate $400 million gain related to the Visa B exchange completed in the second quarter 2024. A significant portion of this gain was reflected in Markets, with the remainder in All Other. The revenue growth across the businesses was partially offset by a decline in All Other.\n",
            "\n",
            "Citigroup operating expenses of $13.4 billion decreased 2%, both on a reported basis and excluding divestiture-related impacts(6). This decrease in expenses was primarily simplification, stranded cost reductions and lower repositioning costs, partially offset by continued investments in transformation and the civil money penalties imposed by the Federal Reserve Board (FRB) and the Office of the Comptroller of the Currency (OCC)(7).\n",
            "\n",
            "Citigroup cost of credit was approximately $2.5 billion in the second quarter 2024, compared to $1.8 billion in the prior-year period, primarily driven by higher cards net credit losses, partially offset by a lower allowance for credit losses (ACL) build in the current period.\n",
            "\n",
            "Citigroup net income was $3.2 billion in the second quarter 2024, compared to net income of $2.9 billion in the prior-year period, driven by the higher revenues and the lower expenses, partially offset by the higher cost of credit. The total allowance for credit losses was approximately $21.8 billion at quarter end, compared to $20.1 billion at the end of the prior-year period. Total ACL on loans was approximately $18.2 billion at quarter end, compared to $17.5 billion at the end of the prior-year period, with a reserve-to-funded loans ratio of 2.68%.\n",
            "\n",
            "Financial Overview\n",
            "\n",
            "Facebook: www.facebook.com/citi\n",
            "\n",
            "LinkedIn: www.linkedin.com/company/citi\n",
            "\n",
            "Forward-Looking Statements\n",
            "\n",
            "Certain statements in this release are forward-looking statements within the meaning of the Private Securities Litigation Reform Act of 1995. These statements are based on management's current expectations and are subject to uncertainty and changes in circumstances. These statements are not guarantees of future results or occurrences. Actual results and capital and other financial condition may differ materially from those included in these statements due to a variety of factors. These factors include, among others: macroeconomic, geopolitical and other challenges and uncertainties, including those related to economic growth, inflation and interest rates; the execution and management of Citi's investment, expense and capital-related actions; the potential outcomes of the extensive legal and regulatory proceedings, examinations, investigations, consent orders and related compliance efforts and other inquiries to which Citi is or may be subject; ongoing regulatory and legislative uncertainties and changes, including changes in regulatory capital rules, requirements or interpretations; and the precautionary statements included in this release. These factors also consist of those contained in Citigroup's filings with the U.S. Securities and Exchange Commission, including without limitation the Risk Factors section of Citigroup's 2023 Form 10-K. Any forward-looking statements made by or on behalf of Citigroup speak only as to the date they are made, and Citi does not undertake to update forward-looking statements to reflect the impact of circumstances or events that arise after the date the forward-looking statements were made.\n",
            "\n",
            "Contacts\n",
            "\n",
            "Investors: Jennifer Landis (212) 559-2718\n",
            "\n",
            "Press: Danielle Romero-Apsilos (212) 816-2264\n",
            "\n",
            "Appendix A\n",
            "Question: What is the most important update from Citi's earnings?\n",
            "\n",
            "Answer the question and provide additional helpful information,\n",
            "based on the pieces of information, if applicable. Be succinct.\n",
            "\n",
            "Responses should be properly formatted to be easily read.\n",
            "\u001b[0m\n",
            "\n",
            "\u001b[1m> Finished chain.\u001b[0m\n",
            "\n",
            "\u001b[1m> Finished chain.\u001b[0m\n",
            "CPU times: user 2.28 s, sys: 163 ms, total: 2.44 s\n",
            "Wall time: 3.11 s\n"
          ]
        }
      ],
      "source": [
        "%%time\n",
        "response = qa.invoke(query)"
      ]
    },
    {
      "cell_type": "code",
      "execution_count": null,
      "metadata": {
        "colab": {
          "base_uri": "https://localhost:8080/"
        },
        "id": "RxrZrjRYuc73",
        "outputId": "c29991d2-1693-4901-e02c-fa3dd4edfe7e"
      },
      "outputs": [
        {
          "data": {
            "text/plain": [
              "dict_keys(['query', 'result', 'source_documents'])"
            ]
          },
          "execution_count": 37,
          "metadata": {},
          "output_type": "execute_result"
        }
      ],
      "source": [
        "response.keys()"
      ]
    },
    {
      "cell_type": "code",
      "execution_count": null,
      "metadata": {
        "colab": {
          "base_uri": "https://localhost:8080/"
        },
        "id": "NvZVMOo8uOC6",
        "outputId": "23bc4c7b-c416-4cf5-ac47-e817ad11f727"
      },
      "outputs": [
        {
          "name": "stdout",
          "output_type": "stream",
          "text": [
            "**Answer:** The most important update from Citi's earnings is the 4% increase in revenues to $20.1\n",
            "billion, driven by growth across all businesses, particularly in Banking, U.S. Personal Banking\n",
            "(USPB), and Markets.\n",
            "\n",
            "**Additional helpful information:**\n",
            "\n",
            "* Net income increased to $3.2 billion, or $1.52 per diluted share, compared to $2.9 billion, or\n",
            "$1.33 per diluted share, in the prior-year period.\n",
            "* The revenue growth was partially offset by a decline in All Other, and included an approximate\n",
            "$400 million gain related to the Visa B exchange completed in the second quarter 2024.\n",
            "* Citigroup returned ~$1.0 billion in the form of common dividends, with a payout ratio of 34%.\n"
          ]
        }
      ],
      "source": [
        "print_response(response)"
      ]
    },
    {
      "cell_type": "code",
      "execution_count": null,
      "metadata": {
        "id": "skaR55KQuWWm"
      },
      "outputs": [],
      "source": [
        "qa = RetrievalQA.from_chain_type(\n",
        "    llm=llm,\n",
        "    chain_type=\"stuff\",\n",
        "    retriever=compression_retriever,\n",
        "    return_source_documents=True,\n",
        "    chain_type_kwargs={\"prompt\": prompt, \"verbose\": False},\n",
        ")"
      ]
    },
    {
      "cell_type": "code",
      "execution_count": null,
      "metadata": {
        "id": "RsT0YxwpvI6Z"
      },
      "outputs": [],
      "source": [
        "# %%time\n",
        "# response = qa.invoke(\"How did Citi's 2nd Quarter 2024 earnings compare to the 1st Quarter?\")\n",
        "# Markdown(response[\"result\"])"
      ]
    },
    {
      "cell_type": "code",
      "execution_count": null,
      "metadata": {
        "colab": {
          "base_uri": "https://localhost:8080/",
          "height": 195
        },
        "id": "eqTvX8AMUAhd",
        "outputId": "043b8455-649b-4223-ff97-49cce02d38d7"
      },
      "outputs": [
        {
          "name": "stdout",
          "output_type": "stream",
          "text": [
            "Running pairwise ranking..\n"
          ]
        },
        {
          "data": {
            "text/markdown": "**Most Important Update from Citi's Q2 Earnings:**\n\nThe most important update from Citi's Q2 earnings is the 4% increase in revenues to $20.1 billion, driven by growth across all businesses, particularly in Banking, U.S. Personal Banking (USPB), and Markets.\n\n**Additional Helpful Information:**\n\n* Net income increased to $3.2 billion, or $1.52 per diluted share, compared to $2.9 billion, or $1.33 per diluted share, in the prior-year period.\n* The company returned ~$1.0 billion in the form of common dividends, with a payout ratio of 34%.\n* Book value per share increased to $99.70, and tangible book value per share rose to $87.53.",
            "text/plain": [
              "<IPython.core.display.Markdown object>"
            ]
          },
          "execution_count": 41,
          "metadata": {},
          "output_type": "execute_result"
        }
      ],
      "source": [
        "response = qa.invoke(\"What is the most important update from Citi's Q2 earnings?\")\n",
        "Markdown(response[\"result\"])"
      ]
    },
    {
      "cell_type": "code",
      "execution_count": null,
      "metadata": {
        "colab": {
          "base_uri": "https://localhost:8080/",
          "height": 258
        },
        "id": "hVK_Ma3uvitk",
        "outputId": "70a4b7c2-35ca-4936-83d1-bf66290c53b6"
      },
      "outputs": [
        {
          "name": "stdout",
          "output_type": "stream",
          "text": [
            "Running pairwise ranking..\n"
          ]
        },
        {
          "data": {
            "text/markdown": "**How does Citi make money?**\n\nCiti makes money by providing a broad range of financial products and services to corporations, governments, investors, institutions, and individuals across nearly 180 countries and jurisdictions. The company generates revenue through various business segments, including Banking, U.S. Personal Banking (USPB), Markets, and All Other.\n\n**Additional helpful information:**\n\n* Citi's revenue for the second quarter 2024 was $20.1 billion, with a 4% increase from the prior-year period.\n* The revenue growth was driven by growth across all businesses, particularly in Banking, USPB, and Markets.\n* The company also reported a gain of approximately $400 million related to the Visa B exchange completed in the second quarter 2024.\n\nNote: The provided information does not provide a detailed breakdown of Citi's revenue streams, but it gives an overview of the company's business segments and revenue growth.",
            "text/plain": [
              "<IPython.core.display.Markdown object>"
            ]
          },
          "execution_count": 42,
          "metadata": {},
          "output_type": "execute_result"
        }
      ],
      "source": [
        "response = qa.invoke(\"How does Citi make money?\")\n",
        "Markdown(response[\"result\"])"
      ]
    },
    {
      "cell_type": "code",
      "execution_count": null,
      "metadata": {
        "colab": {
          "base_uri": "https://localhost:8080/",
          "height": 145
        },
        "id": "LIg-vdNov8mA",
        "outputId": "9a9c2218-ba31-4a41-df12-6780a5eab677"
      },
      "outputs": [
        {
          "name": "stdout",
          "output_type": "stream",
          "text": [
            "Running pairwise ranking..\n"
          ]
        },
        {
          "data": {
            "text/markdown": "**Answer:** The main driver of the 4% increase in revenue was growth across all businesses, particularly in Banking, USPB, and Markets.\n\n**Additional helpful information:**\n\n* The revenue increase included an approximate $400 million gain related to the Visa B exchange completed in the second quarter 2024, which was reflected in Markets and All Other.\n* The growth in revenue was partially offset by a decline in All Other.",
            "text/plain": [
              "<IPython.core.display.Markdown object>"
            ]
          },
          "execution_count": 43,
          "metadata": {},
          "output_type": "execute_result"
        }
      ],
      "source": [
        "response = qa.invoke(\"What was the main driver of the 4% increase in revenue?\")\n",
        "Markdown(response[\"result\"])"
      ]
    },
    {
      "cell_type": "code",
      "execution_count": null,
      "metadata": {
        "colab": {
          "base_uri": "https://localhost:8080/",
          "height": 203
        },
        "id": "o6NM8Q7V68lN",
        "outputId": "592c4f03-35fa-4982-8f90-75e4d1607c55"
      },
      "outputs": [
        {
          "name": "stdout",
          "output_type": "stream",
          "text": [
            "Running pairwise ranking..\n"
          ]
        },
        {
          "data": {
            "text/markdown": "**Answer:** \n\nBy 'a decline in All Other', it refers to the 7% decrease in All Other (managed basis) expenses of $2.1 billion, primarily driven by the closed exits and wind-downs, partially offset by the civil money penalties imposed by the FRB and the OCC.\n\n**Additional Information:**\n\n* All Other (managed basis) includes Legacy Franchises and certain unallocated costs of global staff functions, other corporate expenses, and unallocated global operations and technology expenses and income taxes, as well as Corporate Treasury investment activities and discontinued operations.\n* The decline in expenses was partially offset by higher cost of credit, which increased to $243 million, driven by a higher ACL build and higher net credit losses.",
            "text/plain": [
              "<IPython.core.display.Markdown object>"
            ]
          },
          "execution_count": 44,
          "metadata": {},
          "output_type": "execute_result"
        }
      ],
      "source": [
        "response = qa.invoke(\"What do you mean by 'a decline in All Other'?\")\n",
        "Markdown(response[\"result\"])"
      ]
    },
    {
      "cell_type": "code",
      "execution_count": null,
      "metadata": {
        "colab": {
          "base_uri": "https://localhost:8080/",
          "height": 461
        },
        "id": "JsHxWBbsqAhB",
        "outputId": "a6d9879b-5d18-4452-8065-d07608cdc512"
      },
      "outputs": [
        {
          "name": "stdout",
          "output_type": "stream",
          "text": [
            "Running pairwise ranking..\n"
          ]
        },
        {
          "data": {
            "text/markdown": "**EBITDA Calculation:**\n\nUnfortunately, the provided information does not explicitly mention EBITDA (Earnings Before Interest, Taxes, Depreciation, and Amortization). However, we can try to estimate it using the available data.\n\nFrom the income statement, we have:\n\n* Net income: $3,217 million\n* Provision for income taxes: $1,047 million\n* Income from continuing operations before taxes: $4,310 million\n* Total operating expenses: $13,353 million\n\nWe can estimate EBITDA by adding back depreciation and amortization to income from continuing operations before taxes. Unfortunately, the exact depreciation and amortization figures are not provided. However, we can make an educated estimate based on the industry average or historical data.\n\nAssuming a depreciation and amortization expense of around 10% of total operating expenses (a rough estimate), we get:\n\n* Depreciation and amortization: $1,335 million (10% of $13,353 million)\n\nNow, let's calculate EBITDA:\n\n* EBITDA ≈ Income from continuing operations before taxes + Depreciation and amortization\n* EBITDA ≈ $4,310 million + $1,335 million\n* EBITDA ≈ $5,645 million\n\nPlease note that this is a rough estimate and the actual EBITDA figure might be different.\n\n**Additional Information:**\n\n* Citigroup's net income increased by 10% year-over-year, driven by higher revenues and lower expenses, partially offset by higher cost of credit.\n* The company returned approximately $1.0 billion in the form of common dividends, with a payout ratio of 34%.\n* Book value per share and tangible book value per share increased by 2% and 3%, respectively, year-over-year.",
            "text/plain": [
              "<IPython.core.display.Markdown object>"
            ]
          },
          "execution_count": 45,
          "metadata": {},
          "output_type": "execute_result"
        }
      ],
      "source": [
        "response = qa.invoke(\"Can you calculate Citi's EBITDA in Q2?\")\n",
        "Markdown(response[\"result\"])"
      ]
    },
    {
      "cell_type": "code",
      "execution_count": null,
      "metadata": {
        "colab": {
          "base_uri": "https://localhost:8080/",
          "height": 221
        },
        "id": "fVGPR7ydRUnw",
        "outputId": "ae3e621f-40d7-444a-e39d-3fbbe45654ec"
      },
      "outputs": [
        {
          "name": "stdout",
          "output_type": "stream",
          "text": [
            "Running pairwise ranking..\n"
          ]
        },
        {
          "data": {
            "text/markdown": "**CEO Commentary Mentions:**\n\nThe CEO Commentary mentions the progress made in executing the company's strategy and the benefits of its diversified business model. It highlights the positive operating leverage, with revenue up 4% and a 2% decline in expenses. The commentary also mentions the strong performance of various business segments, including Services, Markets, Fixed Income, Equities, Banking, and Wealth. Additionally, it notes the strength of the company's balance sheet, with a CET1 ratio of 13.6%, and the decision to increase the dividend by 6%.\n\n**Additional Helpful Information:**\n\n* The company has made significant progress in simplification, both strategically and organizationally, and is modernizing its infrastructure to improve client service and automate processes to strengthen controls.\n* The company is focused on executing its transformation and strategy to meet its medium-term targets and continue to improve returns.",
            "text/plain": [
              "<IPython.core.display.Markdown object>"
            ]
          },
          "execution_count": 46,
          "metadata": {},
          "output_type": "execute_result"
        }
      ],
      "source": [
        "response = qa.invoke(\"What does the CEO Commentary mention?\")\n",
        "Markdown(response[\"result\"])"
      ]
    },
    {
      "cell_type": "code",
      "execution_count": null,
      "metadata": {
        "colab": {
          "base_uri": "https://localhost:8080/",
          "height": 358
        },
        "id": "53dntJXQT6TF",
        "outputId": "7be0d8d9-ceae-4d2a-f9b0-25eacf485621"
      },
      "outputs": [
        {
          "name": "stdout",
          "output_type": "stream",
          "text": [
            "Running pairwise ranking..\n"
          ]
        },
        {
          "data": {
            "text/markdown": "**What to look for in the provided financial information:**\n\n1. **Revenue growth**: Look for changes in revenue across different segments, such as Services, Markets, and others. Identify areas of growth and decline.\n2. **Net income and profitability**: Analyze the net income and profitability metrics, such as Return on Tangible Common Equity (RoTCE), to understand the company's ability to generate earnings.\n3. **Expenses and cost management**: Review total operating expenses and identify areas of increase or decrease. Assess the company's ability to manage costs.\n4. **Credit quality and provisioning**: Examine net credit losses, provision for credit losses, and the allowance for credit losses to understand the company's credit risk management.\n5. **Capital adequacy and regulatory metrics**: Review the company's capital position, including Common Equity Tier 1 Capital (CET1), Total Tier 1 Capital (T1C), and the Supplementary Leverage Ratio (SLR), to assess its ability to meet regulatory requirements.\n6. **Segment performance**: Analyze the performance of individual segments, such as Treasury and Trade Solutions, Securities Services, and Markets, to identify areas of strength and weakness.\n\n**Additional helpful information:**\n\n* The company provides a range of financial metrics, including non-GAAP measures, to help investors and analysts understand its performance.\n* The Appendices provide additional details on specific areas, such as capital adequacy, tangible common equity, and regulatory metrics.\n* The company's website (www.citigroup.com) offers more information on its business, financials, and segment trends.",
            "text/plain": [
              "<IPython.core.display.Markdown object>"
            ]
          },
          "execution_count": 47,
          "metadata": {},
          "output_type": "execute_result"
        }
      ],
      "source": [
        "response = qa.invoke(\"What should I be looking for specifically about the provided financial information?\")\n",
        "Markdown(response[\"result\"])"
      ]
    },
    {
      "cell_type": "code",
      "execution_count": null,
      "metadata": {
        "colab": {
          "base_uri": "https://localhost:8080/",
          "height": 150
        },
        "id": "GuV9N-cOKA--",
        "outputId": "6850d1e3-3472-4d4c-9a19-6c9bf6d62473"
      },
      "outputs": [
        {
          "name": "stdout",
          "output_type": "stream",
          "text": [
            "Running pairwise ranking..\n"
          ]
        },
        {
          "data": {
            "text/markdown": "**Answer:** The difference between investment banking and corporate lending sales in Q2 2024 is $88 million ($853 million in investment banking vs. $765 million in corporate lending).\n\n**Additional helpful information:**\n\n* Investment banking revenues increased by 60% year-over-year, while corporate lending revenues increased by 7% year-over-year.\n* Total Banking revenues, including gain/loss on loan hedges, were $1,627 million in Q2 2024, with a 38% year-over-year increase.",
            "text/plain": [
              "<IPython.core.display.Markdown object>"
            ]
          },
          "execution_count": 48,
          "metadata": {},
          "output_type": "execute_result"
        }
      ],
      "source": [
        "response = qa.invoke(\"What was the difference between investment banking and corporate lending sales in Q2 2024?\")\n",
        "Markdown(response[\"result\"])"
      ]
    },
    {
      "cell_type": "code",
      "execution_count": null,
      "metadata": {
        "id": "27pryd-5Ki9Z"
      },
      "outputs": [],
      "source": []
    }
  ],
  "metadata": {
    "colab": {
      "provenance": []
    },
    "kernelspec": {
      "display_name": "Python 3",
      "name": "python3"
    },
    "language_info": {
      "name": "python"
    },
    "widgets": {
      "application/vnd.jupyter.widget-state+json": {
        "054f40f64d854d029fd5df9059ac8f56": {
          "model_module": "@jupyter-widgets/controls",
          "model_module_version": "1.5.0",
          "model_name": "HBoxModel",
          "state": {
            "_dom_classes": [],
            "_model_module": "@jupyter-widgets/controls",
            "_model_module_version": "1.5.0",
            "_model_name": "HBoxModel",
            "_view_count": null,
            "_view_module": "@jupyter-widgets/controls",
            "_view_module_version": "1.5.0",
            "_view_name": "HBoxView",
            "box_style": "",
            "children": [
              "IPY_MODEL_3b7b08a3c4a3483fae243371f348120a",
              "IPY_MODEL_6cdec99bdb3d405486773d92173b46b9",
              "IPY_MODEL_814229a7cf444614b6d8cbc84dbf586f"
            ],
            "layout": "IPY_MODEL_05f76f8588414b8597837674fa3efaf7"
          }
        },
        "05f76f8588414b8597837674fa3efaf7": {
          "model_module": "@jupyter-widgets/base",
          "model_module_version": "1.2.0",
          "model_name": "LayoutModel",
          "state": {
            "_model_module": "@jupyter-widgets/base",
            "_model_module_version": "1.2.0",
            "_model_name": "LayoutModel",
            "_view_count": null,
            "_view_module": "@jupyter-widgets/base",
            "_view_module_version": "1.2.0",
            "_view_name": "LayoutView",
            "align_content": null,
            "align_items": null,
            "align_self": null,
            "border": null,
            "bottom": null,
            "display": null,
            "flex": null,
            "flex_flow": null,
            "grid_area": null,
            "grid_auto_columns": null,
            "grid_auto_flow": null,
            "grid_auto_rows": null,
            "grid_column": null,
            "grid_gap": null,
            "grid_row": null,
            "grid_template_areas": null,
            "grid_template_columns": null,
            "grid_template_rows": null,
            "height": null,
            "justify_content": null,
            "justify_items": null,
            "left": null,
            "margin": null,
            "max_height": null,
            "max_width": null,
            "min_height": null,
            "min_width": null,
            "object_fit": null,
            "object_position": null,
            "order": null,
            "overflow": null,
            "overflow_x": null,
            "overflow_y": null,
            "padding": null,
            "right": null,
            "top": null,
            "visibility": null,
            "width": null
          }
        },
        "06c1cc4557564b9cb301ff159fea247f": {
          "model_module": "@jupyter-widgets/controls",
          "model_module_version": "1.5.0",
          "model_name": "DescriptionStyleModel",
          "state": {
            "_model_module": "@jupyter-widgets/controls",
            "_model_module_version": "1.5.0",
            "_model_name": "DescriptionStyleModel",
            "_view_count": null,
            "_view_module": "@jupyter-widgets/base",
            "_view_module_version": "1.2.0",
            "_view_name": "StyleView",
            "description_width": ""
          }
        },
        "08126d6046784ed980c1600ba633b44d": {
          "model_module": "@jupyter-widgets/controls",
          "model_module_version": "1.5.0",
          "model_name": "HTMLModel",
          "state": {
            "_dom_classes": [],
            "_model_module": "@jupyter-widgets/controls",
            "_model_module_version": "1.5.0",
            "_model_name": "HTMLModel",
            "_view_count": null,
            "_view_module": "@jupyter-widgets/controls",
            "_view_module_version": "1.5.0",
            "_view_name": "HTMLView",
            "description": "",
            "description_tooltip": null,
            "layout": "IPY_MODEL_1ebb10a85ac44110b94d6281f82a7020",
            "placeholder": "​",
            "style": "IPY_MODEL_9b1538ea0b1647baa1b1e3708d70a3fc",
            "value": " 1.24k/1.24k [00:00&lt;00:00, 17.9kB/s]"
          }
        },
        "0b49a6d53e56423590fc478beb58f726": {
          "model_module": "@jupyter-widgets/controls",
          "model_module_version": "1.5.0",
          "model_name": "HTMLModel",
          "state": {
            "_dom_classes": [],
            "_model_module": "@jupyter-widgets/controls",
            "_model_module_version": "1.5.0",
            "_model_name": "HTMLModel",
            "_view_count": null,
            "_view_module": "@jupyter-widgets/controls",
            "_view_module_version": "1.5.0",
            "_view_name": "HTMLView",
            "description": "",
            "description_tooltip": null,
            "layout": "IPY_MODEL_69fb950fb4bf4d77b4cc95bf87b4726f",
            "placeholder": "​",
            "style": "IPY_MODEL_835318bd7ce74cb881ae4172ab26d6a5",
            "value": "tokenizer.json: 100%"
          }
        },
        "1324fc506309433e9c93a31d656a5f33": {
          "model_module": "@jupyter-widgets/base",
          "model_module_version": "1.2.0",
          "model_name": "LayoutModel",
          "state": {
            "_model_module": "@jupyter-widgets/base",
            "_model_module_version": "1.2.0",
            "_model_name": "LayoutModel",
            "_view_count": null,
            "_view_module": "@jupyter-widgets/base",
            "_view_module_version": "1.2.0",
            "_view_name": "LayoutView",
            "align_content": null,
            "align_items": null,
            "align_self": null,
            "border": null,
            "bottom": null,
            "display": null,
            "flex": null,
            "flex_flow": null,
            "grid_area": null,
            "grid_auto_columns": null,
            "grid_auto_flow": null,
            "grid_auto_rows": null,
            "grid_column": null,
            "grid_gap": null,
            "grid_row": null,
            "grid_template_areas": null,
            "grid_template_columns": null,
            "grid_template_rows": null,
            "height": null,
            "justify_content": null,
            "justify_items": null,
            "left": null,
            "margin": null,
            "max_height": null,
            "max_width": null,
            "min_height": null,
            "min_width": null,
            "object_fit": null,
            "object_position": null,
            "order": null,
            "overflow": null,
            "overflow_x": null,
            "overflow_y": null,
            "padding": null,
            "right": null,
            "top": null,
            "visibility": null,
            "width": null
          }
        },
        "15c479a2f7a3419a9fa2730543f3db2b": {
          "model_module": "@jupyter-widgets/controls",
          "model_module_version": "1.5.0",
          "model_name": "HTMLModel",
          "state": {
            "_dom_classes": [],
            "_model_module": "@jupyter-widgets/controls",
            "_model_module_version": "1.5.0",
            "_model_name": "HTMLModel",
            "_view_count": null,
            "_view_module": "@jupyter-widgets/controls",
            "_view_module_version": "1.5.0",
            "_view_name": "HTMLView",
            "description": "",
            "description_tooltip": null,
            "layout": "IPY_MODEL_ffa0f5d985074c17b146f6cb17c30088",
            "placeholder": "​",
            "style": "IPY_MODEL_78ab6c2e88414a7e9865373443fc70a0",
            "value": "special_tokens_map.json: 100%"
          }
        },
        "1e2b02d881244983ad555e1765b568f2": {
          "model_module": "@jupyter-widgets/base",
          "model_module_version": "1.2.0",
          "model_name": "LayoutModel",
          "state": {
            "_model_module": "@jupyter-widgets/base",
            "_model_module_version": "1.2.0",
            "_model_name": "LayoutModel",
            "_view_count": null,
            "_view_module": "@jupyter-widgets/base",
            "_view_module_version": "1.2.0",
            "_view_name": "LayoutView",
            "align_content": null,
            "align_items": null,
            "align_self": null,
            "border": null,
            "bottom": null,
            "display": null,
            "flex": null,
            "flex_flow": null,
            "grid_area": null,
            "grid_auto_columns": null,
            "grid_auto_flow": null,
            "grid_auto_rows": null,
            "grid_column": null,
            "grid_gap": null,
            "grid_row": null,
            "grid_template_areas": null,
            "grid_template_columns": null,
            "grid_template_rows": null,
            "height": null,
            "justify_content": null,
            "justify_items": null,
            "left": null,
            "margin": null,
            "max_height": null,
            "max_width": null,
            "min_height": null,
            "min_width": null,
            "object_fit": null,
            "object_position": null,
            "order": null,
            "overflow": null,
            "overflow_x": null,
            "overflow_y": null,
            "padding": null,
            "right": null,
            "top": null,
            "visibility": null,
            "width": null
          }
        },
        "1ebb10a85ac44110b94d6281f82a7020": {
          "model_module": "@jupyter-widgets/base",
          "model_module_version": "1.2.0",
          "model_name": "LayoutModel",
          "state": {
            "_model_module": "@jupyter-widgets/base",
            "_model_module_version": "1.2.0",
            "_model_name": "LayoutModel",
            "_view_count": null,
            "_view_module": "@jupyter-widgets/base",
            "_view_module_version": "1.2.0",
            "_view_name": "LayoutView",
            "align_content": null,
            "align_items": null,
            "align_self": null,
            "border": null,
            "bottom": null,
            "display": null,
            "flex": null,
            "flex_flow": null,
            "grid_area": null,
            "grid_auto_columns": null,
            "grid_auto_flow": null,
            "grid_auto_rows": null,
            "grid_column": null,
            "grid_gap": null,
            "grid_row": null,
            "grid_template_areas": null,
            "grid_template_columns": null,
            "grid_template_rows": null,
            "height": null,
            "justify_content": null,
            "justify_items": null,
            "left": null,
            "margin": null,
            "max_height": null,
            "max_width": null,
            "min_height": null,
            "min_width": null,
            "object_fit": null,
            "object_position": null,
            "order": null,
            "overflow": null,
            "overflow_x": null,
            "overflow_y": null,
            "padding": null,
            "right": null,
            "top": null,
            "visibility": null,
            "width": null
          }
        },
        "25cdde16e09b401a9d35d5d518bd0bbf": {
          "model_module": "@jupyter-widgets/base",
          "model_module_version": "1.2.0",
          "model_name": "LayoutModel",
          "state": {
            "_model_module": "@jupyter-widgets/base",
            "_model_module_version": "1.2.0",
            "_model_name": "LayoutModel",
            "_view_count": null,
            "_view_module": "@jupyter-widgets/base",
            "_view_module_version": "1.2.0",
            "_view_name": "LayoutView",
            "align_content": null,
            "align_items": null,
            "align_self": null,
            "border": null,
            "bottom": null,
            "display": null,
            "flex": null,
            "flex_flow": null,
            "grid_area": null,
            "grid_auto_columns": null,
            "grid_auto_flow": null,
            "grid_auto_rows": null,
            "grid_column": null,
            "grid_gap": null,
            "grid_row": null,
            "grid_template_areas": null,
            "grid_template_columns": null,
            "grid_template_rows": null,
            "height": null,
            "justify_content": null,
            "justify_items": null,
            "left": null,
            "margin": null,
            "max_height": null,
            "max_width": null,
            "min_height": null,
            "min_width": null,
            "object_fit": null,
            "object_position": null,
            "order": null,
            "overflow": null,
            "overflow_x": null,
            "overflow_y": null,
            "padding": null,
            "right": null,
            "top": null,
            "visibility": null,
            "width": null
          }
        },
        "2afd7a9a068041529a2b8f352b0fadd2": {
          "model_module": "@jupyter-widgets/controls",
          "model_module_version": "1.5.0",
          "model_name": "HTMLModel",
          "state": {
            "_dom_classes": [],
            "_model_module": "@jupyter-widgets/controls",
            "_model_module_version": "1.5.0",
            "_model_name": "HTMLModel",
            "_view_count": null,
            "_view_module": "@jupyter-widgets/controls",
            "_view_module_version": "1.5.0",
            "_view_name": "HTMLView",
            "description": "",
            "description_tooltip": null,
            "layout": "IPY_MODEL_79485063d9af4796b048a9b63abf61f7",
            "placeholder": "​",
            "style": "IPY_MODEL_41e528dc4b4941ff92270a9bc66c1e32",
            "value": " 740/740 [00:00&lt;00:00, 7.93kB/s]"
          }
        },
        "30fff62bf53e40afbdba435c486d5597": {
          "model_module": "@jupyter-widgets/base",
          "model_module_version": "1.2.0",
          "model_name": "LayoutModel",
          "state": {
            "_model_module": "@jupyter-widgets/base",
            "_model_module_version": "1.2.0",
            "_model_name": "LayoutModel",
            "_view_count": null,
            "_view_module": "@jupyter-widgets/base",
            "_view_module_version": "1.2.0",
            "_view_name": "LayoutView",
            "align_content": null,
            "align_items": null,
            "align_self": null,
            "border": null,
            "bottom": null,
            "display": null,
            "flex": null,
            "flex_flow": null,
            "grid_area": null,
            "grid_auto_columns": null,
            "grid_auto_flow": null,
            "grid_auto_rows": null,
            "grid_column": null,
            "grid_gap": null,
            "grid_row": null,
            "grid_template_areas": null,
            "grid_template_columns": null,
            "grid_template_rows": null,
            "height": null,
            "justify_content": null,
            "justify_items": null,
            "left": null,
            "margin": null,
            "max_height": null,
            "max_width": null,
            "min_height": null,
            "min_width": null,
            "object_fit": null,
            "object_position": null,
            "order": null,
            "overflow": null,
            "overflow_x": null,
            "overflow_y": null,
            "padding": null,
            "right": null,
            "top": null,
            "visibility": null,
            "width": null
          }
        },
        "34711c6c5f064ec7851f789deb0a377b": {
          "model_module": "@jupyter-widgets/controls",
          "model_module_version": "1.5.0",
          "model_name": "FloatProgressModel",
          "state": {
            "_dom_classes": [],
            "_model_module": "@jupyter-widgets/controls",
            "_model_module_version": "1.5.0",
            "_model_name": "FloatProgressModel",
            "_view_count": null,
            "_view_module": "@jupyter-widgets/controls",
            "_view_module_version": "1.5.0",
            "_view_name": "ProgressView",
            "bar_style": "success",
            "description": "",
            "description_tooltip": null,
            "layout": "IPY_MODEL_1e2b02d881244983ad555e1765b568f2",
            "max": 740,
            "min": 0,
            "orientation": "horizontal",
            "style": "IPY_MODEL_3cc7446e27804a6a8bdf61f9c269e0fc",
            "value": 740
          }
        },
        "3b7b08a3c4a3483fae243371f348120a": {
          "model_module": "@jupyter-widgets/controls",
          "model_module_version": "1.5.0",
          "model_name": "HTMLModel",
          "state": {
            "_dom_classes": [],
            "_model_module": "@jupyter-widgets/controls",
            "_model_module_version": "1.5.0",
            "_model_name": "HTMLModel",
            "_view_count": null,
            "_view_module": "@jupyter-widgets/controls",
            "_view_module_version": "1.5.0",
            "_view_name": "HTMLView",
            "description": "",
            "description_tooltip": null,
            "layout": "IPY_MODEL_f6885436f7124ade974f72cce4419798",
            "placeholder": "​",
            "style": "IPY_MODEL_06c1cc4557564b9cb301ff159fea247f",
            "value": "Fetching 5 files: 100%"
          }
        },
        "3cc7446e27804a6a8bdf61f9c269e0fc": {
          "model_module": "@jupyter-widgets/controls",
          "model_module_version": "1.5.0",
          "model_name": "ProgressStyleModel",
          "state": {
            "_model_module": "@jupyter-widgets/controls",
            "_model_module_version": "1.5.0",
            "_model_name": "ProgressStyleModel",
            "_view_count": null,
            "_view_module": "@jupyter-widgets/base",
            "_view_module_version": "1.2.0",
            "_view_name": "StyleView",
            "bar_color": null,
            "description_width": ""
          }
        },
        "3f237649370944eb8db27cd86a492054": {
          "model_module": "@jupyter-widgets/controls",
          "model_module_version": "1.5.0",
          "model_name": "HTMLModel",
          "state": {
            "_dom_classes": [],
            "_model_module": "@jupyter-widgets/controls",
            "_model_module_version": "1.5.0",
            "_model_name": "HTMLModel",
            "_view_count": null,
            "_view_module": "@jupyter-widgets/controls",
            "_view_module_version": "1.5.0",
            "_view_name": "HTMLView",
            "description": "",
            "description_tooltip": null,
            "layout": "IPY_MODEL_a5f7177fb4fd4d80b3b6b3806f96ff48",
            "placeholder": "​",
            "style": "IPY_MODEL_e64d6a3b7a4945afa8344d7ace4764a3",
            "value": " 218M/218M [00:01&lt;00:00, 158MB/s]"
          }
        },
        "41e528dc4b4941ff92270a9bc66c1e32": {
          "model_module": "@jupyter-widgets/controls",
          "model_module_version": "1.5.0",
          "model_name": "DescriptionStyleModel",
          "state": {
            "_model_module": "@jupyter-widgets/controls",
            "_model_module_version": "1.5.0",
            "_model_name": "DescriptionStyleModel",
            "_view_count": null,
            "_view_module": "@jupyter-widgets/base",
            "_view_module_version": "1.2.0",
            "_view_name": "StyleView",
            "description_width": ""
          }
        },
        "46a9701ac2b04932a87d334a5a010534": {
          "model_module": "@jupyter-widgets/base",
          "model_module_version": "1.2.0",
          "model_name": "LayoutModel",
          "state": {
            "_model_module": "@jupyter-widgets/base",
            "_model_module_version": "1.2.0",
            "_model_name": "LayoutModel",
            "_view_count": null,
            "_view_module": "@jupyter-widgets/base",
            "_view_module_version": "1.2.0",
            "_view_name": "LayoutView",
            "align_content": null,
            "align_items": null,
            "align_self": null,
            "border": null,
            "bottom": null,
            "display": null,
            "flex": null,
            "flex_flow": null,
            "grid_area": null,
            "grid_auto_columns": null,
            "grid_auto_flow": null,
            "grid_auto_rows": null,
            "grid_column": null,
            "grid_gap": null,
            "grid_row": null,
            "grid_template_areas": null,
            "grid_template_columns": null,
            "grid_template_rows": null,
            "height": null,
            "justify_content": null,
            "justify_items": null,
            "left": null,
            "margin": null,
            "max_height": null,
            "max_width": null,
            "min_height": null,
            "min_width": null,
            "object_fit": null,
            "object_position": null,
            "order": null,
            "overflow": null,
            "overflow_x": null,
            "overflow_y": null,
            "padding": null,
            "right": null,
            "top": null,
            "visibility": null,
            "width": null
          }
        },
        "4d4076580de54fb5be5993368d47540b": {
          "model_module": "@jupyter-widgets/base",
          "model_module_version": "1.2.0",
          "model_name": "LayoutModel",
          "state": {
            "_model_module": "@jupyter-widgets/base",
            "_model_module_version": "1.2.0",
            "_model_name": "LayoutModel",
            "_view_count": null,
            "_view_module": "@jupyter-widgets/base",
            "_view_module_version": "1.2.0",
            "_view_name": "LayoutView",
            "align_content": null,
            "align_items": null,
            "align_self": null,
            "border": null,
            "bottom": null,
            "display": null,
            "flex": null,
            "flex_flow": null,
            "grid_area": null,
            "grid_auto_columns": null,
            "grid_auto_flow": null,
            "grid_auto_rows": null,
            "grid_column": null,
            "grid_gap": null,
            "grid_row": null,
            "grid_template_areas": null,
            "grid_template_columns": null,
            "grid_template_rows": null,
            "height": null,
            "justify_content": null,
            "justify_items": null,
            "left": null,
            "margin": null,
            "max_height": null,
            "max_width": null,
            "min_height": null,
            "min_width": null,
            "object_fit": null,
            "object_position": null,
            "order": null,
            "overflow": null,
            "overflow_x": null,
            "overflow_y": null,
            "padding": null,
            "right": null,
            "top": null,
            "visibility": null,
            "width": null
          }
        },
        "4d5597d3514b48db8b36606d258f0fd9": {
          "model_module": "@jupyter-widgets/controls",
          "model_module_version": "1.5.0",
          "model_name": "FloatProgressModel",
          "state": {
            "_dom_classes": [],
            "_model_module": "@jupyter-widgets/controls",
            "_model_module_version": "1.5.0",
            "_model_name": "FloatProgressModel",
            "_view_count": null,
            "_view_module": "@jupyter-widgets/controls",
            "_view_module_version": "1.5.0",
            "_view_name": "ProgressView",
            "bar_style": "success",
            "description": "",
            "description_tooltip": null,
            "layout": "IPY_MODEL_1324fc506309433e9c93a31d656a5f33",
            "max": 695,
            "min": 0,
            "orientation": "horizontal",
            "style": "IPY_MODEL_a4a96f22492e49f2a7df1b214bb2a7b2",
            "value": 695
          }
        },
        "4db801d6139c41a19779206bc4f60c0c": {
          "model_module": "@jupyter-widgets/controls",
          "model_module_version": "1.5.0",
          "model_name": "ProgressStyleModel",
          "state": {
            "_model_module": "@jupyter-widgets/controls",
            "_model_module_version": "1.5.0",
            "_model_name": "ProgressStyleModel",
            "_view_count": null,
            "_view_module": "@jupyter-widgets/base",
            "_view_module_version": "1.2.0",
            "_view_name": "StyleView",
            "bar_color": null,
            "description_width": ""
          }
        },
        "53b043e3673f461ebc4c6def58ea1a5f": {
          "model_module": "@jupyter-widgets/base",
          "model_module_version": "1.2.0",
          "model_name": "LayoutModel",
          "state": {
            "_model_module": "@jupyter-widgets/base",
            "_model_module_version": "1.2.0",
            "_model_name": "LayoutModel",
            "_view_count": null,
            "_view_module": "@jupyter-widgets/base",
            "_view_module_version": "1.2.0",
            "_view_name": "LayoutView",
            "align_content": null,
            "align_items": null,
            "align_self": null,
            "border": null,
            "bottom": null,
            "display": null,
            "flex": null,
            "flex_flow": null,
            "grid_area": null,
            "grid_auto_columns": null,
            "grid_auto_flow": null,
            "grid_auto_rows": null,
            "grid_column": null,
            "grid_gap": null,
            "grid_row": null,
            "grid_template_areas": null,
            "grid_template_columns": null,
            "grid_template_rows": null,
            "height": null,
            "justify_content": null,
            "justify_items": null,
            "left": null,
            "margin": null,
            "max_height": null,
            "max_width": null,
            "min_height": null,
            "min_width": null,
            "object_fit": null,
            "object_position": null,
            "order": null,
            "overflow": null,
            "overflow_x": null,
            "overflow_y": null,
            "padding": null,
            "right": null,
            "top": null,
            "visibility": null,
            "width": null
          }
        },
        "5f12b26e4d8d4909b565982d79357d1a": {
          "model_module": "@jupyter-widgets/controls",
          "model_module_version": "1.5.0",
          "model_name": "DescriptionStyleModel",
          "state": {
            "_model_module": "@jupyter-widgets/controls",
            "_model_module_version": "1.5.0",
            "_model_name": "DescriptionStyleModel",
            "_view_count": null,
            "_view_module": "@jupyter-widgets/base",
            "_view_module_version": "1.2.0",
            "_view_name": "StyleView",
            "description_width": ""
          }
        },
        "5f392277cbf74488822ef7650b08e130": {
          "model_module": "@jupyter-widgets/controls",
          "model_module_version": "1.5.0",
          "model_name": "HTMLModel",
          "state": {
            "_dom_classes": [],
            "_model_module": "@jupyter-widgets/controls",
            "_model_module_version": "1.5.0",
            "_model_name": "HTMLModel",
            "_view_count": null,
            "_view_module": "@jupyter-widgets/controls",
            "_view_module_version": "1.5.0",
            "_view_name": "HTMLView",
            "description": "",
            "description_tooltip": null,
            "layout": "IPY_MODEL_25cdde16e09b401a9d35d5d518bd0bbf",
            "placeholder": "​",
            "style": "IPY_MODEL_a09778d4a7384764a7db0649509b51de",
            "value": " 711k/711k [00:00&lt;00:00, 3.04MB/s]"
          }
        },
        "62d6d2178b9847e5ac2688d4c9d30a68": {
          "model_module": "@jupyter-widgets/base",
          "model_module_version": "1.2.0",
          "model_name": "LayoutModel",
          "state": {
            "_model_module": "@jupyter-widgets/base",
            "_model_module_version": "1.2.0",
            "_model_name": "LayoutModel",
            "_view_count": null,
            "_view_module": "@jupyter-widgets/base",
            "_view_module_version": "1.2.0",
            "_view_name": "LayoutView",
            "align_content": null,
            "align_items": null,
            "align_self": null,
            "border": null,
            "bottom": null,
            "display": null,
            "flex": null,
            "flex_flow": null,
            "grid_area": null,
            "grid_auto_columns": null,
            "grid_auto_flow": null,
            "grid_auto_rows": null,
            "grid_column": null,
            "grid_gap": null,
            "grid_row": null,
            "grid_template_areas": null,
            "grid_template_columns": null,
            "grid_template_rows": null,
            "height": null,
            "justify_content": null,
            "justify_items": null,
            "left": null,
            "margin": null,
            "max_height": null,
            "max_width": null,
            "min_height": null,
            "min_width": null,
            "object_fit": null,
            "object_position": null,
            "order": null,
            "overflow": null,
            "overflow_x": null,
            "overflow_y": null,
            "padding": null,
            "right": null,
            "top": null,
            "visibility": null,
            "width": null
          }
        },
        "690d33a6a8bc403f9c11f706f887bccd": {
          "model_module": "@jupyter-widgets/controls",
          "model_module_version": "1.5.0",
          "model_name": "HBoxModel",
          "state": {
            "_dom_classes": [],
            "_model_module": "@jupyter-widgets/controls",
            "_model_module_version": "1.5.0",
            "_model_name": "HBoxModel",
            "_view_count": null,
            "_view_module": "@jupyter-widgets/controls",
            "_view_module_version": "1.5.0",
            "_view_name": "HBoxView",
            "box_style": "",
            "children": [
              "IPY_MODEL_0b49a6d53e56423590fc478beb58f726",
              "IPY_MODEL_cf78a38394244dfba4feda6c25f1591a",
              "IPY_MODEL_5f392277cbf74488822ef7650b08e130"
            ],
            "layout": "IPY_MODEL_d792b59b59114554abbdf41b7c07f585"
          }
        },
        "691db8b1a3a7401b9b4f3c6e6baf2e22": {
          "model_module": "@jupyter-widgets/controls",
          "model_module_version": "1.5.0",
          "model_name": "HBoxModel",
          "state": {
            "_dom_classes": [],
            "_model_module": "@jupyter-widgets/controls",
            "_model_module_version": "1.5.0",
            "_model_name": "HBoxModel",
            "_view_count": null,
            "_view_module": "@jupyter-widgets/controls",
            "_view_module_version": "1.5.0",
            "_view_name": "HBoxView",
            "box_style": "",
            "children": [
              "IPY_MODEL_15c479a2f7a3419a9fa2730543f3db2b",
              "IPY_MODEL_4d5597d3514b48db8b36606d258f0fd9",
              "IPY_MODEL_772aad31c5594c9b968a53330bf5a8b1"
            ],
            "layout": "IPY_MODEL_62d6d2178b9847e5ac2688d4c9d30a68"
          }
        },
        "69fb950fb4bf4d77b4cc95bf87b4726f": {
          "model_module": "@jupyter-widgets/base",
          "model_module_version": "1.2.0",
          "model_name": "LayoutModel",
          "state": {
            "_model_module": "@jupyter-widgets/base",
            "_model_module_version": "1.2.0",
            "_model_name": "LayoutModel",
            "_view_count": null,
            "_view_module": "@jupyter-widgets/base",
            "_view_module_version": "1.2.0",
            "_view_name": "LayoutView",
            "align_content": null,
            "align_items": null,
            "align_self": null,
            "border": null,
            "bottom": null,
            "display": null,
            "flex": null,
            "flex_flow": null,
            "grid_area": null,
            "grid_auto_columns": null,
            "grid_auto_flow": null,
            "grid_auto_rows": null,
            "grid_column": null,
            "grid_gap": null,
            "grid_row": null,
            "grid_template_areas": null,
            "grid_template_columns": null,
            "grid_template_rows": null,
            "height": null,
            "justify_content": null,
            "justify_items": null,
            "left": null,
            "margin": null,
            "max_height": null,
            "max_width": null,
            "min_height": null,
            "min_width": null,
            "object_fit": null,
            "object_position": null,
            "order": null,
            "overflow": null,
            "overflow_x": null,
            "overflow_y": null,
            "padding": null,
            "right": null,
            "top": null,
            "visibility": null,
            "width": null
          }
        },
        "6ac25042a2d5432cb373586b2e674478": {
          "model_module": "@jupyter-widgets/base",
          "model_module_version": "1.2.0",
          "model_name": "LayoutModel",
          "state": {
            "_model_module": "@jupyter-widgets/base",
            "_model_module_version": "1.2.0",
            "_model_name": "LayoutModel",
            "_view_count": null,
            "_view_module": "@jupyter-widgets/base",
            "_view_module_version": "1.2.0",
            "_view_name": "LayoutView",
            "align_content": null,
            "align_items": null,
            "align_self": null,
            "border": null,
            "bottom": null,
            "display": null,
            "flex": null,
            "flex_flow": null,
            "grid_area": null,
            "grid_auto_columns": null,
            "grid_auto_flow": null,
            "grid_auto_rows": null,
            "grid_column": null,
            "grid_gap": null,
            "grid_row": null,
            "grid_template_areas": null,
            "grid_template_columns": null,
            "grid_template_rows": null,
            "height": null,
            "justify_content": null,
            "justify_items": null,
            "left": null,
            "margin": null,
            "max_height": null,
            "max_width": null,
            "min_height": null,
            "min_width": null,
            "object_fit": null,
            "object_position": null,
            "order": null,
            "overflow": null,
            "overflow_x": null,
            "overflow_y": null,
            "padding": null,
            "right": null,
            "top": null,
            "visibility": null,
            "width": null
          }
        },
        "6cdec99bdb3d405486773d92173b46b9": {
          "model_module": "@jupyter-widgets/controls",
          "model_module_version": "1.5.0",
          "model_name": "FloatProgressModel",
          "state": {
            "_dom_classes": [],
            "_model_module": "@jupyter-widgets/controls",
            "_model_module_version": "1.5.0",
            "_model_name": "FloatProgressModel",
            "_view_count": null,
            "_view_module": "@jupyter-widgets/controls",
            "_view_module_version": "1.5.0",
            "_view_name": "ProgressView",
            "bar_style": "success",
            "description": "",
            "description_tooltip": null,
            "layout": "IPY_MODEL_6ac25042a2d5432cb373586b2e674478",
            "max": 5,
            "min": 0,
            "orientation": "horizontal",
            "style": "IPY_MODEL_e542a97c22104359b17a5594c02f6b6b",
            "value": 5
          }
        },
        "7201f175f05d401abeb64cfeeda21cfa": {
          "model_module": "@jupyter-widgets/controls",
          "model_module_version": "1.5.0",
          "model_name": "DescriptionStyleModel",
          "state": {
            "_model_module": "@jupyter-widgets/controls",
            "_model_module_version": "1.5.0",
            "_model_name": "DescriptionStyleModel",
            "_view_count": null,
            "_view_module": "@jupyter-widgets/base",
            "_view_module_version": "1.2.0",
            "_view_name": "StyleView",
            "description_width": ""
          }
        },
        "772aad31c5594c9b968a53330bf5a8b1": {
          "model_module": "@jupyter-widgets/controls",
          "model_module_version": "1.5.0",
          "model_name": "HTMLModel",
          "state": {
            "_dom_classes": [],
            "_model_module": "@jupyter-widgets/controls",
            "_model_module_version": "1.5.0",
            "_model_name": "HTMLModel",
            "_view_count": null,
            "_view_module": "@jupyter-widgets/controls",
            "_view_module_version": "1.5.0",
            "_view_name": "HTMLView",
            "description": "",
            "description_tooltip": null,
            "layout": "IPY_MODEL_8ae018711b5a4790a091784a1b46ff62",
            "placeholder": "​",
            "style": "IPY_MODEL_7201f175f05d401abeb64cfeeda21cfa",
            "value": " 695/695 [00:00&lt;00:00, 5.97kB/s]"
          }
        },
        "78ab6c2e88414a7e9865373443fc70a0": {
          "model_module": "@jupyter-widgets/controls",
          "model_module_version": "1.5.0",
          "model_name": "DescriptionStyleModel",
          "state": {
            "_model_module": "@jupyter-widgets/controls",
            "_model_module_version": "1.5.0",
            "_model_name": "DescriptionStyleModel",
            "_view_count": null,
            "_view_module": "@jupyter-widgets/base",
            "_view_module_version": "1.2.0",
            "_view_name": "StyleView",
            "description_width": ""
          }
        },
        "79485063d9af4796b048a9b63abf61f7": {
          "model_module": "@jupyter-widgets/base",
          "model_module_version": "1.2.0",
          "model_name": "LayoutModel",
          "state": {
            "_model_module": "@jupyter-widgets/base",
            "_model_module_version": "1.2.0",
            "_model_name": "LayoutModel",
            "_view_count": null,
            "_view_module": "@jupyter-widgets/base",
            "_view_module_version": "1.2.0",
            "_view_name": "LayoutView",
            "align_content": null,
            "align_items": null,
            "align_self": null,
            "border": null,
            "bottom": null,
            "display": null,
            "flex": null,
            "flex_flow": null,
            "grid_area": null,
            "grid_auto_columns": null,
            "grid_auto_flow": null,
            "grid_auto_rows": null,
            "grid_column": null,
            "grid_gap": null,
            "grid_row": null,
            "grid_template_areas": null,
            "grid_template_columns": null,
            "grid_template_rows": null,
            "height": null,
            "justify_content": null,
            "justify_items": null,
            "left": null,
            "margin": null,
            "max_height": null,
            "max_width": null,
            "min_height": null,
            "min_width": null,
            "object_fit": null,
            "object_position": null,
            "order": null,
            "overflow": null,
            "overflow_x": null,
            "overflow_y": null,
            "padding": null,
            "right": null,
            "top": null,
            "visibility": null,
            "width": null
          }
        },
        "7e778afe5dd0417f894de5d3b7f97773": {
          "model_module": "@jupyter-widgets/controls",
          "model_module_version": "1.5.0",
          "model_name": "HTMLModel",
          "state": {
            "_dom_classes": [],
            "_model_module": "@jupyter-widgets/controls",
            "_model_module_version": "1.5.0",
            "_model_name": "HTMLModel",
            "_view_count": null,
            "_view_module": "@jupyter-widgets/controls",
            "_view_module_version": "1.5.0",
            "_view_name": "HTMLView",
            "description": "",
            "description_tooltip": null,
            "layout": "IPY_MODEL_eb429d0f58f74ecda47a82d999587ba3",
            "placeholder": "​",
            "style": "IPY_MODEL_cd10cfd8c8a840bfa7dfe0f055c32d99",
            "value": "model_optimized.onnx: 100%"
          }
        },
        "814229a7cf444614b6d8cbc84dbf586f": {
          "model_module": "@jupyter-widgets/controls",
          "model_module_version": "1.5.0",
          "model_name": "HTMLModel",
          "state": {
            "_dom_classes": [],
            "_model_module": "@jupyter-widgets/controls",
            "_model_module_version": "1.5.0",
            "_model_name": "HTMLModel",
            "_view_count": null,
            "_view_module": "@jupyter-widgets/controls",
            "_view_module_version": "1.5.0",
            "_view_name": "HTMLView",
            "description": "",
            "description_tooltip": null,
            "layout": "IPY_MODEL_da9ebb2dec394802b818982e02ef0928",
            "placeholder": "​",
            "style": "IPY_MODEL_e45ecc3e42a54522976ebe5217165d28",
            "value": " 5/5 [00:02&lt;00:00,  1.50s/it]"
          }
        },
        "835318bd7ce74cb881ae4172ab26d6a5": {
          "model_module": "@jupyter-widgets/controls",
          "model_module_version": "1.5.0",
          "model_name": "DescriptionStyleModel",
          "state": {
            "_model_module": "@jupyter-widgets/controls",
            "_model_module_version": "1.5.0",
            "_model_name": "DescriptionStyleModel",
            "_view_count": null,
            "_view_module": "@jupyter-widgets/base",
            "_view_module_version": "1.2.0",
            "_view_name": "StyleView",
            "description_width": ""
          }
        },
        "84548fb4000f4aea99670c8541b1207a": {
          "model_module": "@jupyter-widgets/controls",
          "model_module_version": "1.5.0",
          "model_name": "HBoxModel",
          "state": {
            "_dom_classes": [],
            "_model_module": "@jupyter-widgets/controls",
            "_model_module_version": "1.5.0",
            "_model_name": "HBoxModel",
            "_view_count": null,
            "_view_module": "@jupyter-widgets/controls",
            "_view_module_version": "1.5.0",
            "_view_name": "HBoxView",
            "box_style": "",
            "children": [
              "IPY_MODEL_7e778afe5dd0417f894de5d3b7f97773",
              "IPY_MODEL_de169219bd904782992d2beeb8a4aa04",
              "IPY_MODEL_3f237649370944eb8db27cd86a492054"
            ],
            "layout": "IPY_MODEL_f06ce6845edd4364905ca73bcc2e190c"
          }
        },
        "850276e3ebd04e6e9da658e2d295a601": {
          "model_module": "@jupyter-widgets/controls",
          "model_module_version": "1.5.0",
          "model_name": "ProgressStyleModel",
          "state": {
            "_model_module": "@jupyter-widgets/controls",
            "_model_module_version": "1.5.0",
            "_model_name": "ProgressStyleModel",
            "_view_count": null,
            "_view_module": "@jupyter-widgets/base",
            "_view_module_version": "1.2.0",
            "_view_name": "StyleView",
            "bar_color": null,
            "description_width": ""
          }
        },
        "85ecbc1c00b84c0fa48ffbf5f76b272c": {
          "model_module": "@jupyter-widgets/controls",
          "model_module_version": "1.5.0",
          "model_name": "HBoxModel",
          "state": {
            "_dom_classes": [],
            "_model_module": "@jupyter-widgets/controls",
            "_model_module_version": "1.5.0",
            "_model_name": "HBoxModel",
            "_view_count": null,
            "_view_module": "@jupyter-widgets/controls",
            "_view_module_version": "1.5.0",
            "_view_name": "HBoxView",
            "box_style": "",
            "children": [
              "IPY_MODEL_b8be265d61384590906bc5ba1ffd2ce2",
              "IPY_MODEL_d59284756b864a0faf6d0737e7a714e7",
              "IPY_MODEL_08126d6046784ed980c1600ba633b44d"
            ],
            "layout": "IPY_MODEL_e5879e8f633c4c019b45744d1f2d102c"
          }
        },
        "870133eda4d544ed8f8aeb05d21d67c7": {
          "model_module": "@jupyter-widgets/controls",
          "model_module_version": "1.5.0",
          "model_name": "HBoxModel",
          "state": {
            "_dom_classes": [],
            "_model_module": "@jupyter-widgets/controls",
            "_model_module_version": "1.5.0",
            "_model_name": "HBoxModel",
            "_view_count": null,
            "_view_module": "@jupyter-widgets/controls",
            "_view_module_version": "1.5.0",
            "_view_name": "HBoxView",
            "box_style": "",
            "children": [
              "IPY_MODEL_e737e6e14a50400cb29bf83cc5631385",
              "IPY_MODEL_34711c6c5f064ec7851f789deb0a377b",
              "IPY_MODEL_2afd7a9a068041529a2b8f352b0fadd2"
            ],
            "layout": "IPY_MODEL_46a9701ac2b04932a87d334a5a010534"
          }
        },
        "8ae018711b5a4790a091784a1b46ff62": {
          "model_module": "@jupyter-widgets/base",
          "model_module_version": "1.2.0",
          "model_name": "LayoutModel",
          "state": {
            "_model_module": "@jupyter-widgets/base",
            "_model_module_version": "1.2.0",
            "_model_name": "LayoutModel",
            "_view_count": null,
            "_view_module": "@jupyter-widgets/base",
            "_view_module_version": "1.2.0",
            "_view_name": "LayoutView",
            "align_content": null,
            "align_items": null,
            "align_self": null,
            "border": null,
            "bottom": null,
            "display": null,
            "flex": null,
            "flex_flow": null,
            "grid_area": null,
            "grid_auto_columns": null,
            "grid_auto_flow": null,
            "grid_auto_rows": null,
            "grid_column": null,
            "grid_gap": null,
            "grid_row": null,
            "grid_template_areas": null,
            "grid_template_columns": null,
            "grid_template_rows": null,
            "height": null,
            "justify_content": null,
            "justify_items": null,
            "left": null,
            "margin": null,
            "max_height": null,
            "max_width": null,
            "min_height": null,
            "min_width": null,
            "object_fit": null,
            "object_position": null,
            "order": null,
            "overflow": null,
            "overflow_x": null,
            "overflow_y": null,
            "padding": null,
            "right": null,
            "top": null,
            "visibility": null,
            "width": null
          }
        },
        "9b1538ea0b1647baa1b1e3708d70a3fc": {
          "model_module": "@jupyter-widgets/controls",
          "model_module_version": "1.5.0",
          "model_name": "DescriptionStyleModel",
          "state": {
            "_model_module": "@jupyter-widgets/controls",
            "_model_module_version": "1.5.0",
            "_model_name": "DescriptionStyleModel",
            "_view_count": null,
            "_view_module": "@jupyter-widgets/base",
            "_view_module_version": "1.2.0",
            "_view_name": "StyleView",
            "description_width": ""
          }
        },
        "a09778d4a7384764a7db0649509b51de": {
          "model_module": "@jupyter-widgets/controls",
          "model_module_version": "1.5.0",
          "model_name": "DescriptionStyleModel",
          "state": {
            "_model_module": "@jupyter-widgets/controls",
            "_model_module_version": "1.5.0",
            "_model_name": "DescriptionStyleModel",
            "_view_count": null,
            "_view_module": "@jupyter-widgets/base",
            "_view_module_version": "1.2.0",
            "_view_name": "StyleView",
            "description_width": ""
          }
        },
        "a4a96f22492e49f2a7df1b214bb2a7b2": {
          "model_module": "@jupyter-widgets/controls",
          "model_module_version": "1.5.0",
          "model_name": "ProgressStyleModel",
          "state": {
            "_model_module": "@jupyter-widgets/controls",
            "_model_module_version": "1.5.0",
            "_model_name": "ProgressStyleModel",
            "_view_count": null,
            "_view_module": "@jupyter-widgets/base",
            "_view_module_version": "1.2.0",
            "_view_name": "StyleView",
            "bar_color": null,
            "description_width": ""
          }
        },
        "a5f7177fb4fd4d80b3b6b3806f96ff48": {
          "model_module": "@jupyter-widgets/base",
          "model_module_version": "1.2.0",
          "model_name": "LayoutModel",
          "state": {
            "_model_module": "@jupyter-widgets/base",
            "_model_module_version": "1.2.0",
            "_model_name": "LayoutModel",
            "_view_count": null,
            "_view_module": "@jupyter-widgets/base",
            "_view_module_version": "1.2.0",
            "_view_name": "LayoutView",
            "align_content": null,
            "align_items": null,
            "align_self": null,
            "border": null,
            "bottom": null,
            "display": null,
            "flex": null,
            "flex_flow": null,
            "grid_area": null,
            "grid_auto_columns": null,
            "grid_auto_flow": null,
            "grid_auto_rows": null,
            "grid_column": null,
            "grid_gap": null,
            "grid_row": null,
            "grid_template_areas": null,
            "grid_template_columns": null,
            "grid_template_rows": null,
            "height": null,
            "justify_content": null,
            "justify_items": null,
            "left": null,
            "margin": null,
            "max_height": null,
            "max_width": null,
            "min_height": null,
            "min_width": null,
            "object_fit": null,
            "object_position": null,
            "order": null,
            "overflow": null,
            "overflow_x": null,
            "overflow_y": null,
            "padding": null,
            "right": null,
            "top": null,
            "visibility": null,
            "width": null
          }
        },
        "b8be265d61384590906bc5ba1ffd2ce2": {
          "model_module": "@jupyter-widgets/controls",
          "model_module_version": "1.5.0",
          "model_name": "HTMLModel",
          "state": {
            "_dom_classes": [],
            "_model_module": "@jupyter-widgets/controls",
            "_model_module_version": "1.5.0",
            "_model_name": "HTMLModel",
            "_view_count": null,
            "_view_module": "@jupyter-widgets/controls",
            "_view_module_version": "1.5.0",
            "_view_name": "HTMLView",
            "description": "",
            "description_tooltip": null,
            "layout": "IPY_MODEL_4d4076580de54fb5be5993368d47540b",
            "placeholder": "​",
            "style": "IPY_MODEL_5f12b26e4d8d4909b565982d79357d1a",
            "value": "tokenizer_config.json: 100%"
          }
        },
        "b8c7aa24bb25409fa78ec52a4a1f2261": {
          "model_module": "@jupyter-widgets/base",
          "model_module_version": "1.2.0",
          "model_name": "LayoutModel",
          "state": {
            "_model_module": "@jupyter-widgets/base",
            "_model_module_version": "1.2.0",
            "_model_name": "LayoutModel",
            "_view_count": null,
            "_view_module": "@jupyter-widgets/base",
            "_view_module_version": "1.2.0",
            "_view_name": "LayoutView",
            "align_content": null,
            "align_items": null,
            "align_self": null,
            "border": null,
            "bottom": null,
            "display": null,
            "flex": null,
            "flex_flow": null,
            "grid_area": null,
            "grid_auto_columns": null,
            "grid_auto_flow": null,
            "grid_auto_rows": null,
            "grid_column": null,
            "grid_gap": null,
            "grid_row": null,
            "grid_template_areas": null,
            "grid_template_columns": null,
            "grid_template_rows": null,
            "height": null,
            "justify_content": null,
            "justify_items": null,
            "left": null,
            "margin": null,
            "max_height": null,
            "max_width": null,
            "min_height": null,
            "min_width": null,
            "object_fit": null,
            "object_position": null,
            "order": null,
            "overflow": null,
            "overflow_x": null,
            "overflow_y": null,
            "padding": null,
            "right": null,
            "top": null,
            "visibility": null,
            "width": null
          }
        },
        "cc661e4120bf4841836e332e8563612d": {
          "model_module": "@jupyter-widgets/controls",
          "model_module_version": "1.5.0",
          "model_name": "ProgressStyleModel",
          "state": {
            "_model_module": "@jupyter-widgets/controls",
            "_model_module_version": "1.5.0",
            "_model_name": "ProgressStyleModel",
            "_view_count": null,
            "_view_module": "@jupyter-widgets/base",
            "_view_module_version": "1.2.0",
            "_view_name": "StyleView",
            "bar_color": null,
            "description_width": ""
          }
        },
        "cd10cfd8c8a840bfa7dfe0f055c32d99": {
          "model_module": "@jupyter-widgets/controls",
          "model_module_version": "1.5.0",
          "model_name": "DescriptionStyleModel",
          "state": {
            "_model_module": "@jupyter-widgets/controls",
            "_model_module_version": "1.5.0",
            "_model_name": "DescriptionStyleModel",
            "_view_count": null,
            "_view_module": "@jupyter-widgets/base",
            "_view_module_version": "1.2.0",
            "_view_name": "StyleView",
            "description_width": ""
          }
        },
        "cf78a38394244dfba4feda6c25f1591a": {
          "model_module": "@jupyter-widgets/controls",
          "model_module_version": "1.5.0",
          "model_name": "FloatProgressModel",
          "state": {
            "_dom_classes": [],
            "_model_module": "@jupyter-widgets/controls",
            "_model_module_version": "1.5.0",
            "_model_name": "FloatProgressModel",
            "_view_count": null,
            "_view_module": "@jupyter-widgets/controls",
            "_view_module_version": "1.5.0",
            "_view_name": "ProgressView",
            "bar_style": "success",
            "description": "",
            "description_tooltip": null,
            "layout": "IPY_MODEL_e43357c4f8234e728ca6e4dc949e7e3c",
            "max": 711396,
            "min": 0,
            "orientation": "horizontal",
            "style": "IPY_MODEL_cc661e4120bf4841836e332e8563612d",
            "value": 711396
          }
        },
        "d59284756b864a0faf6d0737e7a714e7": {
          "model_module": "@jupyter-widgets/controls",
          "model_module_version": "1.5.0",
          "model_name": "FloatProgressModel",
          "state": {
            "_dom_classes": [],
            "_model_module": "@jupyter-widgets/controls",
            "_model_module_version": "1.5.0",
            "_model_name": "FloatProgressModel",
            "_view_count": null,
            "_view_module": "@jupyter-widgets/controls",
            "_view_module_version": "1.5.0",
            "_view_name": "ProgressView",
            "bar_style": "success",
            "description": "",
            "description_tooltip": null,
            "layout": "IPY_MODEL_30fff62bf53e40afbdba435c486d5597",
            "max": 1242,
            "min": 0,
            "orientation": "horizontal",
            "style": "IPY_MODEL_4db801d6139c41a19779206bc4f60c0c",
            "value": 1242
          }
        },
        "d792b59b59114554abbdf41b7c07f585": {
          "model_module": "@jupyter-widgets/base",
          "model_module_version": "1.2.0",
          "model_name": "LayoutModel",
          "state": {
            "_model_module": "@jupyter-widgets/base",
            "_model_module_version": "1.2.0",
            "_model_name": "LayoutModel",
            "_view_count": null,
            "_view_module": "@jupyter-widgets/base",
            "_view_module_version": "1.2.0",
            "_view_name": "LayoutView",
            "align_content": null,
            "align_items": null,
            "align_self": null,
            "border": null,
            "bottom": null,
            "display": null,
            "flex": null,
            "flex_flow": null,
            "grid_area": null,
            "grid_auto_columns": null,
            "grid_auto_flow": null,
            "grid_auto_rows": null,
            "grid_column": null,
            "grid_gap": null,
            "grid_row": null,
            "grid_template_areas": null,
            "grid_template_columns": null,
            "grid_template_rows": null,
            "height": null,
            "justify_content": null,
            "justify_items": null,
            "left": null,
            "margin": null,
            "max_height": null,
            "max_width": null,
            "min_height": null,
            "min_width": null,
            "object_fit": null,
            "object_position": null,
            "order": null,
            "overflow": null,
            "overflow_x": null,
            "overflow_y": null,
            "padding": null,
            "right": null,
            "top": null,
            "visibility": null,
            "width": null
          }
        },
        "da9ebb2dec394802b818982e02ef0928": {
          "model_module": "@jupyter-widgets/base",
          "model_module_version": "1.2.0",
          "model_name": "LayoutModel",
          "state": {
            "_model_module": "@jupyter-widgets/base",
            "_model_module_version": "1.2.0",
            "_model_name": "LayoutModel",
            "_view_count": null,
            "_view_module": "@jupyter-widgets/base",
            "_view_module_version": "1.2.0",
            "_view_name": "LayoutView",
            "align_content": null,
            "align_items": null,
            "align_self": null,
            "border": null,
            "bottom": null,
            "display": null,
            "flex": null,
            "flex_flow": null,
            "grid_area": null,
            "grid_auto_columns": null,
            "grid_auto_flow": null,
            "grid_auto_rows": null,
            "grid_column": null,
            "grid_gap": null,
            "grid_row": null,
            "grid_template_areas": null,
            "grid_template_columns": null,
            "grid_template_rows": null,
            "height": null,
            "justify_content": null,
            "justify_items": null,
            "left": null,
            "margin": null,
            "max_height": null,
            "max_width": null,
            "min_height": null,
            "min_width": null,
            "object_fit": null,
            "object_position": null,
            "order": null,
            "overflow": null,
            "overflow_x": null,
            "overflow_y": null,
            "padding": null,
            "right": null,
            "top": null,
            "visibility": null,
            "width": null
          }
        },
        "de169219bd904782992d2beeb8a4aa04": {
          "model_module": "@jupyter-widgets/controls",
          "model_module_version": "1.5.0",
          "model_name": "FloatProgressModel",
          "state": {
            "_dom_classes": [],
            "_model_module": "@jupyter-widgets/controls",
            "_model_module_version": "1.5.0",
            "_model_name": "FloatProgressModel",
            "_view_count": null,
            "_view_module": "@jupyter-widgets/controls",
            "_view_module_version": "1.5.0",
            "_view_name": "ProgressView",
            "bar_style": "success",
            "description": "",
            "description_tooltip": null,
            "layout": "IPY_MODEL_53b043e3673f461ebc4c6def58ea1a5f",
            "max": 217824172,
            "min": 0,
            "orientation": "horizontal",
            "style": "IPY_MODEL_850276e3ebd04e6e9da658e2d295a601",
            "value": 217824172
          }
        },
        "e43357c4f8234e728ca6e4dc949e7e3c": {
          "model_module": "@jupyter-widgets/base",
          "model_module_version": "1.2.0",
          "model_name": "LayoutModel",
          "state": {
            "_model_module": "@jupyter-widgets/base",
            "_model_module_version": "1.2.0",
            "_model_name": "LayoutModel",
            "_view_count": null,
            "_view_module": "@jupyter-widgets/base",
            "_view_module_version": "1.2.0",
            "_view_name": "LayoutView",
            "align_content": null,
            "align_items": null,
            "align_self": null,
            "border": null,
            "bottom": null,
            "display": null,
            "flex": null,
            "flex_flow": null,
            "grid_area": null,
            "grid_auto_columns": null,
            "grid_auto_flow": null,
            "grid_auto_rows": null,
            "grid_column": null,
            "grid_gap": null,
            "grid_row": null,
            "grid_template_areas": null,
            "grid_template_columns": null,
            "grid_template_rows": null,
            "height": null,
            "justify_content": null,
            "justify_items": null,
            "left": null,
            "margin": null,
            "max_height": null,
            "max_width": null,
            "min_height": null,
            "min_width": null,
            "object_fit": null,
            "object_position": null,
            "order": null,
            "overflow": null,
            "overflow_x": null,
            "overflow_y": null,
            "padding": null,
            "right": null,
            "top": null,
            "visibility": null,
            "width": null
          }
        },
        "e45ecc3e42a54522976ebe5217165d28": {
          "model_module": "@jupyter-widgets/controls",
          "model_module_version": "1.5.0",
          "model_name": "DescriptionStyleModel",
          "state": {
            "_model_module": "@jupyter-widgets/controls",
            "_model_module_version": "1.5.0",
            "_model_name": "DescriptionStyleModel",
            "_view_count": null,
            "_view_module": "@jupyter-widgets/base",
            "_view_module_version": "1.2.0",
            "_view_name": "StyleView",
            "description_width": ""
          }
        },
        "e51542dabc884679ac7421e91256611a": {
          "model_module": "@jupyter-widgets/controls",
          "model_module_version": "1.5.0",
          "model_name": "DescriptionStyleModel",
          "state": {
            "_model_module": "@jupyter-widgets/controls",
            "_model_module_version": "1.5.0",
            "_model_name": "DescriptionStyleModel",
            "_view_count": null,
            "_view_module": "@jupyter-widgets/base",
            "_view_module_version": "1.2.0",
            "_view_name": "StyleView",
            "description_width": ""
          }
        },
        "e542a97c22104359b17a5594c02f6b6b": {
          "model_module": "@jupyter-widgets/controls",
          "model_module_version": "1.5.0",
          "model_name": "ProgressStyleModel",
          "state": {
            "_model_module": "@jupyter-widgets/controls",
            "_model_module_version": "1.5.0",
            "_model_name": "ProgressStyleModel",
            "_view_count": null,
            "_view_module": "@jupyter-widgets/base",
            "_view_module_version": "1.2.0",
            "_view_name": "StyleView",
            "bar_color": null,
            "description_width": ""
          }
        },
        "e5879e8f633c4c019b45744d1f2d102c": {
          "model_module": "@jupyter-widgets/base",
          "model_module_version": "1.2.0",
          "model_name": "LayoutModel",
          "state": {
            "_model_module": "@jupyter-widgets/base",
            "_model_module_version": "1.2.0",
            "_model_name": "LayoutModel",
            "_view_count": null,
            "_view_module": "@jupyter-widgets/base",
            "_view_module_version": "1.2.0",
            "_view_name": "LayoutView",
            "align_content": null,
            "align_items": null,
            "align_self": null,
            "border": null,
            "bottom": null,
            "display": null,
            "flex": null,
            "flex_flow": null,
            "grid_area": null,
            "grid_auto_columns": null,
            "grid_auto_flow": null,
            "grid_auto_rows": null,
            "grid_column": null,
            "grid_gap": null,
            "grid_row": null,
            "grid_template_areas": null,
            "grid_template_columns": null,
            "grid_template_rows": null,
            "height": null,
            "justify_content": null,
            "justify_items": null,
            "left": null,
            "margin": null,
            "max_height": null,
            "max_width": null,
            "min_height": null,
            "min_width": null,
            "object_fit": null,
            "object_position": null,
            "order": null,
            "overflow": null,
            "overflow_x": null,
            "overflow_y": null,
            "padding": null,
            "right": null,
            "top": null,
            "visibility": null,
            "width": null
          }
        },
        "e64d6a3b7a4945afa8344d7ace4764a3": {
          "model_module": "@jupyter-widgets/controls",
          "model_module_version": "1.5.0",
          "model_name": "DescriptionStyleModel",
          "state": {
            "_model_module": "@jupyter-widgets/controls",
            "_model_module_version": "1.5.0",
            "_model_name": "DescriptionStyleModel",
            "_view_count": null,
            "_view_module": "@jupyter-widgets/base",
            "_view_module_version": "1.2.0",
            "_view_name": "StyleView",
            "description_width": ""
          }
        },
        "e737e6e14a50400cb29bf83cc5631385": {
          "model_module": "@jupyter-widgets/controls",
          "model_module_version": "1.5.0",
          "model_name": "HTMLModel",
          "state": {
            "_dom_classes": [],
            "_model_module": "@jupyter-widgets/controls",
            "_model_module_version": "1.5.0",
            "_model_name": "HTMLModel",
            "_view_count": null,
            "_view_module": "@jupyter-widgets/controls",
            "_view_module_version": "1.5.0",
            "_view_name": "HTMLView",
            "description": "",
            "description_tooltip": null,
            "layout": "IPY_MODEL_b8c7aa24bb25409fa78ec52a4a1f2261",
            "placeholder": "​",
            "style": "IPY_MODEL_e51542dabc884679ac7421e91256611a",
            "value": "config.json: 100%"
          }
        },
        "eb429d0f58f74ecda47a82d999587ba3": {
          "model_module": "@jupyter-widgets/base",
          "model_module_version": "1.2.0",
          "model_name": "LayoutModel",
          "state": {
            "_model_module": "@jupyter-widgets/base",
            "_model_module_version": "1.2.0",
            "_model_name": "LayoutModel",
            "_view_count": null,
            "_view_module": "@jupyter-widgets/base",
            "_view_module_version": "1.2.0",
            "_view_name": "LayoutView",
            "align_content": null,
            "align_items": null,
            "align_self": null,
            "border": null,
            "bottom": null,
            "display": null,
            "flex": null,
            "flex_flow": null,
            "grid_area": null,
            "grid_auto_columns": null,
            "grid_auto_flow": null,
            "grid_auto_rows": null,
            "grid_column": null,
            "grid_gap": null,
            "grid_row": null,
            "grid_template_areas": null,
            "grid_template_columns": null,
            "grid_template_rows": null,
            "height": null,
            "justify_content": null,
            "justify_items": null,
            "left": null,
            "margin": null,
            "max_height": null,
            "max_width": null,
            "min_height": null,
            "min_width": null,
            "object_fit": null,
            "object_position": null,
            "order": null,
            "overflow": null,
            "overflow_x": null,
            "overflow_y": null,
            "padding": null,
            "right": null,
            "top": null,
            "visibility": null,
            "width": null
          }
        },
        "f06ce6845edd4364905ca73bcc2e190c": {
          "model_module": "@jupyter-widgets/base",
          "model_module_version": "1.2.0",
          "model_name": "LayoutModel",
          "state": {
            "_model_module": "@jupyter-widgets/base",
            "_model_module_version": "1.2.0",
            "_model_name": "LayoutModel",
            "_view_count": null,
            "_view_module": "@jupyter-widgets/base",
            "_view_module_version": "1.2.0",
            "_view_name": "LayoutView",
            "align_content": null,
            "align_items": null,
            "align_self": null,
            "border": null,
            "bottom": null,
            "display": null,
            "flex": null,
            "flex_flow": null,
            "grid_area": null,
            "grid_auto_columns": null,
            "grid_auto_flow": null,
            "grid_auto_rows": null,
            "grid_column": null,
            "grid_gap": null,
            "grid_row": null,
            "grid_template_areas": null,
            "grid_template_columns": null,
            "grid_template_rows": null,
            "height": null,
            "justify_content": null,
            "justify_items": null,
            "left": null,
            "margin": null,
            "max_height": null,
            "max_width": null,
            "min_height": null,
            "min_width": null,
            "object_fit": null,
            "object_position": null,
            "order": null,
            "overflow": null,
            "overflow_x": null,
            "overflow_y": null,
            "padding": null,
            "right": null,
            "top": null,
            "visibility": null,
            "width": null
          }
        },
        "f6885436f7124ade974f72cce4419798": {
          "model_module": "@jupyter-widgets/base",
          "model_module_version": "1.2.0",
          "model_name": "LayoutModel",
          "state": {
            "_model_module": "@jupyter-widgets/base",
            "_model_module_version": "1.2.0",
            "_model_name": "LayoutModel",
            "_view_count": null,
            "_view_module": "@jupyter-widgets/base",
            "_view_module_version": "1.2.0",
            "_view_name": "LayoutView",
            "align_content": null,
            "align_items": null,
            "align_self": null,
            "border": null,
            "bottom": null,
            "display": null,
            "flex": null,
            "flex_flow": null,
            "grid_area": null,
            "grid_auto_columns": null,
            "grid_auto_flow": null,
            "grid_auto_rows": null,
            "grid_column": null,
            "grid_gap": null,
            "grid_row": null,
            "grid_template_areas": null,
            "grid_template_columns": null,
            "grid_template_rows": null,
            "height": null,
            "justify_content": null,
            "justify_items": null,
            "left": null,
            "margin": null,
            "max_height": null,
            "max_width": null,
            "min_height": null,
            "min_width": null,
            "object_fit": null,
            "object_position": null,
            "order": null,
            "overflow": null,
            "overflow_x": null,
            "overflow_y": null,
            "padding": null,
            "right": null,
            "top": null,
            "visibility": null,
            "width": null
          }
        },
        "ffa0f5d985074c17b146f6cb17c30088": {
          "model_module": "@jupyter-widgets/base",
          "model_module_version": "1.2.0",
          "model_name": "LayoutModel",
          "state": {
            "_model_module": "@jupyter-widgets/base",
            "_model_module_version": "1.2.0",
            "_model_name": "LayoutModel",
            "_view_count": null,
            "_view_module": "@jupyter-widgets/base",
            "_view_module_version": "1.2.0",
            "_view_name": "LayoutView",
            "align_content": null,
            "align_items": null,
            "align_self": null,
            "border": null,
            "bottom": null,
            "display": null,
            "flex": null,
            "flex_flow": null,
            "grid_area": null,
            "grid_auto_columns": null,
            "grid_auto_flow": null,
            "grid_auto_rows": null,
            "grid_column": null,
            "grid_gap": null,
            "grid_row": null,
            "grid_template_areas": null,
            "grid_template_columns": null,
            "grid_template_rows": null,
            "height": null,
            "justify_content": null,
            "justify_items": null,
            "left": null,
            "margin": null,
            "max_height": null,
            "max_width": null,
            "min_height": null,
            "min_width": null,
            "object_fit": null,
            "object_position": null,
            "order": null,
            "overflow": null,
            "overflow_x": null,
            "overflow_y": null,
            "padding": null,
            "right": null,
            "top": null,
            "visibility": null,
            "width": null
          }
        }
      }
    }
  },
  "nbformat": 4,
  "nbformat_minor": 0
}