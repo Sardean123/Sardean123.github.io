{
 "cells": [
  {
   "cell_type": "code",
   "execution_count": 1,
   "id": "6eb841e3",
   "metadata": {},
   "outputs": [],
   "source": [
    "import numpy as np\n",
    "\n",
    "import torch\n",
    "import torch.nn as nn\n",
    "import torch.optim as optim\n",
    "import torch.optim.lr_scheduler as lr_scheduler\n",
    "from torch.utils.data import DataLoader, TensorDataset\n",
    "\n",
    "import matplotlib.pyplot as plt\n",
    "import seaborn as sns\n",
    "\n",
    "import os"
   ]
  },
  {
   "cell_type": "code",
   "execution_count": 2,
   "id": "24a0606d",
   "metadata": {},
   "outputs": [],
   "source": [
    "# Input vectors x are synthetic data intended to simulate the \n",
    "# properties we believe the true underlying features of our task have\n",
    "# We consider each dimension xi to be a \"feature\"\n",
    "# Each one has an associated sparsity Si and importance Ii\n",
    "# We let xi = 0 with probability Si, but it is otherwise\n",
    "# uniformly distributed [0,1]\n",
    "# In practice, we focus on the case where all features have the same\n",
    "# sparsity, Si = S"
   ]
  },
  {
   "cell_type": "code",
   "execution_count": 3,
   "id": "1e82b30a",
   "metadata": {},
   "outputs": [],
   "source": [
    "# Scratch Work:\n",
    "# W = torch.randn(10,100) # 100x100 weight matrix\n",
    "# h = W@x\n",
    "# x.shape, W.shape, h.shape\n",
    "# W_l = nn.Linear(100,10)\n",
    "# h_l = W_l(x.T)\n",
    "# x.T.shape, W_l.weight.shape, h_l.shape\n",
    "# Wt = W.T\n",
    "# W_lt = W_l.weight.T\n",
    "# b = torch.randn(10)\n",
    "# x_prime = Wt@h + b\n",
    "# x_prime_l = W_lt@h_l.T + b\n",
    "# x_prime.shape, x_prime_l.shape, Wt.shape, W_lt.shape, b.shape"
   ]
  },
  {
   "cell_type": "code",
   "execution_count": 4,
   "id": "4ccbe285",
   "metadata": {},
   "outputs": [],
   "source": [
    "# Generate synthetic X data\n",
    "num_points = 1\n",
    "x = torch.rand(num_points,20) # 1 data point, uniformly distributed [0,1]\n",
    "# Sparsity Vector\n",
    "sparsity = 0.5 # arbitrary\n",
    "rand_vec = torch.rand(x.shape)\n",
    "mask = rand_vec <= sparsity\n",
    "x[mask] = 0\n",
    "# Importance vector\n",
    "i = torch.rand(20)"
   ]
  },
  {
   "cell_type": "code",
   "execution_count": 5,
   "id": "71c9aa07",
   "metadata": {},
   "outputs": [],
   "source": [
    "class SimpleLinear(nn.Module):\n",
    "    def __init__(self, in_dim, hidden_dim):\n",
    "        super().__init__()\n",
    "        self.W = nn.Parameter(torch.randn(in_dim, hidden_dim)*0.1) # W = (20,5)\n",
    "\n",
    "    def forward(self, x):\n",
    "        h = x @ self.W\n",
    "        x_prime = h @ self.W.T\n",
    "\n",
    "        # h = x @ self.W # Down Projection from in -> hidden dimensions\n",
    "        # x_prime = h @ self.W.T # Projection back to in_dim\n",
    "        return x_prime\n",
    "    \n",
    "    def get_WWt(self):\n",
    "        return self.W @ self.W.T"
   ]
  },
  {
   "cell_type": "code",
   "execution_count": 6,
   "id": "3c9d02e0",
   "metadata": {},
   "outputs": [
    {
     "data": {
      "text/plain": [
       "torch.Size([1, 20])"
      ]
     },
     "execution_count": 6,
     "metadata": {},
     "output_type": "execute_result"
    }
   ],
   "source": [
    "# Linear Simple Model\n",
    "model_simp = SimpleLinear(20,5)\n",
    "x_prime_simp = model_simp(x)\n",
    "x_prime_simp.shape"
   ]
  },
  {
   "cell_type": "code",
   "execution_count": 25,
   "id": "9bdb56fb",
   "metadata": {},
   "outputs": [],
   "source": [
    "class ReLUModel(nn.Module):\n",
    "    def __init__(self, in_dim, hidden_dim):\n",
    "        super().__init__()\n",
    "        self.W = nn.Parameter(torch.randn(in_dim, hidden_dim)*0.1) # W = (20,5)\n",
    "        self.relu = nn.ReLU()\n",
    "\n",
    "    def forward(self, x):\n",
    "        # h = x @ self.W # Down Projection from in -> hidden dimensions\n",
    "        # x_prime = h @ self.W.T # Projection back to in_dim\n",
    "        # print(f\"W shape: {self.W.shape}\")\n",
    "\n",
    "        h = x @ self.W\n",
    "        x_prime = h @ self.W.T\n",
    "        x_prime = self.relu(x_prime)\n",
    "        return x_prime\n",
    "    \n",
    "    def get_WWt(self):\n",
    "        return self.W @ self.W.T"
   ]
  },
  {
   "cell_type": "code",
   "execution_count": 26,
   "id": "20e0cc18",
   "metadata": {},
   "outputs": [
    {
     "data": {
      "text/plain": [
       "torch.Size([1, 20])"
      ]
     },
     "execution_count": 26,
     "metadata": {},
     "output_type": "execute_result"
    }
   ],
   "source": [
    "# Linear Simple Model\n",
    "model_simp = SimpleLinear(20,5)\n",
    "x_prime_simp = model_simp(x)\n",
    "x_prime_simp.shape"
   ]
  },
  {
   "cell_type": "code",
   "execution_count": 27,
   "id": "537f7335",
   "metadata": {},
   "outputs": [
    {
     "data": {
      "text/plain": [
       "torch.Size([1, 20])"
      ]
     },
     "execution_count": 27,
     "metadata": {},
     "output_type": "execute_result"
    }
   ],
   "source": [
    "# ReLU Model\n",
    "model_relu = ReLUModel(20,5)\n",
    "x_prime_relu = model_relu(x)\n",
    "x_prime_relu.shape"
   ]
  },
  {
   "cell_type": "code",
   "execution_count": 28,
   "id": "f7bdc4f7",
   "metadata": {},
   "outputs": [
    {
     "data": {
      "text/plain": [
       "(tensor(0.0794, grad_fn=<MseLossBackward0>),\n",
       " tensor(0.0789, grad_fn=<MseLossBackward0>))"
      ]
     },
     "execution_count": 28,
     "metadata": {},
     "output_type": "execute_result"
    }
   ],
   "source": [
    "# Losses\n",
    "mse_loss = nn.MSELoss()\n",
    "loss_simp = mse_loss(x_prime_simp, x)\n",
    "loss_relu = mse_loss(x_prime_relu, x)\n",
    "loss_simp, loss_relu"
   ]
  },
  {
   "cell_type": "code",
   "execution_count": 29,
   "id": "6e18a909",
   "metadata": {},
   "outputs": [],
   "source": [
    "# Importance-Weighted Losses\n",
    "def weighted_loss(predicted, x, importance):\n",
    "\n",
    "    squared_errors = (predicted - x)**2\n",
    "    weighted = importance*squared_errors\n",
    "    total_loss = torch.sum(weighted)\n",
    "    return total_loss"
   ]
  },
  {
   "cell_type": "code",
   "execution_count": 30,
   "id": "02dd763f",
   "metadata": {},
   "outputs": [],
   "source": [
    "def train(model, trainloder, valloader, importance, opt, scheduler, epoch_mod=1, epochs=5):\n",
    "    train_losses = []\n",
    "    val_losses = []\n",
    "\n",
    "    for epoch in range(epochs):\n",
    "        # print(f\"Epoch: {epoch}\")\n",
    "        model.train()\n",
    "        epoch_train_loss = 0\n",
    "        epoch_val_loss = 0\n",
    "\n",
    "        train_batches = 0\n",
    "        val_batches = 0\n",
    "\n",
    "        for x, _ in trainloder:\n",
    "            optimizer.zero_grad()\n",
    "            output = model(x)\n",
    "            loss = weighted_loss(output, x, importance)\n",
    "\n",
    "            loss.backward()\n",
    "            opt.step()\n",
    "            scheduler.step()\n",
    "\n",
    "            epoch_train_loss += loss.item()\n",
    "            train_batches += 1\n",
    "\n",
    "        with torch.no_grad():\n",
    "            model.eval()\n",
    "            for xv, _ in valloader:\n",
    "                val_output = model(xv)\n",
    "                val_loss = weighted_loss(val_output, xv, importance)\n",
    "                epoch_val_loss += val_loss.item()\n",
    "                val_batches += 1\n",
    "\n",
    "        avg_train_loss = epoch_train_loss / train_batches\n",
    "        avg_val_loss = epoch_val_loss / val_batches\n",
    "        \n",
    "        train_losses.append(avg_train_loss)\n",
    "        val_losses.append(avg_val_loss)\n",
    "        \n",
    "        if epoch % epoch_mod == 0:\n",
    "            print(f\"Epoch {epoch}: Train Loss = {avg_train_loss:.4f}, Val Loss = {avg_val_loss:.4f}\")\n",
    "\n",
    "    return model, train_losses, val_losses\n"
   ]
  },
  {
   "cell_type": "code",
   "execution_count": 31,
   "id": "d443e7ac",
   "metadata": {},
   "outputs": [],
   "source": [
    "# Generate full X data\n",
    "num_points = 10000\n",
    "X_dim = 20\n",
    "X = torch.rand(num_points,X_dim) # 10000 data points, uniformly distributed [0,1]\n",
    "\n",
    "# Sparsity Vector\n",
    "sparsity = 0.5 # arbitrary\n",
    "rand_vec = torch.rand(X.shape)\n",
    "mask = rand_vec <= sparsity\n",
    "X[mask] = 0\n",
    "\n",
    "# Importance vector\n",
    "importance = torch.rand(X_dim)\n",
    "\n",
    "# Train-Val Split\n",
    "train_ratio = 0.9\n",
    "n_train = int(num_points*train_ratio)\n",
    "X_train = X[:n_train]\n",
    "X_val = X[n_train:]\n",
    "\n",
    "# DataLoader\n",
    "batch_size = 32\n",
    "train_data = TensorDataset(X_train, X_train)\n",
    "val_data = TensorDataset(X_val, X_val)\n",
    "trainloader = DataLoader(train_data, batch_size=batch_size, shuffle=False)\n",
    "valloader = DataLoader(val_data, batch_size=batch_size, shuffle=False)"
   ]
  },
  {
   "cell_type": "code",
   "execution_count": 32,
   "id": "a79aed3c",
   "metadata": {},
   "outputs": [],
   "source": [
    "# Model initialization:\n",
    "low_dim = 5\n",
    "model_simp = SimpleLinear(X_dim,low_dim)\n",
    "model_relu = ReLUModel(X_dim, low_dim)"
   ]
  },
  {
   "cell_type": "code",
   "execution_count": 33,
   "id": "837e0cbb",
   "metadata": {},
   "outputs": [
    {
     "name": "stdout",
     "output_type": "stream",
     "text": [
      "Linear Model:\n",
      "Epoch 0: Train Loss = 20.3490, Val Loss = 19.3314\n",
      "ReLU Model:\n",
      "Epoch 0: Train Loss = 46.6346, Val Loss = 45.6634\n"
     ]
    }
   ],
   "source": [
    "lr = 0.1\n",
    "n_params = model_simp.parameters()\n",
    "optimizer = optim.Adam(n_params, lr=lr)\n",
    "scheduler = lr_scheduler.StepLR(optimizer, step_size=30, gamma=0.1)\n",
    "\n",
    "print(\"Linear Model:\")\n",
    "model_simp_trained, simp_tl, simp_vl = train(model_simp, trainloader, valloader, importance, optimizer, scheduler, epochs=1)\n",
    "print(\"ReLU Model:\")\n",
    "model_relu_trained, relu_tl, relu_vl = train(model_relu, trainloader, valloader, importance, optimizer, scheduler, epochs=1)"
   ]
  },
  {
   "cell_type": "code",
   "execution_count": 34,
   "id": "6a965d10",
   "metadata": {},
   "outputs": [],
   "source": [
    "def weight_heatmap(model,cmap='coolwarm', ax=None):\n",
    "    WtW = model.get_WWt()\n",
    "    WtW = torch.detach(WtW).numpy()\n",
    "\n",
    "    if ax is None:\n",
    "        ax = plt.gca()\n",
    "\n",
    "    sns.heatmap(WtW, cmap=cmap, ax=ax)\n",
    "    return ax"
   ]
  },
  {
   "cell_type": "code",
   "execution_count": 35,
   "id": "8775ede0",
   "metadata": {},
   "outputs": [
    {
     "data": {
      "image/png": "[encoded data removed]",
      "text/plain": [
       "<Figure size 700x300 with 4 Axes>"
      ]
     },
     "metadata": {},
     "output_type": "display_data"
    }
   ],
   "source": [
    "fig, (ax1, ax2) = plt.subplots(1, 2, figsize=(7, 3))\n",
    "\n",
    "weight_heatmap(model_simp_trained, ax=ax1)\n",
    "weight_heatmap(model_relu_trained, ax=ax2)\n",
    "\n",
    "ax1.set_title('Linear Weights')\n",
    "ax2.set_title('ReLU Weights')\n",
    "\n",
    "plt.tight_layout()\n",
    "plt.show() "
   ]
  },
  {
   "cell_type": "code",
   "execution_count": 37,
   "id": "a9bdfddf",
   "metadata": {},
   "outputs": [
    {
     "data": {
      "text/plain": [
       "tensor(0.8048, grad_fn=<MaxBackward1>)"
      ]
     },
     "execution_count": 37,
     "metadata": {},
     "output_type": "execute_result"
    }
   ],
   "source": [
    "torch.max(model_simp_trained.W)"
   ]
  },
  {
   "cell_type": "code",
   "execution_count": 38,
   "id": "f5034c52",
   "metadata": {},
   "outputs": [
    {
     "data": {
      "text/plain": [
       "tensor(0.1945, grad_fn=<MaxBackward1>)"
      ]
     },
     "execution_count": 38,
     "metadata": {},
     "output_type": "execute_result"
    }
   ],
   "source": [
    "torch.max(model_relu_trained.W)"
   ]
  },
  {
   "cell_type": "code",
   "execution_count": 39,
   "id": "953b7ac1",
   "metadata": {},
   "outputs": [],
   "source": [
    "def generate_importance_vector(n_features, decay_factor=0.7):\n",
    "\n",
    "    i_indices = torch.arange(n_features)  # [0, 1, 2, ..., n_features-1]\n",
    "    importance = decay_factor ** i_indices\n",
    "    \n",
    "    return importance"
   ]
  },
  {
   "cell_type": "code",
   "execution_count": 41,
   "id": "3a2bd904",
   "metadata": {},
   "outputs": [],
   "source": [
    "def generate_sparse_data(sparsity, X_dim, num_points, train_ratio, decay, batch_size):\n",
    "\n",
    "    # Generate full X data\n",
    "    X = torch.rand(num_points, X_dim) # uniformly distributed [0,1]\n",
    "\n",
    "    # Sparsity Vector\n",
    "    rand_vec = torch.rand(X.shape)\n",
    "    mask = rand_vec <= sparsity\n",
    "    X[mask] = 0\n",
    "\n",
    "    # Importance vector\n",
    "    importance = generate_importance_vector(X_dim, decay)\n",
    "\n",
    "    # Train-Val Split\n",
    "    n_train = int(num_points*train_ratio)\n",
    "    X_train = X[:n_train]\n",
    "    X_val = X[n_train:]\n",
    "\n",
    "    # DataLoader\n",
    "    train_data = TensorDataset(X_train, X_train)\n",
    "    val_data = TensorDataset(X_val, X_val)\n",
    "    trainloader = DataLoader(train_data, batch_size=batch_size, shuffle=False)\n",
    "    valloader = DataLoader(val_data, batch_size=batch_size, shuffle=False)\n",
    "\n",
    "    return X, importance, train_data, val_data, trainloader, valloader"
   ]
  },
  {
   "cell_type": "markdown",
   "id": "01d9307a",
   "metadata": {},
   "source": [
    "***Linear Model Training***"
   ]
  },
  {
   "cell_type": "code",
   "execution_count": 44,
   "id": "525b3373",
   "metadata": {},
   "outputs": [],
   "source": [
    "# Hyperparameters:\n",
    "low_dim = 5\n",
    "X_dim = 20\n",
    "decay = 0.7\n",
    "num_points = 10000\n",
    "train_ratio = 0.9\n",
    "batch_size = 32\n",
    "lr = 1e-3\n",
    "n_params = model_simp.parameters()\n",
    "optimizer = optim.Adam(n_params, lr=lr)"
   ]
  },
  {
   "cell_type": "code",
   "execution_count": 51,
   "id": "231dfd40",
   "metadata": {},
   "outputs": [
    {
     "name": "stdout",
     "output_type": "stream",
     "text": [
      "Epoch 0: Train Loss = 0.0334, Val Loss = 0.0346\n",
      "Epoch 1: Train Loss = 0.0334, Val Loss = 0.0346\n",
      "Epoch 2: Train Loss = 0.0334, Val Loss = 0.0346\n",
      "Epoch 3: Train Loss = 0.0334, Val Loss = 0.0346\n",
      "Epoch 4: Train Loss = 0.0334, Val Loss = 0.0346\n",
      "Epoch 5: Train Loss = 0.0334, Val Loss = 0.0346\n",
      "Epoch 6: Train Loss = 0.0334, Val Loss = 0.0346\n",
      "Epoch 7: Train Loss = 0.0334, Val Loss = 0.0346\n",
      "Epoch 8: Train Loss = 0.0334, Val Loss = 0.0346\n",
      "Epoch 9: Train Loss = 0.0334, Val Loss = 0.0346\n",
      "Epoch 10: Train Loss = 0.0334, Val Loss = 0.0346\n",
      "Epoch 11: Train Loss = 0.0334, Val Loss = 0.0346\n",
      "Epoch 12: Train Loss = 0.0334, Val Loss = 0.0346\n",
      "Epoch 13: Train Loss = 0.0334, Val Loss = 0.0346\n",
      "Epoch 14: Train Loss = 0.0334, Val Loss = 0.0346\n",
      "Epoch 15: Train Loss = 0.0334, Val Loss = 0.0346\n",
      "Epoch 16: Train Loss = 0.0334, Val Loss = 0.0346\n",
      "Epoch 17: Train Loss = 0.0334, Val Loss = 0.0346\n",
      "Epoch 18: Train Loss = 0.0334, Val Loss = 0.0346\n",
      "Epoch 19: Train Loss = 0.0334, Val Loss = 0.0346\n"
     ]
    }
   ],
   "source": [
    "linear_model = SimpleLinear(X_dim, low_dim)\n",
    "\n",
    "X, imp, train_data, val_data, trainloader, valloader = generate_sparse_data(sparsity, X_dim, num_points, train_ratio, decay, batch_size)\n",
    "\n",
    "linear_model, linear_tl, linear_vl = train(linear_model, trainloader, valloader, imp, optimizer, scheduler, epochs=20)\n",
    "\n",
    "torch.save(linear_model.state_dict(), f'saved_models/linear_model.pth')"
   ]
  },
  {
   "cell_type": "markdown",
   "id": "e448c715",
   "metadata": {},
   "source": [
    "***ReLU Model Training***"
   ]
  },
  {
   "cell_type": "code",
   "execution_count": 52,
   "id": "1f6329ac",
   "metadata": {},
   "outputs": [
    {
     "name": "stdout",
     "output_type": "stream",
     "text": [
      "Sparisty: 0\n",
      "Epoch 0: Train Loss = 28.6827, Val Loss = 27.8383\n",
      "Epoch 1: Train Loss = 28.6827, Val Loss = 27.8383\n",
      "Epoch 2: Train Loss = 28.6827, Val Loss = 27.8383\n",
      "Epoch 3: Train Loss = 28.6827, Val Loss = 27.8383\n",
      "Epoch 4: Train Loss = 28.6827, Val Loss = 27.8383\n",
      "Epoch 5: Train Loss = 28.6827, Val Loss = 27.8383\n",
      "Epoch 6: Train Loss = 28.6827, Val Loss = 27.8383\n",
      "Epoch 7: Train Loss = 28.6827, Val Loss = 27.8383\n",
      "Epoch 8: Train Loss = 28.6827, Val Loss = 27.8383\n",
      "Epoch 9: Train Loss = 28.6827, Val Loss = 27.8383\n",
      "Epoch 10: Train Loss = 28.6827, Val Loss = 27.8383\n",
      "Epoch 11: Train Loss = 28.6827, Val Loss = 27.8383\n",
      "Epoch 12: Train Loss = 28.6827, Val Loss = 27.8383\n",
      "Epoch 13: Train Loss = 28.6827, Val Loss = 27.8383\n",
      "Epoch 14: Train Loss = 28.6827, Val Loss = 27.8383\n",
      "Epoch 15: Train Loss = 28.6827, Val Loss = 27.8383\n",
      "Epoch 16: Train Loss = 28.6827, Val Loss = 27.8383\n",
      "Epoch 17: Train Loss = 28.6827, Val Loss = 27.8383\n",
      "Epoch 18: Train Loss = 28.6827, Val Loss = 27.8383\n",
      "Epoch 19: Train Loss = 28.6827, Val Loss = 27.8383\n",
      "Sparisty: 0.7\n",
      "Epoch 0: Train Loss = 9.6213, Val Loss = 9.1541\n",
      "Epoch 1: Train Loss = 9.6213, Val Loss = 9.1541\n",
      "Epoch 2: Train Loss = 9.6213, Val Loss = 9.1541\n",
      "Epoch 3: Train Loss = 9.6213, Val Loss = 9.1541\n",
      "Epoch 4: Train Loss = 9.6213, Val Loss = 9.1541\n",
      "Epoch 5: Train Loss = 9.6213, Val Loss = 9.1541\n",
      "Epoch 6: Train Loss = 9.6213, Val Loss = 9.1541\n",
      "Epoch 7: Train Loss = 9.6213, Val Loss = 9.1541\n",
      "Epoch 8: Train Loss = 9.6213, Val Loss = 9.1541\n",
      "Epoch 9: Train Loss = 9.6213, Val Loss = 9.1541\n",
      "Epoch 10: Train Loss = 9.6213, Val Loss = 9.1541\n",
      "Epoch 11: Train Loss = 9.6213, Val Loss = 9.1541\n",
      "Epoch 12: Train Loss = 9.6213, Val Loss = 9.1541\n",
      "Epoch 13: Train Loss = 9.6213, Val Loss = 9.1541\n",
      "Epoch 14: Train Loss = 9.6213, Val Loss = 9.1541\n",
      "Epoch 15: Train Loss = 9.6213, Val Loss = 9.1541\n",
      "Epoch 16: Train Loss = 9.6213, Val Loss = 9.1541\n",
      "Epoch 17: Train Loss = 9.6213, Val Loss = 9.1541\n",
      "Epoch 18: Train Loss = 9.6213, Val Loss = 9.1541\n",
      "Epoch 19: Train Loss = 9.6213, Val Loss = 9.1541\n",
      "Sparisty: 0.9\n",
      "Epoch 0: Train Loss = 3.3134, Val Loss = 3.3012\n",
      "Epoch 1: Train Loss = 3.3134, Val Loss = 3.3012\n",
      "Epoch 2: Train Loss = 3.3134, Val Loss = 3.3012\n",
      "Epoch 3: Train Loss = 3.3134, Val Loss = 3.3012\n",
      "Epoch 4: Train Loss = 3.3134, Val Loss = 3.3012\n",
      "Epoch 5: Train Loss = 3.3134, Val Loss = 3.3012\n",
      "Epoch 6: Train Loss = 3.3134, Val Loss = 3.3012\n",
      "Epoch 7: Train Loss = 3.3134, Val Loss = 3.3012\n",
      "Epoch 8: Train Loss = 3.3134, Val Loss = 3.3012\n",
      "Epoch 9: Train Loss = 3.3134, Val Loss = 3.3012\n",
      "Epoch 10: Train Loss = 3.3134, Val Loss = 3.3012\n",
      "Epoch 11: Train Loss = 3.3134, Val Loss = 3.3012\n",
      "Epoch 12: Train Loss = 3.3134, Val Loss = 3.3012\n",
      "Epoch 13: Train Loss = 3.3134, Val Loss = 3.3012\n",
      "Epoch 14: Train Loss = 3.3134, Val Loss = 3.3012\n",
      "Epoch 15: Train Loss = 3.3134, Val Loss = 3.3012\n",
      "Epoch 16: Train Loss = 3.3134, Val Loss = 3.3012\n",
      "Epoch 17: Train Loss = 3.3134, Val Loss = 3.3012\n",
      "Epoch 18: Train Loss = 3.3134, Val Loss = 3.3012\n",
      "Epoch 19: Train Loss = 3.3134, Val Loss = 3.3012\n",
      "Sparisty: 0.97\n",
      "Epoch 0: Train Loss = 0.9120, Val Loss = 0.8122\n",
      "Epoch 1: Train Loss = 0.9120, Val Loss = 0.8122\n",
      "Epoch 2: Train Loss = 0.9120, Val Loss = 0.8122\n",
      "Epoch 3: Train Loss = 0.9120, Val Loss = 0.8122\n",
      "Epoch 4: Train Loss = 0.9120, Val Loss = 0.8122\n",
      "Epoch 5: Train Loss = 0.9120, Val Loss = 0.8122\n",
      "Epoch 6: Train Loss = 0.9120, Val Loss = 0.8122\n",
      "Epoch 7: Train Loss = 0.9120, Val Loss = 0.8122\n",
      "Epoch 8: Train Loss = 0.9120, Val Loss = 0.8122\n",
      "Epoch 9: Train Loss = 0.9120, Val Loss = 0.8122\n",
      "Epoch 10: Train Loss = 0.9120, Val Loss = 0.8122\n",
      "Epoch 11: Train Loss = 0.9120, Val Loss = 0.8122\n",
      "Epoch 12: Train Loss = 0.9120, Val Loss = 0.8122\n",
      "Epoch 13: Train Loss = 0.9120, Val Loss = 0.8122\n",
      "Epoch 14: Train Loss = 0.9120, Val Loss = 0.8122\n",
      "Epoch 15: Train Loss = 0.9120, Val Loss = 0.8122\n",
      "Epoch 16: Train Loss = 0.9120, Val Loss = 0.8122\n",
      "Epoch 17: Train Loss = 0.9120, Val Loss = 0.8122\n",
      "Epoch 18: Train Loss = 0.9120, Val Loss = 0.8122\n",
      "Epoch 19: Train Loss = 0.9120, Val Loss = 0.8122\n",
      "Sparisty: 0.99\n",
      "Epoch 0: Train Loss = 0.3131, Val Loss = 0.3392\n",
      "Epoch 1: Train Loss = 0.3131, Val Loss = 0.3392\n",
      "Epoch 2: Train Loss = 0.3131, Val Loss = 0.3392\n",
      "Epoch 3: Train Loss = 0.3131, Val Loss = 0.3392\n",
      "Epoch 4: Train Loss = 0.3131, Val Loss = 0.3392\n",
      "Epoch 5: Train Loss = 0.3131, Val Loss = 0.3392\n",
      "Epoch 6: Train Loss = 0.3131, Val Loss = 0.3392\n",
      "Epoch 7: Train Loss = 0.3131, Val Loss = 0.3392\n",
      "Epoch 8: Train Loss = 0.3131, Val Loss = 0.3392\n",
      "Epoch 9: Train Loss = 0.3131, Val Loss = 0.3392\n",
      "Epoch 10: Train Loss = 0.3131, Val Loss = 0.3392\n",
      "Epoch 11: Train Loss = 0.3131, Val Loss = 0.3392\n",
      "Epoch 12: Train Loss = 0.3131, Val Loss = 0.3392\n",
      "Epoch 13: Train Loss = 0.3131, Val Loss = 0.3392\n",
      "Epoch 14: Train Loss = 0.3131, Val Loss = 0.3392\n",
      "Epoch 15: Train Loss = 0.3131, Val Loss = 0.3392\n",
      "Epoch 16: Train Loss = 0.3131, Val Loss = 0.3392\n",
      "Epoch 17: Train Loss = 0.3131, Val Loss = 0.3392\n",
      "Epoch 18: Train Loss = 0.3131, Val Loss = 0.3392\n",
      "Epoch 19: Train Loss = 0.3131, Val Loss = 0.3392\n",
      "Sparisty: 0.997\n",
      "Epoch 0: Train Loss = 0.1029, Val Loss = 0.0963\n",
      "Epoch 1: Train Loss = 0.1029, Val Loss = 0.0963\n",
      "Epoch 2: Train Loss = 0.1029, Val Loss = 0.0963\n",
      "Epoch 3: Train Loss = 0.1029, Val Loss = 0.0963\n",
      "Epoch 4: Train Loss = 0.1029, Val Loss = 0.0963\n",
      "Epoch 5: Train Loss = 0.1029, Val Loss = 0.0963\n",
      "Epoch 6: Train Loss = 0.1029, Val Loss = 0.0963\n",
      "Epoch 7: Train Loss = 0.1029, Val Loss = 0.0963\n",
      "Epoch 8: Train Loss = 0.1029, Val Loss = 0.0963\n",
      "Epoch 9: Train Loss = 0.1029, Val Loss = 0.0963\n",
      "Epoch 10: Train Loss = 0.1029, Val Loss = 0.0963\n",
      "Epoch 11: Train Loss = 0.1029, Val Loss = 0.0963\n",
      "Epoch 12: Train Loss = 0.1029, Val Loss = 0.0963\n",
      "Epoch 13: Train Loss = 0.1029, Val Loss = 0.0963\n",
      "Epoch 14: Train Loss = 0.1029, Val Loss = 0.0963\n",
      "Epoch 15: Train Loss = 0.1029, Val Loss = 0.0963\n",
      "Epoch 16: Train Loss = 0.1029, Val Loss = 0.0963\n",
      "Epoch 17: Train Loss = 0.1029, Val Loss = 0.0963\n",
      "Epoch 18: Train Loss = 0.1029, Val Loss = 0.0963\n",
      "Epoch 19: Train Loss = 0.1029, Val Loss = 0.0963\n",
      "Sparisty: 0.999\n",
      "Epoch 0: Train Loss = 0.0374, Val Loss = 0.0253\n",
      "Epoch 1: Train Loss = 0.0374, Val Loss = 0.0253\n",
      "Epoch 2: Train Loss = 0.0374, Val Loss = 0.0253\n",
      "Epoch 3: Train Loss = 0.0374, Val Loss = 0.0253\n",
      "Epoch 4: Train Loss = 0.0374, Val Loss = 0.0253\n",
      "Epoch 5: Train Loss = 0.0374, Val Loss = 0.0253\n",
      "Epoch 6: Train Loss = 0.0374, Val Loss = 0.0253\n",
      "Epoch 7: Train Loss = 0.0374, Val Loss = 0.0253\n",
      "Epoch 8: Train Loss = 0.0374, Val Loss = 0.0253\n",
      "Epoch 9: Train Loss = 0.0374, Val Loss = 0.0253\n",
      "Epoch 10: Train Loss = 0.0374, Val Loss = 0.0253\n",
      "Epoch 11: Train Loss = 0.0374, Val Loss = 0.0253\n",
      "Epoch 12: Train Loss = 0.0374, Val Loss = 0.0253\n",
      "Epoch 13: Train Loss = 0.0374, Val Loss = 0.0253\n",
      "Epoch 14: Train Loss = 0.0374, Val Loss = 0.0253\n",
      "Epoch 15: Train Loss = 0.0374, Val Loss = 0.0253\n",
      "Epoch 16: Train Loss = 0.0374, Val Loss = 0.0253\n",
      "Epoch 17: Train Loss = 0.0374, Val Loss = 0.0253\n",
      "Epoch 18: Train Loss = 0.0374, Val Loss = 0.0253\n",
      "Epoch 19: Train Loss = 0.0374, Val Loss = 0.0253\n"
     ]
    }
   ],
   "source": [
    "sparsity_values = [0, 0.7, 0.9, 0.97, 0.99, 0.997, 0.999]\n",
    "\n",
    "relu_model0 = ReLUModel(X_dim, low_dim)\n",
    "relu_model1 = ReLUModel(X_dim, low_dim)\n",
    "relu_model25 = ReLUModel(X_dim, low_dim)\n",
    "relu_model5 = ReLUModel(X_dim, low_dim)\n",
    "relu_model75 = ReLUModel(X_dim, low_dim)\n",
    "relu_model9 = ReLUModel(X_dim, low_dim)\n",
    "relu_model10 = ReLUModel(X_dim, low_dim)\n",
    "\n",
    "models = [relu_model0, relu_model1, relu_model25, relu_model5, relu_model75, relu_model9, relu_model10]\n",
    "\n",
    "for i, sparsity in enumerate(sparsity_values):\n",
    "    print(f'Sparisty: {sparsity}')\n",
    "    X, imp, train_data, val_data, trainloader, valloader = generate_sparse_data(sparsity, X_dim, num_points, train_ratio, decay, batch_size)\n",
    "\n",
    "    models[i], train_loss, val_loss = train(models[i], trainloader, valloader, imp, optimizer, scheduler, epochs=20)\n",
    "\n",
    "    torch.save(models[i].state_dict(), f'saved_models/relu{sparsity}.pth')\n",
    "    "
   ]
  },
  {
   "cell_type": "code",
   "execution_count": 53,
   "id": "018c2600",
   "metadata": {},
   "outputs": [
    {
     "data": {
      "image/png": "[encoded data removed]",
      "text/plain": [
       "<Figure size 640x480 with 2 Axes>"
      ]
     },
     "metadata": {},
     "output_type": "display_data"
    }
   ],
   "source": [
    "# Linear Model:\n",
    "weight_heatmap(linear_model, cmap='coolwarm')\n",
    "plt.title('Linear Model')\n",
    "plt.show()"
   ]
  },
  {
   "cell_type": "code",
   "execution_count": 54,
   "id": "c93a817d",
   "metadata": {},
   "outputs": [
    {
     "data": {
      "image/png": "[encoded data removed]",
      "text/plain": [
       "<Figure size 1000x400 with 15 Axes>"
      ]
     },
     "metadata": {},
     "output_type": "display_data"
    }
   ],
   "source": [
    "fig, axes = plt.subplots(2, 4, figsize=(10, 4))\n",
    "axes = axes.flatten()  # Convert 2D array to 1D for easy indexing\n",
    "\n",
    "for i, (model, sparsity) in enumerate(zip(models, sparsity_values)):\n",
    "    weight_heatmap(model, cmap='coolwarm', ax=axes[i])\n",
    "    axes[i].set_title(f'Sparsity: {sparsity}')\n",
    "\n",
    "# Hide the empty subplot\n",
    "axes[7].set_visible(False)\n",
    "\n",
    "plt.tight_layout()\n",
    "plt.show()"
   ]
  },
  {
   "cell_type": "code",
   "execution_count": null,
   "id": "47f96981",
   "metadata": {},
   "outputs": [
    {
     "name": "stdout",
     "output_type": "stream",
     "text": [
      "The directory 'saved_models' exists.\n"
     ]
    }
   ],
   "source": [
    "def superposition():"
   ]
  },
  {
   "cell_type": "code",
   "execution_count": null,
   "id": "bc8bc90f",
   "metadata": {},
   "outputs": [],
   "source": []
  }
 ],
 "metadata": {
  "kernelspec": {
   "display_name": ".venv (3.13.1)",
   "language": "python",
   "name": "python3"
  },
  "language_info": {
   "codemirror_mode": {
    "name": "ipython",
    "version": 3
   },
   "file_extension": ".py",
   "mimetype": "text/x-python",
   "name": "python",
   "nbconvert_exporter": "python",
   "pygments_lexer": "ipython3",
   "version": "3.13.1"
  }
 },
 "nbformat": 4,
 "nbformat_minor": 5
}
